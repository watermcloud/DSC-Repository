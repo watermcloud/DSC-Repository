{
  "nbformat": 4,
  "nbformat_minor": 0,
  "metadata": {
    "colab": {
      "provenance": []
    },
    "kernelspec": {
      "name": "python3",
      "display_name": "Python 3"
    },
    "language_info": {
      "name": "python"
    }
  },
  "cells": [
    {
      "cell_type": "markdown",
      "source": [
        "# Studi Kasus 1:\n",
        "## Prediction\n",
        "\n",
        "Ada sebuah perusahaan yang menjual produk makanan ringan. Perusahaan tersebut ingin mengetahui faktor-faktor apa aja yang mempengaruhi penjualan produk mereka, sehingga mereka dapat meningkatkan penjualan di masa depan.\n",
        "\n",
        "Perusahaan tersebut melakukan survei terhadap 5 toko yang menjual produk makanan ringan mereka. Mereka mengumpulkan data tentang biaya iklan, harga produk, dan jumlah penjualan produk per bulan di setiap toko selama 5 bulan terakhir."
      ],
      "metadata": {
        "id": "Rmppt3cjgnhs"
      }
    },
    {
      "cell_type": "markdown",
      "source": [
        "Diberikan data dummy suvery sebagai berikut:\n",
        "\n",
        "\n",
        "```markdown\n",
        "Biaya iklan (ribu)  | Harga (Rp)        penjualan\n",
        "--------------------|-----------------|------------------\n",
        "100                 | 5000            | 50\n",
        "200                 | 8000            | 70\n",
        "300                 | 100000          | 90\n",
        "400                 | 12000           | 110\n",
        "500                 | 15000           | 130\n",
        "```\n",
        "\n",
        "Untuk menganalisis faktor-faktor yang mempengaruhi penjualan produk, kita dapat menggunakan regresi linear. \n",
        "\n",
        "\n",
        "Jadiii.. implementasi aljabar linear disini untuk melakukan apa?"
      ],
      "metadata": {
        "id": "SgaLMVlay2Ei"
      }
    },
    {
      "cell_type": "code",
      "source": [
        "# pertama, kita mengkonversi data tersebut ke bentuk matriks menggunakan numpy\n",
        "# koefisien\n",
        "# Rumus\n",
        "# y = b0 + m1x1 ... + mnxn\n",
        "import numpy as np\n",
        "\n",
        "X = np.array([[1, 100, 5000], \n",
        "              [1, 200, 8000], \n",
        "              [1, 300, 100000], \n",
        "              [1, 400, 12000], \n",
        "              [1, 500, 15000]])\n",
        "\n",
        "y = np.array([50, 70, 90, 110, 130])"
      ],
      "metadata": {
        "id": "yBlfLyUif_7s"
      },
      "execution_count": null,
      "outputs": []
    },
    {
      "cell_type": "code",
      "source": [
        "X"
      ],
      "metadata": {
        "colab": {
          "base_uri": "https://localhost:8080/"
        },
        "id": "CE6fKkL68j1t",
        "outputId": "132cdc59-794e-4862-e65c-a641d1d2f7db"
      },
      "execution_count": null,
      "outputs": [
        {
          "output_type": "execute_result",
          "data": {
            "text/plain": [
              "array([[     1,    100,   5000],\n",
              "       [     1,    200,   8000],\n",
              "       [     1,    300, 100000],\n",
              "       [     1,    400,  12000],\n",
              "       [     1,    500,  15000]])"
            ]
          },
          "metadata": {},
          "execution_count": 2
        }
      ]
    },
    {
      "cell_type": "code",
      "source": [
        "y"
      ],
      "metadata": {
        "colab": {
          "base_uri": "https://localhost:8080/"
        },
        "id": "jmerXxJR8liS",
        "outputId": "07a408fe-ffa4-4022-d02a-7e4d00bb1fe7"
      },
      "execution_count": null,
      "outputs": [
        {
          "output_type": "execute_result",
          "data": {
            "text/plain": [
              "array([ 50,  70,  90, 110, 130])"
            ]
          },
          "metadata": {},
          "execution_count": 3
        }
      ]
    },
    {
      "cell_type": "code",
      "source": [
        "prediksi = np.linalg.inv(X.T @ X) @ X.T @ y"
      ],
      "metadata": {
        "id": "aNHUxEycmDeP"
      },
      "execution_count": null,
      "outputs": []
    },
    {
      "cell_type": "markdown",
      "source": [
        "Kita dapat menggunakan koefisien beta yang telah ditemukan untuk memprediksi penjualan di masa depan. Misalkan perusahaan ingin mengetahui prediksi penjualan jika mereka menghabiskan biaya iklan sebesar 600 ribu dan menetapkan harga produk sebesar 7000 rupiah:"
      ],
      "metadata": {
        "id": "i6awOFjTmK4a"
      }
    },
    {
      "cell_type": "code",
      "source": [
        "X_new = np.array([1, 600, 7000])\n",
        "y_pred = X_new @ prediksi\n",
        "print(\"prediksi penjukan di masa depan dengan iklan 600rb dan 7000 harga produk adalah:\", round(y_pred, 2))"
      ],
      "metadata": {
        "colab": {
          "base_uri": "https://localhost:8080/"
        },
        "id": "N3NX093JmLzX",
        "outputId": "7411e6f9-6086-4793-fa34-f43549179789"
      },
      "execution_count": null,
      "outputs": [
        {
          "output_type": "stream",
          "name": "stdout",
          "text": [
            "prediksi penjukan di masa depan dengan iklan 600rb dan 7000 harga produk adalah: 150.0\n"
          ]
        }
      ]
    },
    {
      "cell_type": "markdown",
      "source": [
        "Prediksi penjualan 150 unit / bulan"
      ],
      "metadata": {
        "id": "rbPlYmvsmvhj"
      }
    },
    {
      "cell_type": "markdown",
      "source": [
        "# Studi Kasus 2:\n",
        "## Reduction Dimentionality\n",
        "\n",
        "Sebuah perusahaan e-commerce ingin melakukan analisis terhadap perilaku pembelian pengguna pada situs mereka. Untuk itu, perusahaan tersebut mengumpulkan data tentang produk yang dibeli oleh pengguna dalam rentang waktu tertentu. Data tersebut berisi informasi tentang produk yang dibeli, jumlah produk yang dibeli, harga produk, dan nilai total transaksi.\n",
        "\n",
        "Namun, karena jumlah data yang sangat besar, perusahaan kesulitan untuk menganalisis data tersebut secara efisien. \n",
        "\n",
        "\n",
        "> Jadiii... untuk solve kasus ini kita harus menggunakan aljabar linear. Aljabar Linear untuk hal apa?? \n",
        "\n",
        "menggunakan teknik reduksi dimensi untuk mengurangi kompleksitas data dan memudahkan analisis.\n",
        "\n",
        "Berikut ini adalah contoh data pembelian produk dari beberapa pengguna:\n",
        "\n",
        "\n",
        "| Pengguna | Produk 1 | Produk 2 | Produk 3 | Jumlah Produk | Harga Produk | Total Transaksi |\n",
        "| --- | --- | --- | --- | --- | --- | --- |\n",
        "| Fuguh | 1 | 0 | 1 | 2 | 20000 | 40000 |\n",
        "| Awan | 0 | 1 | 1 | 2 | 25000 | 50000 |\n",
        "| Yogi | 1 | 1 | 0 | 2 | 22000 | 44000 |\n",
        "| Alam | 0 | 1 | 0 | 1 | 20000 | 20000 |\n",
        "| Tony | 1 | 0 | 0 | 1 | 15000 | 15000 |\n",
        "\n",
        "Dalam kasus ini, kita dapat menggunakan teknik PCA (Principal Component Analysis) untuk mengurangi dimensi data dan memudahkan analisis. PCA akan mengubah data yang kompleks menjadi data yang lebih sederhana dengan mempertahankan informasi penting dalam data.\n",
        "\n",
        "Pertama-tama, kita dapat mengonversi data tersebut ke dalam bentuk matriks menggunakan array NumPy:"
      ],
      "metadata": {
        "id": "H2OS5r87ogDA"
      }
    },
    {
      "cell_type": "code",
      "source": [
        "import pandas as pd\n",
        "\n",
        "X = np.array([[1, 0, 1, 2, 20000, 40000], \n",
        "             [0, 1, 1, 2, 25000, 50000],\n",
        "             [1, 1, 0, 2, 22000, 44000],\n",
        "             [0, 1, 0, 1, 20000, 20000],\n",
        "             [1, 0, 0, 1, 15000, 15000]])\n",
        "\n",
        "X_dataframe = pd.DataFrame(X)\n",
        "X_dataframe"
      ],
      "metadata": {
        "colab": {
          "base_uri": "https://localhost:8080/",
          "height": 206
        },
        "id": "o3gMUY7gCWYh",
        "outputId": "b495e928-2e6e-4d12-9392-846331364f26"
      },
      "execution_count": null,
      "outputs": [
        {
          "output_type": "execute_result",
          "data": {
            "text/plain": [
              "   0  1  2  3      4      5\n",
              "0  1  0  1  2  20000  40000\n",
              "1  0  1  1  2  25000  50000\n",
              "2  1  1  0  2  22000  44000\n",
              "3  0  1  0  1  20000  20000\n",
              "4  1  0  0  1  15000  15000"
            ],
            "text/html": [
              "\n",
              "  <div id=\"df-c92c948d-1044-43ec-80e9-24885e9768b8\">\n",
              "    <div class=\"colab-df-container\">\n",
              "      <div>\n",
              "<style scoped>\n",
              "    .dataframe tbody tr th:only-of-type {\n",
              "        vertical-align: middle;\n",
              "    }\n",
              "\n",
              "    .dataframe tbody tr th {\n",
              "        vertical-align: top;\n",
              "    }\n",
              "\n",
              "    .dataframe thead th {\n",
              "        text-align: right;\n",
              "    }\n",
              "</style>\n",
              "<table border=\"1\" class=\"dataframe\">\n",
              "  <thead>\n",
              "    <tr style=\"text-align: right;\">\n",
              "      <th></th>\n",
              "      <th>0</th>\n",
              "      <th>1</th>\n",
              "      <th>2</th>\n",
              "      <th>3</th>\n",
              "      <th>4</th>\n",
              "      <th>5</th>\n",
              "    </tr>\n",
              "  </thead>\n",
              "  <tbody>\n",
              "    <tr>\n",
              "      <th>0</th>\n",
              "      <td>1</td>\n",
              "      <td>0</td>\n",
              "      <td>1</td>\n",
              "      <td>2</td>\n",
              "      <td>20000</td>\n",
              "      <td>40000</td>\n",
              "    </tr>\n",
              "    <tr>\n",
              "      <th>1</th>\n",
              "      <td>0</td>\n",
              "      <td>1</td>\n",
              "      <td>1</td>\n",
              "      <td>2</td>\n",
              "      <td>25000</td>\n",
              "      <td>50000</td>\n",
              "    </tr>\n",
              "    <tr>\n",
              "      <th>2</th>\n",
              "      <td>1</td>\n",
              "      <td>1</td>\n",
              "      <td>0</td>\n",
              "      <td>2</td>\n",
              "      <td>22000</td>\n",
              "      <td>44000</td>\n",
              "    </tr>\n",
              "    <tr>\n",
              "      <th>3</th>\n",
              "      <td>0</td>\n",
              "      <td>1</td>\n",
              "      <td>0</td>\n",
              "      <td>1</td>\n",
              "      <td>20000</td>\n",
              "      <td>20000</td>\n",
              "    </tr>\n",
              "    <tr>\n",
              "      <th>4</th>\n",
              "      <td>1</td>\n",
              "      <td>0</td>\n",
              "      <td>0</td>\n",
              "      <td>1</td>\n",
              "      <td>15000</td>\n",
              "      <td>15000</td>\n",
              "    </tr>\n",
              "  </tbody>\n",
              "</table>\n",
              "</div>\n",
              "      <button class=\"colab-df-convert\" onclick=\"convertToInteractive('df-c92c948d-1044-43ec-80e9-24885e9768b8')\"\n",
              "              title=\"Convert this dataframe to an interactive table.\"\n",
              "              style=\"display:none;\">\n",
              "        \n",
              "  <svg xmlns=\"http://www.w3.org/2000/svg\" height=\"24px\"viewBox=\"0 0 24 24\"\n",
              "       width=\"24px\">\n",
              "    <path d=\"M0 0h24v24H0V0z\" fill=\"none\"/>\n",
              "    <path d=\"M18.56 5.44l.94 2.06.94-2.06 2.06-.94-2.06-.94-.94-2.06-.94 2.06-2.06.94zm-11 1L8.5 8.5l.94-2.06 2.06-.94-2.06-.94L8.5 2.5l-.94 2.06-2.06.94zm10 10l.94 2.06.94-2.06 2.06-.94-2.06-.94-.94-2.06-.94 2.06-2.06.94z\"/><path d=\"M17.41 7.96l-1.37-1.37c-.4-.4-.92-.59-1.43-.59-.52 0-1.04.2-1.43.59L10.3 9.45l-7.72 7.72c-.78.78-.78 2.05 0 2.83L4 21.41c.39.39.9.59 1.41.59.51 0 1.02-.2 1.41-.59l7.78-7.78 2.81-2.81c.8-.78.8-2.07 0-2.86zM5.41 20L4 18.59l7.72-7.72 1.47 1.35L5.41 20z\"/>\n",
              "  </svg>\n",
              "      </button>\n",
              "      \n",
              "  <style>\n",
              "    .colab-df-container {\n",
              "      display:flex;\n",
              "      flex-wrap:wrap;\n",
              "      gap: 12px;\n",
              "    }\n",
              "\n",
              "    .colab-df-convert {\n",
              "      background-color: #E8F0FE;\n",
              "      border: none;\n",
              "      border-radius: 50%;\n",
              "      cursor: pointer;\n",
              "      display: none;\n",
              "      fill: #1967D2;\n",
              "      height: 32px;\n",
              "      padding: 0 0 0 0;\n",
              "      width: 32px;\n",
              "    }\n",
              "\n",
              "    .colab-df-convert:hover {\n",
              "      background-color: #E2EBFA;\n",
              "      box-shadow: 0px 1px 2px rgba(60, 64, 67, 0.3), 0px 1px 3px 1px rgba(60, 64, 67, 0.15);\n",
              "      fill: #174EA6;\n",
              "    }\n",
              "\n",
              "    [theme=dark] .colab-df-convert {\n",
              "      background-color: #3B4455;\n",
              "      fill: #D2E3FC;\n",
              "    }\n",
              "\n",
              "    [theme=dark] .colab-df-convert:hover {\n",
              "      background-color: #434B5C;\n",
              "      box-shadow: 0px 1px 3px 1px rgba(0, 0, 0, 0.15);\n",
              "      filter: drop-shadow(0px 1px 2px rgba(0, 0, 0, 0.3));\n",
              "      fill: #FFFFFF;\n",
              "    }\n",
              "  </style>\n",
              "\n",
              "      <script>\n",
              "        const buttonEl =\n",
              "          document.querySelector('#df-c92c948d-1044-43ec-80e9-24885e9768b8 button.colab-df-convert');\n",
              "        buttonEl.style.display =\n",
              "          google.colab.kernel.accessAllowed ? 'block' : 'none';\n",
              "\n",
              "        async function convertToInteractive(key) {\n",
              "          const element = document.querySelector('#df-c92c948d-1044-43ec-80e9-24885e9768b8');\n",
              "          const dataTable =\n",
              "            await google.colab.kernel.invokeFunction('convertToInteractive',\n",
              "                                                     [key], {});\n",
              "          if (!dataTable) return;\n",
              "\n",
              "          const docLinkHtml = 'Like what you see? Visit the ' +\n",
              "            '<a target=\"_blank\" href=https://colab.research.google.com/notebooks/data_table.ipynb>data table notebook</a>'\n",
              "            + ' to learn more about interactive tables.';\n",
              "          element.innerHTML = '';\n",
              "          dataTable['output_type'] = 'display_data';\n",
              "          await google.colab.output.renderOutput(dataTable, element);\n",
              "          const docLink = document.createElement('div');\n",
              "          docLink.innerHTML = docLinkHtml;\n",
              "          element.appendChild(docLink);\n",
              "        }\n",
              "      </script>\n",
              "    </div>\n",
              "  </div>\n",
              "  "
            ]
          },
          "metadata": {},
          "execution_count": 6
        }
      ]
    },
    {
      "cell_type": "code",
      "source": [
        "import numpy as np\n",
        "\n",
        "# konversi data ke numpy\n",
        "X = np.array([[1, 0, 1, 2, 20000, 40000], \n",
        "             [0, 1, 1, 2, 25000, 50000],\n",
        "             [1, 1, 0, 2, 22000, 44000],\n",
        "             [0, 1, 0, 1, 20000, 20000],\n",
        "             [1, 0, 0, 1, 15000, 15000]])"
      ],
      "metadata": {
        "id": "oMI2_sACmisy"
      },
      "execution_count": null,
      "outputs": []
    },
    {
      "cell_type": "code",
      "source": [
        "from sklearn.decomposition import PCA\n",
        "\n",
        "# PCA mau mereduksi menjadi 2 kolom\n",
        "pca = PCA(n_components=2)\n",
        "X_pca = pca.fit_transform(X)\n",
        "\n",
        "print(\"Data setelah di reduksi pakai PCA:\")\n",
        "print(X_pca)"
      ],
      "metadata": {
        "colab": {
          "base_uri": "https://localhost:8080/"
        },
        "id": "-478ySEdA8xG",
        "outputId": "22fd16dd-1755-431a-a9dd-d32893946cf4"
      },
      "execution_count": null,
      "outputs": [
        {
          "output_type": "stream",
          "name": "stdout",
          "text": [
            "Data setelah di reduksi pakai PCA:\n",
            "[[ -5987.55119568  -1658.08066106]\n",
            " [-16798.06641629   1193.71922474]\n",
            " [-10311.7572678    -517.36063606]\n",
            " [ 13590.71282753   2427.45254802]\n",
            " [ 19506.66205223  -1445.73047563]]\n"
          ]
        }
      ]
    },
    {
      "cell_type": "markdown",
      "source": [
        "Dalam contoh ini, digunakan PCA dengan 2 komponen untuk mengurangi dimensi data. Setelah dilakukan reduksi dimensi, kita bisa melihat data baru yang telah direduksi dengan memanggil X_pca.\n",
        "\n",
        "Dengan menggunakan teknik reduksi dimensi seperti PCA, perusahaan dapat memudahkan analisis terhadap data pembelian produk pengguna mereka. Dengan informasi yang telah direduksi, mereka dapat mengidentifikasi pola perilaku pembelian pengguna secara lebih mudah dan cepat."
      ],
      "metadata": {
        "id": "_eSJCrJHqlLU"
      }
    },
    {
      "cell_type": "markdown",
      "source": [
        "# Studi Kasus 3: Perankingan\n",
        "## Studi kasus data matriks"
      ],
      "metadata": {
        "id": "ULDITR6hxeck"
      }
    },
    {
      "cell_type": "markdown",
      "source": [
        "  Perusahaan XYZ ingin membuat sistem perankingan karyawan berdasarkan beberapa kriteria seperti produktivitas, keterampilan, dan kehadiran. Kriteria-kriteria ini akan dinilai dengan skala 1-5, dimana 1 adalah skor terendah dan 5 adalah skor tertinggi.\n",
        "\n",
        "Perusahaan XYZ ingin menghitung skor akhir untuk setiap karyawan dan merangkumnya dalam peringkat. Skor akhir akan dihitung dengan bobot yang berbeda untuk setiap kriteria, yaitu produktivitas (40%), keterampilan (35%), dan kehadiran (25%).\n",
        " \n",
        "Berikut adalah data kinerja karyawan di perusahaan XYZ:\n",
        "\n",
        "| Nama Karyawan | Produktivitas | Keterampilan | Kehadiran |\n",
        "|---------------|---------------|--------------|-----------|\n",
        "| Reny   | 4             | 3            | 5         |\n",
        "| Rahma    | 2             | 4            | 4         |\n",
        "| Lilis    | 5             | 5            | 2         |\n",
        "| Citra    | 3             | 2            | 3         |\n",
        "\n",
        "\n",
        "Untuk melakukan perhitungan peringkat karyawan, kita dapat menggunakan aljabar linear. Pertama, kita dapat mengubah data di atas menjadi matriks sebagai berikut:\n",
        "\n",
        "![matriks 1.png](data:image/png;base64,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)\n",
        "\n",
        " Kemudian, kita dapat menghitung skor akhir setiap karyawan dengan rumus berikut:\n",
        "\n",
        "![matriks 2.png](data:image/png;base64,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)\n",
        "\n"
      ],
      "metadata": {
        "id": "co3c-68iz36C"
      }
    },
    {
      "cell_type": "markdown",
      "source": [
        "implementasikan perhitungan diatas menggunakan Python. Berikut adalah code nya:"
      ],
      "metadata": {
        "id": "9w6wcd87AZge"
      }
    },
    {
      "cell_type": "code",
      "source": [
        "# Studi kasus Matriks\n",
        "import numpy as np\n",
        "\n",
        "# buat matriks M\n",
        "M = np.array([[4, 3, 5],\n",
        "             [2,4,4],\n",
        "             [5,5,2],\n",
        "             [3,2,3]])\n",
        "\n",
        "# buat matriks dari weight atau bobot\n",
        "# y = np.array ([0.4, 0.35, 0.25])\n",
        "y = np.array ([[0.4], [0.35], [0.25]])\n",
        "# y = np.array([[0.4, 0.35, 0.25]])"
      ],
      "metadata": {
        "id": "rFHMIB5WtpW5"
      },
      "execution_count": null,
      "outputs": []
    },
    {
      "cell_type": "code",
      "source": [
        "scoring = np.dot(M, y)"
      ],
      "metadata": {
        "id": "T-onLaO3GU2c"
      },
      "execution_count": null,
      "outputs": []
    },
    {
      "cell_type": "code",
      "source": [
        "scoring"
      ],
      "metadata": {
        "colab": {
          "base_uri": "https://localhost:8080/"
        },
        "id": "oS7Zu8XoG5In",
        "outputId": "a9840c7c-f91e-4137-fb03-1f954ad2cb12"
      },
      "execution_count": null,
      "outputs": [
        {
          "output_type": "execute_result",
          "data": {
            "text/plain": [
              "array([3.9 , 3.2 , 4.25, 2.65])"
            ]
          },
          "metadata": {},
          "execution_count": 12
        }
      ]
    },
    {
      "cell_type": "code",
      "source": [
        "import pandas as pd\n",
        "\n",
        "karyawan = ['Reny', 'Rahma', 'Lilis', 'Citra']\n",
        "df = pd.DataFrame({'Nama Karyawan': karyawan, \n",
        "                   'Skor Akhir': scoring.flatten()})"
      ],
      "metadata": {
        "id": "9hkIaqpvGe5k"
      },
      "execution_count": null,
      "outputs": []
    },
    {
      "cell_type": "code",
      "source": [
        "df"
      ],
      "metadata": {
        "colab": {
          "base_uri": "https://localhost:8080/",
          "height": 175
        },
        "id": "cy8pI8XGGe77",
        "outputId": "caab5c2a-36b9-4fbe-f99a-8e6333a391da"
      },
      "execution_count": null,
      "outputs": [
        {
          "output_type": "execute_result",
          "data": {
            "text/plain": [
              "  Nama Karyawan  Skor Akhir\n",
              "0          Reny        3.90\n",
              "1         Rahma        3.20\n",
              "2         Lilis        4.25\n",
              "3         Citra        2.65"
            ],
            "text/html": [
              "\n",
              "  <div id=\"df-8f5fcbaa-c270-4e49-877c-046497e3f5fe\">\n",
              "    <div class=\"colab-df-container\">\n",
              "      <div>\n",
              "<style scoped>\n",
              "    .dataframe tbody tr th:only-of-type {\n",
              "        vertical-align: middle;\n",
              "    }\n",
              "\n",
              "    .dataframe tbody tr th {\n",
              "        vertical-align: top;\n",
              "    }\n",
              "\n",
              "    .dataframe thead th {\n",
              "        text-align: right;\n",
              "    }\n",
              "</style>\n",
              "<table border=\"1\" class=\"dataframe\">\n",
              "  <thead>\n",
              "    <tr style=\"text-align: right;\">\n",
              "      <th></th>\n",
              "      <th>Nama Karyawan</th>\n",
              "      <th>Skor Akhir</th>\n",
              "    </tr>\n",
              "  </thead>\n",
              "  <tbody>\n",
              "    <tr>\n",
              "      <th>0</th>\n",
              "      <td>Reny</td>\n",
              "      <td>3.90</td>\n",
              "    </tr>\n",
              "    <tr>\n",
              "      <th>1</th>\n",
              "      <td>Rahma</td>\n",
              "      <td>3.20</td>\n",
              "    </tr>\n",
              "    <tr>\n",
              "      <th>2</th>\n",
              "      <td>Lilis</td>\n",
              "      <td>4.25</td>\n",
              "    </tr>\n",
              "    <tr>\n",
              "      <th>3</th>\n",
              "      <td>Citra</td>\n",
              "      <td>2.65</td>\n",
              "    </tr>\n",
              "  </tbody>\n",
              "</table>\n",
              "</div>\n",
              "      <button class=\"colab-df-convert\" onclick=\"convertToInteractive('df-8f5fcbaa-c270-4e49-877c-046497e3f5fe')\"\n",
              "              title=\"Convert this dataframe to an interactive table.\"\n",
              "              style=\"display:none;\">\n",
              "        \n",
              "  <svg xmlns=\"http://www.w3.org/2000/svg\" height=\"24px\"viewBox=\"0 0 24 24\"\n",
              "       width=\"24px\">\n",
              "    <path d=\"M0 0h24v24H0V0z\" fill=\"none\"/>\n",
              "    <path d=\"M18.56 5.44l.94 2.06.94-2.06 2.06-.94-2.06-.94-.94-2.06-.94 2.06-2.06.94zm-11 1L8.5 8.5l.94-2.06 2.06-.94-2.06-.94L8.5 2.5l-.94 2.06-2.06.94zm10 10l.94 2.06.94-2.06 2.06-.94-2.06-.94-.94-2.06-.94 2.06-2.06.94z\"/><path d=\"M17.41 7.96l-1.37-1.37c-.4-.4-.92-.59-1.43-.59-.52 0-1.04.2-1.43.59L10.3 9.45l-7.72 7.72c-.78.78-.78 2.05 0 2.83L4 21.41c.39.39.9.59 1.41.59.51 0 1.02-.2 1.41-.59l7.78-7.78 2.81-2.81c.8-.78.8-2.07 0-2.86zM5.41 20L4 18.59l7.72-7.72 1.47 1.35L5.41 20z\"/>\n",
              "  </svg>\n",
              "      </button>\n",
              "      \n",
              "  <style>\n",
              "    .colab-df-container {\n",
              "      display:flex;\n",
              "      flex-wrap:wrap;\n",
              "      gap: 12px;\n",
              "    }\n",
              "\n",
              "    .colab-df-convert {\n",
              "      background-color: #E8F0FE;\n",
              "      border: none;\n",
              "      border-radius: 50%;\n",
              "      cursor: pointer;\n",
              "      display: none;\n",
              "      fill: #1967D2;\n",
              "      height: 32px;\n",
              "      padding: 0 0 0 0;\n",
              "      width: 32px;\n",
              "    }\n",
              "\n",
              "    .colab-df-convert:hover {\n",
              "      background-color: #E2EBFA;\n",
              "      box-shadow: 0px 1px 2px rgba(60, 64, 67, 0.3), 0px 1px 3px 1px rgba(60, 64, 67, 0.15);\n",
              "      fill: #174EA6;\n",
              "    }\n",
              "\n",
              "    [theme=dark] .colab-df-convert {\n",
              "      background-color: #3B4455;\n",
              "      fill: #D2E3FC;\n",
              "    }\n",
              "\n",
              "    [theme=dark] .colab-df-convert:hover {\n",
              "      background-color: #434B5C;\n",
              "      box-shadow: 0px 1px 3px 1px rgba(0, 0, 0, 0.15);\n",
              "      filter: drop-shadow(0px 1px 2px rgba(0, 0, 0, 0.3));\n",
              "      fill: #FFFFFF;\n",
              "    }\n",
              "  </style>\n",
              "\n",
              "      <script>\n",
              "        const buttonEl =\n",
              "          document.querySelector('#df-8f5fcbaa-c270-4e49-877c-046497e3f5fe button.colab-df-convert');\n",
              "        buttonEl.style.display =\n",
              "          google.colab.kernel.accessAllowed ? 'block' : 'none';\n",
              "\n",
              "        async function convertToInteractive(key) {\n",
              "          const element = document.querySelector('#df-8f5fcbaa-c270-4e49-877c-046497e3f5fe');\n",
              "          const dataTable =\n",
              "            await google.colab.kernel.invokeFunction('convertToInteractive',\n",
              "                                                     [key], {});\n",
              "          if (!dataTable) return;\n",
              "\n",
              "          const docLinkHtml = 'Like what you see? Visit the ' +\n",
              "            '<a target=\"_blank\" href=https://colab.research.google.com/notebooks/data_table.ipynb>data table notebook</a>'\n",
              "            + ' to learn more about interactive tables.';\n",
              "          element.innerHTML = '';\n",
              "          dataTable['output_type'] = 'display_data';\n",
              "          await google.colab.output.renderOutput(dataTable, element);\n",
              "          const docLink = document.createElement('div');\n",
              "          docLink.innerHTML = docLinkHtml;\n",
              "          element.appendChild(docLink);\n",
              "        }\n",
              "      </script>\n",
              "    </div>\n",
              "  </div>\n",
              "  "
            ]
          },
          "metadata": {},
          "execution_count": 14
        }
      ]
    },
    {
      "cell_type": "code",
      "source": [
        "# df = df.sort_values(by='Skor Akhir', ascending=False)\n",
        "# df = df.reset_index(drop=False)\n",
        "# df\n",
        "# # df['Peringkat'] = df.index + 1\n",
        "# # df"
      ],
      "metadata": {
        "id": "WVvA6KbIGe-W"
      },
      "execution_count": null,
      "outputs": []
    },
    {
      "cell_type": "code",
      "source": [
        "df = df.sort_values('Skor Akhir', ascending=False).reset_index(drop=True)\n",
        "\n",
        "df['Peringkat'] = df.index+1"
      ],
      "metadata": {
        "id": "5YNPrOATJ7YK"
      },
      "execution_count": null,
      "outputs": []
    },
    {
      "cell_type": "code",
      "source": [
        "df"
      ],
      "metadata": {
        "colab": {
          "base_uri": "https://localhost:8080/",
          "height": 175
        },
        "id": "X5c-3_SPKCDX",
        "outputId": "884377ab-b7fb-4922-d88a-1325575e9d10"
      },
      "execution_count": null,
      "outputs": [
        {
          "output_type": "execute_result",
          "data": {
            "text/plain": [
              "  Nama Karyawan  Skor Akhir  Peringkat\n",
              "0         Lilis        4.25          1\n",
              "1          Reny        3.90          2\n",
              "2         Rahma        3.20          3\n",
              "3         Citra        2.65          4"
            ],
            "text/html": [
              "\n",
              "  <div id=\"df-2bc21100-27b2-43e1-8185-d9dfce344b3d\">\n",
              "    <div class=\"colab-df-container\">\n",
              "      <div>\n",
              "<style scoped>\n",
              "    .dataframe tbody tr th:only-of-type {\n",
              "        vertical-align: middle;\n",
              "    }\n",
              "\n",
              "    .dataframe tbody tr th {\n",
              "        vertical-align: top;\n",
              "    }\n",
              "\n",
              "    .dataframe thead th {\n",
              "        text-align: right;\n",
              "    }\n",
              "</style>\n",
              "<table border=\"1\" class=\"dataframe\">\n",
              "  <thead>\n",
              "    <tr style=\"text-align: right;\">\n",
              "      <th></th>\n",
              "      <th>Nama Karyawan</th>\n",
              "      <th>Skor Akhir</th>\n",
              "      <th>Peringkat</th>\n",
              "    </tr>\n",
              "  </thead>\n",
              "  <tbody>\n",
              "    <tr>\n",
              "      <th>0</th>\n",
              "      <td>Lilis</td>\n",
              "      <td>4.25</td>\n",
              "      <td>1</td>\n",
              "    </tr>\n",
              "    <tr>\n",
              "      <th>1</th>\n",
              "      <td>Reny</td>\n",
              "      <td>3.90</td>\n",
              "      <td>2</td>\n",
              "    </tr>\n",
              "    <tr>\n",
              "      <th>2</th>\n",
              "      <td>Rahma</td>\n",
              "      <td>3.20</td>\n",
              "      <td>3</td>\n",
              "    </tr>\n",
              "    <tr>\n",
              "      <th>3</th>\n",
              "      <td>Citra</td>\n",
              "      <td>2.65</td>\n",
              "      <td>4</td>\n",
              "    </tr>\n",
              "  </tbody>\n",
              "</table>\n",
              "</div>\n",
              "      <button class=\"colab-df-convert\" onclick=\"convertToInteractive('df-2bc21100-27b2-43e1-8185-d9dfce344b3d')\"\n",
              "              title=\"Convert this dataframe to an interactive table.\"\n",
              "              style=\"display:none;\">\n",
              "        \n",
              "  <svg xmlns=\"http://www.w3.org/2000/svg\" height=\"24px\"viewBox=\"0 0 24 24\"\n",
              "       width=\"24px\">\n",
              "    <path d=\"M0 0h24v24H0V0z\" fill=\"none\"/>\n",
              "    <path d=\"M18.56 5.44l.94 2.06.94-2.06 2.06-.94-2.06-.94-.94-2.06-.94 2.06-2.06.94zm-11 1L8.5 8.5l.94-2.06 2.06-.94-2.06-.94L8.5 2.5l-.94 2.06-2.06.94zm10 10l.94 2.06.94-2.06 2.06-.94-2.06-.94-.94-2.06-.94 2.06-2.06.94z\"/><path d=\"M17.41 7.96l-1.37-1.37c-.4-.4-.92-.59-1.43-.59-.52 0-1.04.2-1.43.59L10.3 9.45l-7.72 7.72c-.78.78-.78 2.05 0 2.83L4 21.41c.39.39.9.59 1.41.59.51 0 1.02-.2 1.41-.59l7.78-7.78 2.81-2.81c.8-.78.8-2.07 0-2.86zM5.41 20L4 18.59l7.72-7.72 1.47 1.35L5.41 20z\"/>\n",
              "  </svg>\n",
              "      </button>\n",
              "      \n",
              "  <style>\n",
              "    .colab-df-container {\n",
              "      display:flex;\n",
              "      flex-wrap:wrap;\n",
              "      gap: 12px;\n",
              "    }\n",
              "\n",
              "    .colab-df-convert {\n",
              "      background-color: #E8F0FE;\n",
              "      border: none;\n",
              "      border-radius: 50%;\n",
              "      cursor: pointer;\n",
              "      display: none;\n",
              "      fill: #1967D2;\n",
              "      height: 32px;\n",
              "      padding: 0 0 0 0;\n",
              "      width: 32px;\n",
              "    }\n",
              "\n",
              "    .colab-df-convert:hover {\n",
              "      background-color: #E2EBFA;\n",
              "      box-shadow: 0px 1px 2px rgba(60, 64, 67, 0.3), 0px 1px 3px 1px rgba(60, 64, 67, 0.15);\n",
              "      fill: #174EA6;\n",
              "    }\n",
              "\n",
              "    [theme=dark] .colab-df-convert {\n",
              "      background-color: #3B4455;\n",
              "      fill: #D2E3FC;\n",
              "    }\n",
              "\n",
              "    [theme=dark] .colab-df-convert:hover {\n",
              "      background-color: #434B5C;\n",
              "      box-shadow: 0px 1px 3px 1px rgba(0, 0, 0, 0.15);\n",
              "      filter: drop-shadow(0px 1px 2px rgba(0, 0, 0, 0.3));\n",
              "      fill: #FFFFFF;\n",
              "    }\n",
              "  </style>\n",
              "\n",
              "      <script>\n",
              "        const buttonEl =\n",
              "          document.querySelector('#df-2bc21100-27b2-43e1-8185-d9dfce344b3d button.colab-df-convert');\n",
              "        buttonEl.style.display =\n",
              "          google.colab.kernel.accessAllowed ? 'block' : 'none';\n",
              "\n",
              "        async function convertToInteractive(key) {\n",
              "          const element = document.querySelector('#df-2bc21100-27b2-43e1-8185-d9dfce344b3d');\n",
              "          const dataTable =\n",
              "            await google.colab.kernel.invokeFunction('convertToInteractive',\n",
              "                                                     [key], {});\n",
              "          if (!dataTable) return;\n",
              "\n",
              "          const docLinkHtml = 'Like what you see? Visit the ' +\n",
              "            '<a target=\"_blank\" href=https://colab.research.google.com/notebooks/data_table.ipynb>data table notebook</a>'\n",
              "            + ' to learn more about interactive tables.';\n",
              "          element.innerHTML = '';\n",
              "          dataTable['output_type'] = 'display_data';\n",
              "          await google.colab.output.renderOutput(dataTable, element);\n",
              "          const docLink = document.createElement('div');\n",
              "          docLink.innerHTML = docLinkHtml;\n",
              "          element.appendChild(docLink);\n",
              "        }\n",
              "      </script>\n",
              "    </div>\n",
              "  </div>\n",
              "  "
            ]
          },
          "metadata": {},
          "execution_count": 19
        }
      ]
    },
    {
      "cell_type": "markdown",
      "source": [
        "### Studi Kasus 2: Vector data\n",
        "Sistem perankingan untuk menentukan produk terbaik dari sebuah toko online berdasarkan rating dan jumlah review yang diberikan oleh pelanggan.\n",
        "\n",
        "Sebuah toko online yang menjual berbagai macam produk ingin menentukan produk terbaik yang paling diminati oleh pelanggan berdasarkan rating dan jumlah review yang diberikan. Toko online ini telah mengumpulkan data rating dan jumlah review dari produk-produk yang mereka jual. Data tersebut kemudian diolah pakai aljabar linear sistem perankingan.\n",
        "\n",
        "Data terdiri dari nama produk, rating, dan jumlah review.\n",
        "\n",
        "Data tersebut kemudian dinormalisasi agar mempunyai skala yang sama, kemudian dilakukan perhitungan bobot. Bobot yang dipakai dalam kasus ini sama besarnya antara rating dan jumlah review. Setelah bobot dihitung, dilakukan perhitungan skor untuk setiap produk. \n",
        "\n",
        "Skor dihitung dengan cara menjumlahkan rating dan jumlah review yang telah dinormalisasi dan dikalikan dengan bobot masing-masing. Produk dengan skor tertinggi akan menjadi produk terbaik dan kemudian dilakukan perankingan.\n",
        "\n",
        "Hasil dari sistem perankingan nantinya menunjukkan produk yang paling diminati oleh pelanggan diurutkan berdasarkan skor tertinggi. Produk dengan skor tertinggi diberikan peringkat 1 dan seterusnya. Produk terbaik kemudian dapat ditampilkan oleh toko online tersebut untuk menarik perhatian pelanggan lain."
      ],
      "metadata": {
        "id": "zKF9FYOfAfgB"
      }
    },
    {
      "cell_type": "code",
      "source": [
        "import numpy as np\n",
        "\n",
        "# konversi data ke matriks / vector pakai numpy\n",
        "produk = np.array(['masker', 'sepatu', 'tshirt', 'seprai', 'botol minum'])\n",
        "rating = np.array([4.8, 4.2, 3, 4.8, 4.5])\n",
        "jumlah_review = np.array([50, 100, 150, 200, 20])"
      ],
      "metadata": {
        "id": "940K1-ymxii-"
      },
      "execution_count": 1,
      "outputs": []
    },
    {
      "cell_type": "code",
      "source": [
        "# normalisasi rating\n",
        "normalized_rating = (rating - np.min(rating)) / (np.max(rating) - np.min(rating))\n",
        "normalized_rating"
      ],
      "metadata": {
        "colab": {
          "base_uri": "https://localhost:8080/"
        },
        "id": "6Nu-949LPxtj",
        "outputId": "e71014c2-9d42-4533-ec95-5d33ed444bf5"
      },
      "execution_count": 2,
      "outputs": [
        {
          "output_type": "execute_result",
          "data": {
            "text/plain": [
              "array([1.        , 0.66666667, 0.        , 1.        , 0.83333333])"
            ]
          },
          "metadata": {},
          "execution_count": 2
        }
      ]
    },
    {
      "cell_type": "code",
      "source": [
        "# normalisasi jumlah_review\n",
        "normalized_review = (jumlah_review - np.min(jumlah_review)) / (np.max(jumlah_review) - np.min(jumlah_review))\n",
        "normalized_review"
      ],
      "metadata": {
        "colab": {
          "base_uri": "https://localhost:8080/"
        },
        "id": "lsakK1DoP4xD",
        "outputId": "0ce9ad92-07f2-4f57-d5cc-d331317b8cac"
      },
      "execution_count": 3,
      "outputs": [
        {
          "output_type": "execute_result",
          "data": {
            "text/plain": [
              "array([0.16666667, 0.44444444, 0.72222222, 1.        , 0.        ])"
            ]
          },
          "metadata": {},
          "execution_count": 3
        }
      ]
    },
    {
      "cell_type": "code",
      "source": [
        "# weight\n",
        "w_rating = 0.5\n",
        "w_review = 0.5\n",
        "\n",
        "# hitung nilai skor / ranking\n",
        "skor = w_rating * normalized_rating + w_review * normalized_review"
      ],
      "metadata": {
        "id": "GSkQcGD0QB-u"
      },
      "execution_count": 4,
      "outputs": []
    },
    {
      "cell_type": "code",
      "source": [
        "# perankingan\n",
        "ranking = np.argsort(skor)[::-1]\n",
        "produk_rating = produk[ranking]\n",
        "produk_rating"
      ],
      "metadata": {
        "colab": {
          "base_uri": "https://localhost:8080/"
        },
        "id": "AfgQcJqpQgA6",
        "outputId": "964a86d5-668b-4d7d-940b-47cfc9f61ffa"
      },
      "execution_count": 5,
      "outputs": [
        {
          "output_type": "execute_result",
          "data": {
            "text/plain": [
              "array(['seprai', 'masker', 'sepatu', 'botol minum', 'tshirt'],\n",
              "      dtype='<U11')"
            ]
          },
          "metadata": {},
          "execution_count": 5
        }
      ]
    },
    {
      "cell_type": "code",
      "source": [
        "for i in range (len(produk_rating)):\n",
        "  print(\"Peringkat {}: Produk {} dengan skor {:.2f}\".format(i+1, produk_rating[i], skor[ranking][i]))"
      ],
      "metadata": {
        "colab": {
          "base_uri": "https://localhost:8080/"
        },
        "id": "eknHhRC6RMb_",
        "outputId": "6251759b-bb01-473a-fd75-c02af88ba165"
      },
      "execution_count": 6,
      "outputs": [
        {
          "output_type": "stream",
          "name": "stdout",
          "text": [
            "Peringkat 1: Produk seprai dengan skor 1.00\n",
            "Peringkat 2: Produk masker dengan skor 0.58\n",
            "Peringkat 3: Produk sepatu dengan skor 0.56\n",
            "Peringkat 4: Produk botol minum dengan skor 0.42\n",
            "Peringkat 5: Produk tshirt dengan skor 0.36\n"
          ]
        }
      ]
    },
    {
      "cell_type": "code",
      "source": [],
      "metadata": {
        "id": "clIgAmp4SMsM"
      },
      "execution_count": null,
      "outputs": []
    }
  ]
}