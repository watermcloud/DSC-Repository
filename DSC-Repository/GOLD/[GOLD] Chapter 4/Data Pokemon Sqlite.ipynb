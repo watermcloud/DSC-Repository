{
 "cells": [
  {
   "cell_type": "code",
   "execution_count": 58,
   "id": "f0a155bb",
   "metadata": {},
   "outputs": [],
   "source": [
    "import pandas as pd\n",
    "import numpy as np\n",
    "import sqlite3"
   ]
  },
  {
   "cell_type": "code",
   "execution_count": 6,
   "id": "4037ec3c",
   "metadata": {},
   "outputs": [],
   "source": [
    "data_pokemon = pd.read_excel('data_pokemon.xlsx')"
   ]
  },
  {
   "cell_type": "code",
   "execution_count": 8,
   "id": "02718e98",
   "metadata": {},
   "outputs": [],
   "source": [
    "data_pokemon = data_pokemon.drop('#', axis=1) # Drop column #"
   ]
  },
  {
   "cell_type": "code",
   "execution_count": 9,
   "id": "378dd2ff",
   "metadata": {},
   "outputs": [
    {
     "data": {
      "text/html": [
       "<div>\n",
       "<style scoped>\n",
       "    .dataframe tbody tr th:only-of-type {\n",
       "        vertical-align: middle;\n",
       "    }\n",
       "\n",
       "    .dataframe tbody tr th {\n",
       "        vertical-align: top;\n",
       "    }\n",
       "\n",
       "    .dataframe thead th {\n",
       "        text-align: right;\n",
       "    }\n",
       "</style>\n",
       "<table border=\"1\" class=\"dataframe\">\n",
       "  <thead>\n",
       "    <tr style=\"text-align: right;\">\n",
       "      <th></th>\n",
       "      <th>Name</th>\n",
       "      <th>Type 1</th>\n",
       "      <th>Type 2</th>\n",
       "      <th>Total</th>\n",
       "      <th>HP</th>\n",
       "      <th>Attack</th>\n",
       "      <th>Defense</th>\n",
       "      <th>Sp. Atk</th>\n",
       "      <th>Sp. Def</th>\n",
       "      <th>Speed</th>\n",
       "      <th>Stage</th>\n",
       "      <th>Legendary</th>\n",
       "    </tr>\n",
       "  </thead>\n",
       "  <tbody>\n",
       "    <tr>\n",
       "      <th>0</th>\n",
       "      <td>Bulbasaur</td>\n",
       "      <td>Grass</td>\n",
       "      <td>Poison</td>\n",
       "      <td>318.0</td>\n",
       "      <td>45</td>\n",
       "      <td>49</td>\n",
       "      <td>49</td>\n",
       "      <td>65</td>\n",
       "      <td>65.0</td>\n",
       "      <td>45</td>\n",
       "      <td>1</td>\n",
       "      <td>False</td>\n",
       "    </tr>\n",
       "    <tr>\n",
       "      <th>1</th>\n",
       "      <td>Ivysaur</td>\n",
       "      <td>Grass</td>\n",
       "      <td>Poison</td>\n",
       "      <td>405.0</td>\n",
       "      <td>60</td>\n",
       "      <td>62</td>\n",
       "      <td>63</td>\n",
       "      <td>80</td>\n",
       "      <td>80.0</td>\n",
       "      <td>60</td>\n",
       "      <td>2</td>\n",
       "      <td>False</td>\n",
       "    </tr>\n",
       "    <tr>\n",
       "      <th>2</th>\n",
       "      <td>Venusaur</td>\n",
       "      <td>Grass</td>\n",
       "      <td>Poison</td>\n",
       "      <td>525.0</td>\n",
       "      <td>80</td>\n",
       "      <td>82</td>\n",
       "      <td>83</td>\n",
       "      <td>100</td>\n",
       "      <td>100.0</td>\n",
       "      <td>80</td>\n",
       "      <td>3</td>\n",
       "      <td>False</td>\n",
       "    </tr>\n",
       "    <tr>\n",
       "      <th>3</th>\n",
       "      <td>Charmander</td>\n",
       "      <td>Fire</td>\n",
       "      <td>NaN</td>\n",
       "      <td>309.0</td>\n",
       "      <td>39</td>\n",
       "      <td>52</td>\n",
       "      <td>43</td>\n",
       "      <td>60</td>\n",
       "      <td>50.0</td>\n",
       "      <td>65</td>\n",
       "      <td>1</td>\n",
       "      <td>False</td>\n",
       "    </tr>\n",
       "    <tr>\n",
       "      <th>4</th>\n",
       "      <td>Charmeleon</td>\n",
       "      <td>Fire</td>\n",
       "      <td>NaN</td>\n",
       "      <td>405.0</td>\n",
       "      <td>58</td>\n",
       "      <td>64</td>\n",
       "      <td>58</td>\n",
       "      <td>80</td>\n",
       "      <td>65.0</td>\n",
       "      <td>80</td>\n",
       "      <td>2</td>\n",
       "      <td>False</td>\n",
       "    </tr>\n",
       "    <tr>\n",
       "      <th>...</th>\n",
       "      <td>...</td>\n",
       "      <td>...</td>\n",
       "      <td>...</td>\n",
       "      <td>...</td>\n",
       "      <td>...</td>\n",
       "      <td>...</td>\n",
       "      <td>...</td>\n",
       "      <td>...</td>\n",
       "      <td>...</td>\n",
       "      <td>...</td>\n",
       "      <td>...</td>\n",
       "      <td>...</td>\n",
       "    </tr>\n",
       "    <tr>\n",
       "      <th>146</th>\n",
       "      <td>Dratini</td>\n",
       "      <td>Dragon</td>\n",
       "      <td>NaN</td>\n",
       "      <td>300.0</td>\n",
       "      <td>41</td>\n",
       "      <td>64</td>\n",
       "      <td>45</td>\n",
       "      <td>50</td>\n",
       "      <td>50.0</td>\n",
       "      <td>50</td>\n",
       "      <td>1</td>\n",
       "      <td>False</td>\n",
       "    </tr>\n",
       "    <tr>\n",
       "      <th>147</th>\n",
       "      <td>Dragonair</td>\n",
       "      <td>Dragon</td>\n",
       "      <td>NaN</td>\n",
       "      <td>420.0</td>\n",
       "      <td>61</td>\n",
       "      <td>84</td>\n",
       "      <td>65</td>\n",
       "      <td>70</td>\n",
       "      <td>70.0</td>\n",
       "      <td>70</td>\n",
       "      <td>2</td>\n",
       "      <td>False</td>\n",
       "    </tr>\n",
       "    <tr>\n",
       "      <th>148</th>\n",
       "      <td>Dragonite</td>\n",
       "      <td>Dragon</td>\n",
       "      <td>Flying</td>\n",
       "      <td>NaN</td>\n",
       "      <td>91</td>\n",
       "      <td>134</td>\n",
       "      <td>95</td>\n",
       "      <td>100</td>\n",
       "      <td>100.0</td>\n",
       "      <td>80</td>\n",
       "      <td>3</td>\n",
       "      <td>False</td>\n",
       "    </tr>\n",
       "    <tr>\n",
       "      <th>149</th>\n",
       "      <td>Mewtwo</td>\n",
       "      <td>Psychic</td>\n",
       "      <td>NaN</td>\n",
       "      <td>680.0</td>\n",
       "      <td>106</td>\n",
       "      <td>110</td>\n",
       "      <td>90</td>\n",
       "      <td>154</td>\n",
       "      <td>90.0</td>\n",
       "      <td>130</td>\n",
       "      <td>1</td>\n",
       "      <td>True</td>\n",
       "    </tr>\n",
       "    <tr>\n",
       "      <th>150</th>\n",
       "      <td>Mew</td>\n",
       "      <td>Psychic</td>\n",
       "      <td>NaN</td>\n",
       "      <td>NaN</td>\n",
       "      <td>100</td>\n",
       "      <td>100</td>\n",
       "      <td>100</td>\n",
       "      <td>100</td>\n",
       "      <td>100.0</td>\n",
       "      <td>100</td>\n",
       "      <td>1</td>\n",
       "      <td>False</td>\n",
       "    </tr>\n",
       "  </tbody>\n",
       "</table>\n",
       "<p>151 rows × 12 columns</p>\n",
       "</div>"
      ],
      "text/plain": [
       "           Name   Type 1  Type 2  Total   HP  Attack  Defense  Sp. Atk  \\\n",
       "0     Bulbasaur    Grass  Poison  318.0   45      49       49       65   \n",
       "1       Ivysaur    Grass  Poison  405.0   60      62       63       80   \n",
       "2      Venusaur    Grass  Poison  525.0   80      82       83      100   \n",
       "3    Charmander     Fire     NaN  309.0   39      52       43       60   \n",
       "4    Charmeleon     Fire     NaN  405.0   58      64       58       80   \n",
       "..          ...      ...     ...    ...  ...     ...      ...      ...   \n",
       "146     Dratini   Dragon     NaN  300.0   41      64       45       50   \n",
       "147   Dragonair   Dragon     NaN  420.0   61      84       65       70   \n",
       "148   Dragonite   Dragon  Flying    NaN   91     134       95      100   \n",
       "149      Mewtwo  Psychic     NaN  680.0  106     110       90      154   \n",
       "150         Mew  Psychic     NaN    NaN  100     100      100      100   \n",
       "\n",
       "     Sp. Def  Speed  Stage  Legendary  \n",
       "0       65.0     45      1      False  \n",
       "1       80.0     60      2      False  \n",
       "2      100.0     80      3      False  \n",
       "3       50.0     65      1      False  \n",
       "4       65.0     80      2      False  \n",
       "..       ...    ...    ...        ...  \n",
       "146     50.0     50      1      False  \n",
       "147     70.0     70      2      False  \n",
       "148    100.0     80      3      False  \n",
       "149     90.0    130      1       True  \n",
       "150    100.0    100      1      False  \n",
       "\n",
       "[151 rows x 12 columns]"
      ]
     },
     "execution_count": 9,
     "metadata": {},
     "output_type": "execute_result"
    }
   ],
   "source": [
    "data_pokemon"
   ]
  },
  {
   "cell_type": "code",
   "execution_count": 123,
   "id": "a742a128",
   "metadata": {},
   "outputs": [],
   "source": [
    "# id_pokemon: int PK\n",
    "# Name: varchar(255)\n",
    "# Type1: varchar(255)\n",
    "# Type2: varchar(255)\n",
    "# Total: float\n",
    "# HP: int\n",
    "# Attack: int\n",
    "# Defense: int\n",
    "# sp_atk: int\n",
    "# sp_def: int\n",
    "# speed: int\n",
    "# stage: int\n",
    "# legendary: boolean"
   ]
  },
  {
   "cell_type": "code",
   "execution_count": 11,
   "id": "c4f685ec",
   "metadata": {},
   "outputs": [],
   "source": [
    "conn = sqlite3.connect('database/data_pokemon.db')"
   ]
  },
  {
   "cell_type": "code",
   "execution_count": 134,
   "id": "ae44aba0",
   "metadata": {},
   "outputs": [],
   "source": [
    "conn.execute('''\n",
    "drop table pokemons;\n",
    "''')\n",
    "conn.commit()"
   ]
  },
  {
   "cell_type": "code",
   "execution_count": 135,
   "id": "dbeca04a",
   "metadata": {},
   "outputs": [],
   "source": [
    "conn.execute('''\n",
    "CREATE TABLE pokemons (id INTEGER PRIMARY KEY AUTOINCREMENT, \n",
    "                       nama_pokemon varchar(255) not null,\n",
    "                       type1 varchar(255),\n",
    "                       type2 varchar(255),\n",
    "                       total float,\n",
    "                       hp int,\n",
    "                       attack int,\n",
    "                       defense int,\n",
    "                       sp_atk int,\n",
    "                       sp_def int,\n",
    "                       speed int,\n",
    "                       stage int,\n",
    "                       legendary boolean\n",
    ");\n",
    "''')\n",
    "conn.commit()"
   ]
  },
  {
   "cell_type": "code",
   "execution_count": 136,
   "id": "eff3132e",
   "metadata": {},
   "outputs": [],
   "source": [
    "data_pokemon_values = data_pokemon.values"
   ]
  },
  {
   "cell_type": "code",
   "execution_count": 140,
   "id": "74d0a0dc",
   "metadata": {},
   "outputs": [],
   "source": [
    "for pokemon in data_pokemon_values:\n",
    "    if pd.isna(pokemon[0]) == False:\n",
    "        nama_pokemon = f'\"{pokemon[0]}\"' # ie: \"mewtwo\"\n",
    "    else:\n",
    "        nama_pokemon = 'NULL'\n",
    "\n",
    "    if pd.isna(pokemon[1]) == False:\n",
    "        type1 =  f'\"{pokemon[1]}\"' # ie: \"water\"\n",
    "    else:\n",
    "        type1 = 'NULL'\n",
    "        \n",
    "    if pd.isna(pokemon[2]) == False:\n",
    "        type2 = f'\"{pokemon[2]}\"' # ie: \"sea\"\n",
    "    else:\n",
    "        type2 = 'NULL'\n",
    "        \n",
    "    if pd.isna(pokemon[3]) == False:\n",
    "        total = pokemon[3]\n",
    "    else:\n",
    "        total = 'NULL'\n",
    "        \n",
    "    if pd.isna(pokemon[4]) == False:\n",
    "        hp = pokemon[4]\n",
    "    else:\n",
    "        hp = 'NULL'\n",
    "    \n",
    "    if pd.isna(pokemon[5]) == False:\n",
    "        attack = pokemon[5]\n",
    "    else:\n",
    "        attack = 'NULL'\n",
    "        \n",
    "    if pd.isna(pokemon[6]) == False:\n",
    "        defense = pokemon[6]    \n",
    "    else:\n",
    "        defense = 'NULL'\n",
    "        \n",
    "    if pd.isna(pokemon[7]) == False:\n",
    "        sp_atk = pokemon[7]\n",
    "    else:\n",
    "        sp_atk = 'NULL'\n",
    "\n",
    "    if pd.isna(pokemon[9]) == False:\n",
    "        sp_def = pokemon[9]\n",
    "    else:\n",
    "        sp_def = 'NULL'\n",
    "\n",
    "    if pd.isna(pokemon[8]) == False:\n",
    "        speed = pokemon[8]\n",
    "    else:\n",
    "        speed = 'NULL'        \n",
    "    if pd.isna(pokemon[10]) == False:\n",
    "        stage = pokemon[10]\n",
    "    else:\n",
    "        stage = 'NULL'\n",
    "        \n",
    "    if pd.isna(pokemon[11]) == False:\n",
    "        legendary = pokemon[11]\n",
    "    else:\n",
    "        legendary = 'NULL'\n",
    "\n",
    "    \n",
    "    sql_string = f\"\"\"\n",
    "        INSERT INTO pokemons \n",
    "        (nama_pokemon, type1, type2, total, hp, attack, defense, sp_atk, sp_def, speed, stage, legendary) \n",
    "        VALUES \n",
    "        ({nama_pokemon}, {type1}, {type2}, {total}, {hp}, {attack}, {defense}, {sp_atk}, {sp_def}, {speed}, {stage}, {legendary});\n",
    "    \"\"\"\n",
    "\n",
    "    conn.execute(sql_string)\n",
    "\n",
    "conn.commit()"
   ]
  },
  {
   "cell_type": "code",
   "execution_count": 128,
   "id": "3564a95e",
   "metadata": {},
   "outputs": [],
   "source": [
    "result = conn.execute('''\n",
    "select * from pokemons where type2 = 'none';\n",
    "''')\n",
    "conn.commit()\n",
    "\n",
    "for x in result:\n",
    "    print(x)"
   ]
  },
  {
   "cell_type": "code",
   "execution_count": 141,
   "id": "01dc9e29",
   "metadata": {},
   "outputs": [
    {
     "ename": "OperationalError",
     "evalue": "near \"|\": syntax error",
     "output_type": "error",
     "traceback": [
      "\u001b[1;31m---------------------------------------------------------------------------\u001b[0m",
      "\u001b[1;31mOperationalError\u001b[0m                          Traceback (most recent call last)",
      "\u001b[1;32m~\\AppData\\Local\\Temp\\ipykernel_17636\\789426414.py\u001b[0m in \u001b[0;36m<module>\u001b[1;34m\u001b[0m\n\u001b[1;32m----> 1\u001b[1;33m result = conn.execute('''|\n\u001b[0m\u001b[0;32m      2\u001b[0m \u001b[0mselect\u001b[0m \u001b[1;33m*\u001b[0m \u001b[1;32mfrom\u001b[0m \u001b[0mpokemons\u001b[0m \u001b[0mwhere\u001b[0m \u001b[0mtype2\u001b[0m \u001b[1;33m=\u001b[0m \u001b[1;34m'NULL'\u001b[0m\u001b[1;33m;\u001b[0m\u001b[1;33m\u001b[0m\u001b[1;33m\u001b[0m\u001b[0m\n\u001b[0;32m      3\u001b[0m ''')\n\u001b[0;32m      4\u001b[0m \u001b[0mconn\u001b[0m\u001b[1;33m.\u001b[0m\u001b[0mcommit\u001b[0m\u001b[1;33m(\u001b[0m\u001b[1;33m)\u001b[0m\u001b[1;33m\u001b[0m\u001b[1;33m\u001b[0m\u001b[0m\n\u001b[0;32m      5\u001b[0m \u001b[1;33m\u001b[0m\u001b[0m\n",
      "\u001b[1;31mOperationalError\u001b[0m: near \"|\": syntax error"
     ]
    }
   ],
   "source": [
    "result = conn.execute('''\n",
    "select * from pokemons where type2 = 'NULL';\n",
    "''')\n",
    "conn.commit()\n",
    "\n",
    "for x in result:\n",
    "    print(x)"
   ]
  },
  {
   "cell_type": "code",
   "execution_count": 130,
   "id": "bbd42334",
   "metadata": {
    "scrolled": true
   },
   "outputs": [
    {
     "name": "stdout",
     "output_type": "stream",
     "text": [
      "(1, 'Bulbasaur', 'Grass', 'Poison', 318.0, 45, 49, 49, 65, 65, None, 45, 1)\n",
      "(2, 'Ivysaur', 'Grass', 'Poison', 405.0, 60, 62, 63, 80, 80, None, 60, 2)\n",
      "(3, 'Venusaur', 'Grass', 'Poison', 525.0, 80, 82, 83, 100, 100, None, 80, 3)\n",
      "(4, 'Charmander', 'Fire', None, 309.0, 39, 52, 43, 60, 50, None, 65, 1)\n",
      "(5, 'Charmeleon', 'Fire', None, 405.0, 58, 64, 58, 80, 65, None, 80, 2)\n",
      "(6, 'Charizard', 'Fire', 'Flying', 534.0, 78, 84, 78, 109, 85, None, 100, 3)\n",
      "(7, 'Squirtle', 'Water', None, 314.0, 44, 48, 65, 50, 64, None, 43, 1)\n",
      "(8, 'Wartortle', 'Water', None, 405.0, 59, 63, 80, 65, 80, None, 58, 2)\n",
      "(9, 'Blastoise', 'Water', None, 530.0, 79, 83, 100, 85, 105, None, 78, 3)\n",
      "(10, 'Caterpie', 'Bug', None, 195.0, 45, 30, 35, 20, 20, None, 45, 1)\n",
      "(11, 'Metapod', 'Bug', None, 205.0, 50, 20, 55, 25, 25, None, 30, 2)\n",
      "(12, 'Butterfree', 'Bug', 'Flying', 395.0, 60, 45, 50, 90, 80, None, 70, 3)\n",
      "(13, 'Weedle', 'Bug', 'Poison', 195.0, 40, 35, 30, 20, 20, None, 50, 1)\n",
      "(14, 'Kakuna', 'Bug', 'Poison', 205.0, 45, 25, 50, 25, 25, None, 35, 2)\n",
      "(15, 'Beedrill', 'Bug', 'Poison', 395.0, 65, 90, 40, 45, 80, None, 75, 3)\n",
      "(16, 'Pidgey', 'Normal', 'Flying', 251.0, 40, 45, 40, 35, 35, None, 56, 1)\n",
      "(17, 'Pidgeotto', 'Normal', 'Flying', 349.0, 63, 60, 55, 50, None, None, 71, 2)\n",
      "(18, 'Pidgeot', 'Normal', 'Flying', 479.0, 83, 80, 75, 70, None, None, 101, 3)\n",
      "(19, 'Rattata', 'Normal', None, 253.0, 30, 56, 35, 25, 35, None, 72, 1)\n",
      "(20, 'Raticate', 'Normal', None, 413.0, 55, 81, 60, 50, 70, None, 97, 2)\n",
      "(21, 'Spearow', 'Normal', 'Flying', 262.0, 40, 60, 30, 31, 31, None, 70, 1)\n",
      "(22, 'Fearow', 'Normal', 'Flying', 442.0, 65, 90, 65, 61, 61, None, 100, 2)\n",
      "(23, 'Ekans', 'Poison', None, 288.0, 35, 60, 44, 40, 54, None, 55, 1)\n",
      "(24, 'Arbok', 'Poison', None, 438.0, 60, 85, 69, 65, 79, None, 80, 2)\n",
      "(25, 'Pikachu', 'Electric', None, 320.0, 35, 55, 40, 50, 50, None, 90, 1)\n",
      "(26, 'Raichu', 'Electric', None, 485.0, 60, 90, 55, 90, 80, None, 110, 2)\n",
      "(27, 'Sandshrew', 'Ground', None, 300.0, 50, 75, 85, 20, 30, None, 40, 1)\n",
      "(28, 'Sandslash', 'Ground', None, 450.0, 75, 100, 110, 45, None, None, 65, 2)\n",
      "(29, 'Nidoran���', 'Poison', None, 275.0, 55, 47, 52, 40, 40, None, 41, 1)\n",
      "(30, 'Nidorina', 'Poison', None, 365.0, 70, 62, 67, 55, 55, None, 56, 2)\n",
      "(31, 'Nidoqueen', 'Poison', 'Ground', 505.0, 90, 92, 87, 75, 85, None, 76, 3)\n",
      "(32, 'Nidoran���', 'Poison', None, 273.0, 46, 57, 40, 40, 40, None, 50, 1)\n",
      "(33, 'Nidorino', 'Poison', None, 365.0, 61, 72, 57, 55, 55, None, 65, 2)\n",
      "(34, 'Nidoking', 'Poison', 'Ground', 505.0, 81, 102, 77, 85, 75, None, 85, 3)\n",
      "(35, 'Clefairy', 'Fairy', None, 323.0, 70, 45, 48, 60, 65, None, 35, 1)\n",
      "(36, 'Clefable', 'Fairy', None, 483.0, 95, 70, 73, 95, 90, None, 60, 2)\n",
      "(37, 'Vulpix', 'Fire', None, 299.0, 38, 41, 40, 50, 65, None, 65, 1)\n",
      "(38, 'Ninetales', 'Fire', None, 505.0, 73, 76, 75, 81, 100, None, 100, 2)\n",
      "(39, 'Jigglypuff', 'Normal', 'Fairy', 270.0, 115, 45, 20, 45, 25, None, 20, 1)\n",
      "(40, 'Wigglytuff', 'Normal', 'Fairy', 435.0, 140, 70, 45, 85, 50, None, 45, 2)\n",
      "(41, 'Zubat', 'Poison', 'Flying', 245.0, 40, 45, 35, 30, 40, None, 55, 1)\n",
      "(42, 'Golbat', 'Poison', 'Flying', 455.0, 75, 80, 70, 65, 75, None, 90, 2)\n",
      "(43, 'Oddish', 'Grass', 'Poison', 320.0, 45, 50, 55, 75, 65, None, 30, 1)\n",
      "(44, 'Gloom', 'Grass', 'Poison', 395.0, 60, 65, 70, 85, 75, None, 40, 2)\n",
      "(45, 'Vileplume', 'Grass', 'Poison', 490.0, 75, 80, 85, 110, 90, None, 50, 3)\n",
      "(46, 'Paras', 'Bug', 'Grass', 285.0, 35, 70, 55, 45, 55, None, 25, 1)\n",
      "(47, 'Parasect', 'Bug', 'Grass', 405.0, 60, 95, 80, 60, 80, None, 30, 2)\n",
      "(48, 'Venonat', 'Bug', 'Poison', 305.0, 60, 55, 50, 40, 55, None, 45, 1)\n",
      "(49, 'Venomoth', 'Bug', 'Poison', 450.0, 70, 65, 60, 90, 75, None, 90, 2)\n",
      "(50, 'Diglett', 'Ground', None, 265.0, 10, 55, 25, 35, 45, None, 95, 1)\n",
      "(51, 'Dugtrio', 'Ground', None, 405.0, 35, 80, 50, 50, 70, None, 120, 2)\n",
      "(52, 'Meowth', 'Normal', None, 290.0, 40, 45, 35, 40, 40, None, 90, 1)\n",
      "(53, 'Persian', 'Normal', None, 440.0, 65, 70, 60, 65, 65, None, 115, 2)\n",
      "(54, 'Psyduck', 'Water', None, 320.0, 50, 52, 48, 65, 50, None, 55, 1)\n",
      "(55, 'Golduck', 'Water', None, 500.0, 80, 82, 78, 95, 80, None, 85, 2)\n",
      "(56, 'Mankey', 'Fighting', None, 305.0, 40, 80, 35, 35, 45, None, 70, 1)\n",
      "(57, 'Primeape', 'Fighting', None, 455.0, 65, 105, 60, 60, 70, None, 95, 2)\n",
      "(58, 'Growlithe', 'Fire', None, 350.0, 55, 70, 45, 70, 50, None, 60, 1)\n",
      "(59, 'Arcanine', 'Fire', None, 555.0, 90, 110, 80, 100, 80, None, 95, 2)\n",
      "(60, 'Poliwag', 'Water', None, 300.0, 40, 50, 40, 40, 40, None, 90, 1)\n",
      "(61, 'Poliwhirl', 'Water', None, 385.0, 65, 65, 65, 50, 50, None, 90, 2)\n",
      "(62, 'Poliwrath', 'Water', 'Fighting', 510.0, 90, 95, 95, 70, 90, None, 70, 3)\n",
      "(63, 'Abra', 'Psychic', None, 310.0, 25, 20, 15, 105, 55, None, 90, 1)\n",
      "(64, 'Kadabra', 'Psychic', None, 400.0, 40, 35, 30, 120, 70, None, 105, 2)\n",
      "(65, 'Alakazam', 'Psychic', None, 500.0, 55, 50, 45, 135, 95, None, 120, 3)\n",
      "(66, 'Machop', 'Fighting', None, 305.0, 70, 80, 50, 35, 35, None, 35, 1)\n",
      "(67, 'Machoke', 'Fighting', None, 405.0, 80, 100, 70, 50, None, None, 45, 2)\n",
      "(68, 'Machamp', 'Fighting', None, 505.0, 90, 130, 80, 65, 85, None, 55, 3)\n",
      "(69, 'Bellsprout', 'Grass', 'Poison', 300.0, 50, 75, 35, 70, 30, None, 40, 1)\n",
      "(70, 'Weepinbell', 'Grass', 'Poison', 390.0, 65, 90, 50, 85, 45, None, 55, 2)\n",
      "(71, 'Victreebel', 'Grass', 'Poison', 490.0, 80, 105, 65, 100, None, None, 70, 3)\n",
      "(72, 'Tentacool', 'Water', 'Poison', 335.0, 40, 40, 35, 50, 100, None, 70, 1)\n",
      "(73, 'Tentacruel', 'Water', 'Poison', 515.0, 80, 70, 65, 80, 120, None, 100, 2)\n",
      "(74, 'Geodude', 'Rock', 'Ground', 300.0, 40, 80, 100, 30, 30, None, 20, 1)\n",
      "(75, 'Graveler', 'Rock', 'Ground', 390.0, 55, 95, 115, 45, 45, None, 35, 2)\n",
      "(76, 'Golem', 'Rock', 'Ground', 495.0, 80, 120, 130, 55, 65, None, 45, 3)\n",
      "(77, 'Ponyta', 'Fire', None, 410.0, 50, 85, 55, 65, 65, None, 90, 1)\n",
      "(78, 'Rapidash', 'Fire', None, 500.0, 65, 100, 70, 80, 80, None, 105, 2)\n",
      "(79, 'Slowpoke', 'Water', 'Psychic', 315.0, 90, 65, 65, 40, 40, None, 15, 1)\n",
      "(80, 'Slowbro', 'Water', 'Psychic', 490.0, 95, 75, 110, 100, 80, None, 30, 2)\n",
      "(81, 'Magnemite', 'Electric', 'Steel', 325.0, 25, 35, 70, 95, 55, None, 45, 1)\n",
      "(82, 'Magneton', 'Electric', 'Steel', 465.0, 50, 60, 95, 120, 70, None, 70, 2)\n",
      "(83, \"Farfetch'd\", 'Normal', 'Flying', 352.0, 52, 65, 55, 58, 62, None, 60, 1)\n",
      "(84, 'Doduo', 'Normal', 'Flying', 310.0, 35, 85, 45, 35, 35, None, 75, 1)\n",
      "(85, 'Dodrio', 'Normal', 'Flying', 460.0, 60, 110, 70, 60, 60, None, 100, 2)\n",
      "(86, 'Seel', 'Water', None, 325.0, 65, 45, 55, 45, 70, None, 45, 1)\n",
      "(87, 'Dewgong', 'Water', 'Ice', 475.0, 90, 70, 80, 70, 95, None, 70, 2)\n",
      "(88, 'Grimer', 'Poison', None, 325.0, 80, 80, 50, 40, 50, None, 25, 1)\n",
      "(89, 'Muk', 'Poison', None, 500.0, 105, 105, 75, 65, 100, None, 50, 2)\n",
      "(90, 'Shellder', 'Water', None, 305.0, 30, 65, 100, 45, 25, None, 40, 1)\n",
      "(91, 'Cloyster', 'Water', 'Ice', 525.0, 50, 95, 180, 85, 45, None, 70, 2)\n",
      "(92, 'Gastly', 'Ghost', 'Poison', 310.0, 30, 35, 30, 100, 35, None, 80, 1)\n",
      "(93, 'Haunter', 'Ghost', 'Poison', 405.0, 45, 50, 45, 115, 55, None, 95, 2)\n",
      "(94, 'Gengar', 'Ghost', 'Poison', 500.0, 60, 65, 60, 130, 75, None, 110, 3)\n",
      "(95, 'Onix', 'Rock', 'Ground', 385.0, 35, 45, 160, 30, 45, None, 70, 1)\n",
      "(96, 'Drowzee', 'Psychic', None, 328.0, 60, 48, 45, 43, 90, None, 42, 1)\n",
      "(97, 'Hypno', 'Psychic', None, 483.0, 85, 73, 70, 73, 115, None, 67, 2)\n",
      "(98, 'Krabby', 'Water', None, 325.0, 30, 105, 90, 25, 25, None, 50, 1)\n",
      "(99, 'Kingler', 'Water', None, 475.0, 55, 130, 115, 50, 50, None, 75, 2)\n",
      "(100, 'Voltorb', 'Electric', None, 330.0, 40, 30, 50, 55, 55, None, 100, 1)\n",
      "(101, 'Electrode', 'Electric', None, 480.0, 60, 50, 70, 80, 80, None, 140, 2)\n",
      "(102, 'Exeggcute', 'Grass', 'Psychic', 325.0, 60, 40, 80, 60, 45, None, 40, 1)\n",
      "(103, 'Exeggutor', 'Grass', 'Psychic', 520.0, 95, 95, 85, 125, 65, None, 55, 2)\n",
      "(104, 'Cubone', 'Ground', None, 320.0, 50, 50, 95, 40, 50, None, 35, 1)\n",
      "(105, 'Marowak', 'Ground', None, 425.0, 60, 80, 110, 50, 80, None, 45, 2)\n",
      "(106, 'Hitmonlee', 'Fighting', None, 455.0, 50, 120, 53, 35, 110, None, 87, 1)\n",
      "(107, 'Hitmonchan', 'Fighting', None, 455.0, 50, 105, 79, 35, 110, None, 76, 1)\n",
      "(108, 'Lickitung', 'Normal', None, 385.0, 90, 55, 75, 60, 75, None, 30, 1)\n",
      "(109, 'Koffing', 'Poison', None, 340.0, 40, 65, 95, 60, 45, None, 35, 1)\n",
      "(110, 'Weezing', 'Poison', None, 490.0, 65, 90, 120, 85, 70, None, 60, 2)\n",
      "(111, 'Rhyhorn', 'Ground', 'Rock', 345.0, 80, 85, 95, 30, 30, None, 25, 1)\n",
      "(112, 'Rhydon', 'Ground', 'Rock', 485.0, 105, 130, 120, 45, 45, None, 40, 2)\n",
      "(113, 'Chansey', 'Normal', None, 450.0, 250, 5, 5, 35, 105, None, 50, 1)\n",
      "(114, 'Tangela', 'Grass', None, 435.0, 65, 55, 115, 100, 40, None, 60, 1)\n",
      "(115, 'Kangaskhan', 'Normal', None, 490.0, 105, 95, 80, 40, 80, None, 90, 1)\n",
      "(116, 'Horsea', 'Water', None, 295.0, 30, 40, 70, 70, 25, None, 60, 1)\n",
      "(117, 'Seadra', 'Water', None, 440.0, 55, 65, 95, 95, 45, None, 85, 2)\n",
      "(118, 'Goldeen', 'Water', None, 320.0, 45, 67, 60, 35, 50, None, 63, 1)\n",
      "(119, 'Seaking', 'Water', None, None, 80, 92, 65, 65, 80, None, 68, 2)\n",
      "(120, 'Staryu', 'Water', None, 340.0, 30, 45, 55, 70, 55, None, 85, 1)\n",
      "(121, 'Starmie', 'Water', 'Psychic', 520.0, 60, 75, 85, 100, None, None, 115, 2)\n",
      "(122, 'Mr. Mime', 'Psychic', 'Fairy', 460.0, 40, 45, 65, 100, 120, None, 90, 1)\n",
      "(123, 'Scyther', 'Bug', 'Flying', 500.0, 70, 110, 80, 55, 80, None, 105, 1)\n",
      "(124, 'Jynx', 'Ice', 'Psychic', 455.0, 65, 50, 35, 115, 95, None, 95, 1)\n",
      "(125, 'Electabuzz', 'Electric', None, 490.0, 65, 83, 57, 95, 85, None, 105, 1)\n",
      "(126, 'Magmar', 'Fire', None, 495.0, 65, 95, 57, 100, 85, None, 93, 1)\n",
      "(127, 'Pinsir', 'Bug', None, 500.0, 65, 125, 100, 55, 70, None, 85, 1)\n",
      "(128, 'Tauros', 'Normal', None, 490.0, 75, 100, 95, 40, 70, None, 110, 1)\n",
      "(129, 'Magikarp', 'Water', None, 200.0, 20, 10, 55, 15, 20, None, 80, 1)\n",
      "(130, 'Gyarados', 'Water', 'Flying', 540.0, 95, 125, 79, 60, None, None, 81, 2)\n",
      "(131, 'Lapras', 'Water', 'Ice', 535.0, 130, 85, 80, 85, 95, None, 60, 1)\n",
      "(132, 'Ditto', 'Normal', None, 288.0, 48, 48, 48, 48, 48, None, 48, 1)\n",
      "(133, 'Eevee', 'Normal', None, 325.0, 55, 55, 50, 45, 65, None, 55, 1)\n",
      "(134, 'Vaporeon', 'Water', None, 525.0, 130, 65, 60, 110, 95, None, 65, 2)\n",
      "(135, 'Jolteon', 'Electric', None, 525.0, 65, 65, 60, 110, 95, None, 130, 2)\n",
      "(136, 'Flareon', 'Fire', None, 525.0, 65, 130, 60, 95, 110, None, 65, 2)\n",
      "(137, 'Porygon', 'Normal', None, 395.0, 65, 60, 70, 85, 75, None, 40, 1)\n",
      "(138, 'Omanyte', 'Rock', 'Water', None, 35, 40, 100, 90, 55, None, 35, 1)\n",
      "(139, 'Omastar', 'Rock', 'Water', 495.0, 70, 60, 125, 115, 70, None, 55, 2)\n",
      "(140, 'Kabuto', 'Rock', 'Water', 355.0, 30, 80, 90, 55, 45, None, 55, 1)\n",
      "(141, 'Kabutops', 'Rock', 'Water', 495.0, 60, 115, 105, 65, 70, None, 80, 2)\n",
      "(142, 'Aerodactyl', 'Rock', 'Flying', None, 80, 105, 65, 60, None, None, 130, 1)\n",
      "(143, 'Snorlax', 'Normal', None, 540.0, 160, 110, 65, 65, 110, None, 30, 1)\n",
      "(144, 'Articuno', 'Ice', 'Flying', 580.0, 90, 85, 100, 95, 125, None, 85, 1)\n",
      "(145, 'Zapdos', 'Electric', 'Flying', 580.0, 90, 90, 85, 125, 90, None, 100, 1)\n",
      "(146, 'Moltres', 'Fire', 'Flying', 580.0, 90, 100, 90, 125, 85, None, 90, 1)\n",
      "(147, 'Dratini', 'Dragon', None, 300.0, 41, 64, 45, 50, 50, None, 50, 1)\n",
      "(148, 'Dragonair', 'Dragon', None, 420.0, 61, 84, 65, 70, 70, None, 70, 2)\n",
      "(149, 'Dragonite', 'Dragon', 'Flying', None, 91, 134, 95, 100, 100, None, 80, 3)\n",
      "(150, 'Mewtwo', 'Psychic', None, 680.0, 106, 110, 90, 154, 90, None, 130, 1)\n",
      "(151, 'Mew', 'Psychic', None, None, 100, 100, 100, 100, 100, None, 100, 1)\n"
     ]
    }
   ],
   "source": [
    "result = conn.execute('''\n",
    "select * from pokemons;\n",
    "''')\n",
    "conn.commit()\n",
    "\n",
    "for x in result:\n",
    "    print(x)"
   ]
  },
  {
   "cell_type": "markdown",
   "id": "20373985",
   "metadata": {},
   "source": [
    "#### Pokemon apa yang mempunyai Attack paling tinggi?"
   ]
  },
  {
   "cell_type": "code",
   "execution_count": 114,
   "id": "49b20b97",
   "metadata": {},
   "outputs": [
    {
     "name": "stdout",
     "output_type": "stream",
     "text": [
      "(149, 'Dragonite', 'Dragon', 'Flying', None, 91, 134, 95, 100, 100, 80, 3)\n"
     ]
    }
   ],
   "source": [
    "result = conn.execute('''\n",
    "select * \n",
    "  from pokemons \n",
    " where attack = (select max(attack) from pokemons)\n",
    "''')\n",
    "# select dari table pokemons untuk pokemons yang mempunyai attack di dalam range (max attack)\n",
    "conn.commit()\n",
    "\n",
    "for x in result:\n",
    "    print(x)"
   ]
  },
  {
   "cell_type": "code",
   "execution_count": 121,
   "id": "3a584302",
   "metadata": {},
   "outputs": [
    {
     "name": "stdout",
     "output_type": "stream",
     "text": [
      "(149, 'Dragonite', 'Dragon', 'Flying', None, 91, 134, 95, 100, 100, 80, 3)\n"
     ]
    }
   ],
   "source": [
    "# result = conn.execute('''\n",
    "# select * \n",
    "#   from pokemons \n",
    "#  where attack in (select max(attack) from pokemons)\n",
    "# ''')\n",
    "# select dari table pokemons untuk pokemons yang mempunyai attack di dalam range (max attack)\n",
    "result = conn.execute('''\n",
    "select * \n",
    "  from pokemons \n",
    " order by attack DESC \n",
    " limit 1\n",
    "''')\n",
    "conn.commit()\n",
    "\n",
    "for x in result:\n",
    "    print(x)"
   ]
  },
  {
   "cell_type": "markdown",
   "id": "a450b2ca",
   "metadata": {},
   "source": [
    "#### Pokemon tipe 1 apa yang mempunyai highest speed?"
   ]
  },
  {
   "cell_type": "code",
   "execution_count": 132,
   "id": "7506aea1",
   "metadata": {},
   "outputs": [
    {
     "name": "stdout",
     "output_type": "stream",
     "text": [
      "(None,)\n"
     ]
    }
   ],
   "source": [
    "result = conn.execute('''\n",
    "select max(speed) from pokemons\n",
    "''')\n",
    "conn.commit()\n",
    "\n",
    "for x in result:\n",
    "    print(x)"
   ]
  },
  {
   "cell_type": "code",
   "execution_count": 142,
   "id": "3c7d59fa",
   "metadata": {},
   "outputs": [
    {
     "name": "stdout",
     "output_type": "stream",
     "text": [
      "('Ice',)\n"
     ]
    }
   ],
   "source": [
    "result = conn.execute('''\n",
    "select type1 from pokemons where speed in (select max(speed) from pokemons)\n",
    "''')\n",
    "conn.commit()\n",
    "\n",
    "for x in result:\n",
    "    print(x)"
   ]
  },
  {
   "cell_type": "markdown",
   "id": "af9bbb48",
   "metadata": {},
   "source": [
    "#### Pokemon tipe 1 Dragon punya rata-rata defense berapa?"
   ]
  },
  {
   "cell_type": "code",
   "execution_count": 146,
   "id": "eac358ca",
   "metadata": {},
   "outputs": [
    {
     "name": "stdout",
     "output_type": "stream",
     "text": [
      "(68.33333333333333,)\n"
     ]
    }
   ],
   "source": [
    "result = conn.execute('''\n",
    "select avg(defense) from pokemons where type1 = \"Dragon\"\n",
    "''')\n",
    "conn.commit()\n",
    "\n",
    "for x in result:\n",
    "    print(x)"
   ]
  },
  {
   "cell_type": "markdown",
   "id": "017a5ca7",
   "metadata": {},
   "source": [
    "#### Dari tipe Water or Fire Pokemon, mana yang lebih tinggi rata2 attack speednya?"
   ]
  },
  {
   "cell_type": "code",
   "execution_count": 155,
   "id": "27892217",
   "metadata": {},
   "outputs": [
    {
     "name": "stdout",
     "output_type": "stream",
     "text": [
      "('Fire', 84.58333333333333)\n",
      "('Water', 64.82142857142857)\n"
     ]
    }
   ],
   "source": [
    "result = conn.execute('''\n",
    "select type1, avg(sp_atk) as avg_sp_atk\n",
    "  from pokemons \n",
    " where type1 in ('Water', 'Fire') \n",
    " group by type1\n",
    "''')\n",
    "conn.commit()\n",
    "\n",
    "for x in result:\n",
    "    print(x)"
   ]
  },
  {
   "cell_type": "code",
   "execution_count": 159,
   "id": "360b62a0",
   "metadata": {},
   "outputs": [
    {
     "ename": "OperationalError",
     "evalue": "misuse of aggregate function avg()",
     "output_type": "error",
     "traceback": [
      "\u001b[1;31m---------------------------------------------------------------------------\u001b[0m",
      "\u001b[1;31mOperationalError\u001b[0m                          Traceback (most recent call last)",
      "\u001b[1;32m~\\AppData\\Local\\Temp\\ipykernel_17636\\1762665618.py\u001b[0m in \u001b[0;36m<module>\u001b[1;34m\u001b[0m\n\u001b[1;32m----> 1\u001b[1;33m result = conn.execute('''\n\u001b[0m\u001b[0;32m      2\u001b[0m \u001b[0mSELECT\u001b[0m \u001b[0mmax\u001b[0m\u001b[1;33m(\u001b[0m\u001b[0mavg\u001b[0m\u001b[1;33m(\u001b[0m\u001b[0msp_atk\u001b[0m\u001b[1;33m)\u001b[0m\u001b[1;33m)\u001b[0m\u001b[1;33m\u001b[0m\u001b[1;33m\u001b[0m\u001b[0m\n\u001b[0;32m      3\u001b[0m \u001b[0mFROM\u001b[0m \u001b[0mpokemons\u001b[0m\u001b[1;33m\u001b[0m\u001b[1;33m\u001b[0m\u001b[0m\n\u001b[0;32m      4\u001b[0m \u001b[0mWHERE\u001b[0m \u001b[0mtype1\u001b[0m \u001b[1;33m=\u001b[0m \u001b[1;34m'Water'\u001b[0m \u001b[0mOR\u001b[0m \u001b[0mtype1\u001b[0m \u001b[1;33m=\u001b[0m \u001b[1;34m'Fire'\u001b[0m\u001b[1;33m\u001b[0m\u001b[1;33m\u001b[0m\u001b[0m\n\u001b[0;32m      5\u001b[0m \u001b[0mGROUP\u001b[0m \u001b[0mBY\u001b[0m \u001b[0mtype1\u001b[0m\u001b[1;33m\u001b[0m\u001b[1;33m\u001b[0m\u001b[0m\n",
      "\u001b[1;31mOperationalError\u001b[0m: misuse of aggregate function avg()"
     ]
    }
   ],
   "source": [
    "result = conn.execute('''\n",
    "SELECT max(avg(sp_atk))\n",
    "FROM pokemons\n",
    "WHERE type1 = 'Water' OR type1 = 'Fire'\n",
    "GROUP BY type1\n",
    "''')\n",
    "conn.commit()\n",
    "\n",
    "for x in result:\n",
    "    print(x)"
   ]
  },
  {
   "cell_type": "markdown",
   "id": "7952ba09",
   "metadata": {},
   "source": [
    "#### Type Pokemon apa yang lebih banyak terklasifikasi kedalam 'Legendary'?"
   ]
  },
  {
   "cell_type": "code",
   "execution_count": null,
   "id": "18f8a2d4",
   "metadata": {},
   "outputs": [],
   "source": []
  },
  {
   "cell_type": "code",
   "execution_count": null,
   "id": "e8c2cde8",
   "metadata": {},
   "outputs": [],
   "source": []
  },
  {
   "cell_type": "code",
   "execution_count": null,
   "id": "6b379b8f",
   "metadata": {},
   "outputs": [],
   "source": []
  },
  {
   "cell_type": "code",
   "execution_count": 160,
   "id": "946ec68b",
   "metadata": {},
   "outputs": [],
   "source": [
    "# Challenge SQLITE"
   ]
  },
  {
   "cell_type": "code",
   "execution_count": null,
   "id": "032fd8bc",
   "metadata": {},
   "outputs": [],
   "source": [
    "# Menggunakan SQLite dalam sebuah API dengan konsep RDBMS <- membuka database\n",
    "# Penyimpanan data dalam SQLite menggunakan modul SQLite 3"
   ]
  },
  {
   "cell_type": "code",
   "execution_count": null,
   "id": "ed0db86c",
   "metadata": {},
   "outputs": [],
   "source": [
    "python (cleansing data), sqllite (operasi penyimpanan data), mysql (operasi query)\n",
    "2 function yang ada di flask:\n",
    "    1. Cleansing data yang ada di dataframe (csv) yang di download\n",
    "    2. Cleasing data yang di input oleh user\n",
    "\n",
    "setelah cleansing data -> save data ke DB (menggunakan SQLlite. Disini harus membuat tablenya dulu, bebas..sebelum melakukan cleansing atau sesudah)\n",
    "\n",
    "function 3 -> Membuka database berdasarkan string yang di input oleh user. targetnya berarti ke string yang belum di cleanse (select * from .... where ....)"
   ]
  }
 ],
 "metadata": {
  "kernelspec": {
   "display_name": "Python 3 (ipykernel)",
   "language": "python",
   "name": "python3"
  },
  "language_info": {
   "codemirror_mode": {
    "name": "ipython",
    "version": 3
   },
   "file_extension": ".py",
   "mimetype": "text/x-python",
   "name": "python",
   "nbconvert_exporter": "python",
   "pygments_lexer": "ipython3",
   "version": "3.9.13"
  }
 },
 "nbformat": 4,
 "nbformat_minor": 5
}
