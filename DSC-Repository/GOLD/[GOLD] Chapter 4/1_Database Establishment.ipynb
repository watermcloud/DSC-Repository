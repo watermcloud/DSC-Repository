{
 "cells": [
  {
   "cell_type": "markdown",
   "metadata": {},
   "source": [
    "# 1. SQLite3 Database Establishment\n",
    "\n",
    "To use SQLite3 in Python, first of all, you will have to import the sqlite3 module and then create a connection object which will connect us to the database and will let us execute the SQL statements.\n",
    "\n",
    "Tutorial Reference: https://likegeeks.com/python-sqlite3-tutorial/\n",
    "\n",
    "A connection object is created using the `connect()` function:\n",
    "\n",
    "```python\n",
    "# Import sqlite3 and create connection to create a new database .db\n",
    "import sqlite3\n",
    "\n",
    "connection = sqlite3.connect('database/db1_Establishment.db')\n",
    "```"
   ]
  },
  {
   "cell_type": "code",
   "execution_count": 7,
   "metadata": {},
   "outputs": [],
   "source": [
    "import sqlite3\n",
    "connection = sqlite3.connect('database/test.db')"
   ]
  },
  {
   "cell_type": "markdown",
   "metadata": {},
   "source": [
    "A new file called `test.db` will be created where our database will be stored.\n",
    "\n",
    "**To Do:** Check your folder whether the db is created or not"
   ]
  },
  {
   "cell_type": "code",
   "execution_count": 8,
   "metadata": {},
   "outputs": [],
   "source": [
    "import sqlite3\n",
    "connection = sqlite3.connect('test.db')"
   ]
  },
  {
   "cell_type": "code",
   "execution_count": null,
   "metadata": {},
   "outputs": [],
   "source": []
  },
  {
   "cell_type": "markdown",
   "metadata": {},
   "source": [
    "## SQLite3 Cursor\n",
    "\n",
    "To execute SQLite statements in Python, you need a cursor object. You can create it using the `cursor()` method.\n",
    "\n",
    "The SQLite3 cursor is a method of the connection object. To execute the SQLite3 statements, a connection is established at first and then an object of the cursor is created using the connection object as follows:\n",
    "\n",
    "```python\n",
    "# Create cursor object after establish connection\n",
    "connection = sqlite3.connect('database/db1_Establishment.db')\n",
    "\n",
    "cursorObj = connection.cursor()\n",
    "```"
   ]
  },
  {
   "cell_type": "code",
   "execution_count": 9,
   "metadata": {},
   "outputs": [],
   "source": [
    "connection = sqlite3.connect('database/test.db')\n",
    "cursorObj = connection.cursor()"
   ]
  },
  {
   "cell_type": "code",
   "execution_count": 10,
   "metadata": {},
   "outputs": [
    {
     "data": {
      "text/plain": [
       "<sqlite3.Cursor at 0x7ffc2004c110>"
      ]
     },
     "execution_count": 10,
     "metadata": {},
     "output_type": "execute_result"
    }
   ],
   "source": [
    "cursorObj"
   ]
  },
  {
   "cell_type": "markdown",
   "metadata": {},
   "source": [
    "Now we can use the cursor object to call the `execute()` method to execute any SQL queries.\n",
    "\n",
    "\n",
    "## Create Table\n",
    "To create a table in SQLite3, you can use the Create Table query in the `execute()` method. Consider the following steps:\n",
    "\n",
    "1. The connection object is created\n",
    "2. Cursor object is created using the connection object\n",
    "3. Using cursor object, execute method is called with create table query as the parameter\n",
    "\n",
    "Let’s create employees with the following attributes:\n",
    "\n",
    "```sql\n",
    "employees (id, name, salary, department, position, hireDate)\n",
    "```\n",
    "\n",
    "```python\n",
    "# Drop Table If Exist first (Best Practice when creating new table)\n",
    "cursorObj.execute(\"DROP TABLE IF EXISTS employees\")\n",
    "connection.commit()\n",
    "\n",
    "# Execute command from cursor object then do the commit\n",
    "cursorObj.execute(\"CREATE TABLE employees(id integer PRIMARY KEY, name test, salary real, department text, position text, hiredDate text)\")\n",
    "connection.commit()\n",
    "```"
   ]
  },
  {
   "cell_type": "code",
   "execution_count": 11,
   "metadata": {},
   "outputs": [],
   "source": [
    "# employees(id, name, salary, department, position, hireDate)\n",
    "#Drop Table\n",
    "cursorObj.execute(\"DROP TABLE IF EXISTS employees\")\n",
    "connection.commit()\n",
    "\n",
    "#Execute command from cursor object\n",
    "cursorObj.execute(\"CREATE TABLE employees(id integer PRIMARY KEY, name text, salary real, department text, position text, hireDate text)\")\n",
    "connection.commit()"
   ]
  },
  {
   "cell_type": "markdown",
   "metadata": {},
   "source": [
    "## Insert in Table\n",
    "To insert data in a table, we use the **INSERT INTO** statement. Consider the following line of code:\n",
    "\n",
    "```python\n",
    "# Insert row/values into table\n",
    "cursorObj.execute(\"INSERT INTO employees VALUES(1, 'John', 700, 'HR', 'Manager', '2017-01-04')\")\n",
    "connection.commit()\n",
    "```"
   ]
  },
  {
   "cell_type": "code",
   "execution_count": 12,
   "metadata": {},
   "outputs": [],
   "source": [
    "cursorObj.execute(\"INSERT INTO employees VALUES(1, 'John',700, 'HR', 'Manager', '2017-01-04')\")\n",
    "connection.commit()"
   ]
  },
  {
   "cell_type": "code",
   "execution_count": null,
   "metadata": {},
   "outputs": [],
   "source": []
  },
  {
   "cell_type": "markdown",
   "metadata": {},
   "source": [
    "We can also pass `values/arguments` to an **INSERT** statement in the execute() method. You can use the `question mark (?)` as a placeholder for each value. The syntax of the **INSERT** will be like the following:\n",
    "\n",
    "```python\n",
    "# Create variable of values/arguments\n",
    "entities = (2, 'Andrew', 800, 'IT', 'Tech', '2018-02-06')\n",
    "\n",
    "# Execute INSERT statement\n",
    "cursorObj.execute('''INSERT INTO employees(id, name, salary, department, position, hiredDate) VALUES(?, ?, ?, ?, ?, ?)''', \n",
    "                  entities)\n",
    "connection.commit()\n",
    "```"
   ]
  },
  {
   "cell_type": "code",
   "execution_count": 13,
   "metadata": {},
   "outputs": [],
   "source": [
    "#buat variable\n",
    "entities = (2, 'Andrew', 800, 'IT', 'Tech', '2018-02-2016')\n",
    "\n",
    "#execute SQL statement INSERT\n",
    "cursorObj.execute('''INSERT INTO employees(id, name, salary, department, position, hireDate)VALUES(?,?,?,?,?,?)''', entities)\n",
    "connection.commit()"
   ]
  },
  {
   "cell_type": "markdown",
   "metadata": {},
   "source": [
    "## Insert in Table using Loop\n",
    "We can also use question mark formatting to insert data to table inside the for loop statement in python.\n",
    "\n",
    "```python\n",
    "# Create variable of list contain values/arguments\n",
    "entities = [(3, 'Phillip', 750, 'Finance', 'Accounting', '2016-05-12'),\n",
    "            (4, 'Andreas', 650, 'HR', 'Admin', '2018-08-22'),\n",
    "            (5, 'Trias', 920, 'Tech', 'Manager', '2012-01-29')]\n",
    "\n",
    "# Execute INSERT statement inside loop\n",
    "for entity in entities:\n",
    "    cursorObj.execute('''INSERT INTO employees(id, name, salary, department, position, hiredDate) VALUES(?, ?, ?, ?, ?, ?)''', \n",
    "                      entity)\n",
    "    connection.commit()\n",
    "```"
   ]
  },
  {
   "cell_type": "code",
   "execution_count": 14,
   "metadata": {},
   "outputs": [],
   "source": [
    "entities = [(3, 'Phillip', 750, 'Finance', 'Accounting', '2016-05-12'),\n",
    "            (4, 'Andreas', 650, 'HR', 'Admin', '2018-08-22'),\n",
    "            (5, 'Trias', 920, 'Tech', 'Manager', '2012-01-29')]\n",
    "\n",
    "for entity in entities:\n",
    "    cursorObj.execute('''INSERT INTO employees(id, name, salary, department, position, hireDate) VALUES(?,?,?,?,?,?)''',\n",
    "                      entity)\n",
    "connection.commit()"
   ]
  },
  {
   "cell_type": "markdown",
   "metadata": {},
   "source": [
    "## Update Table\n",
    "To update the table simply create a connection, then create a cursor object using the connection and finally use the **UPDATE** statement in the `execute()` method.\n",
    "\n",
    "Suppose that we want to update the `name of the employee whose id equals 2`. For updating, we will use the **UPDATE** statement and for the employee whose id equals 2. We will use the **WHERE** clause as a condition to select this employee.\n",
    "\n",
    "Consider the following code:\n",
    "\n",
    "```python\n",
    "# Update table using UPDATE and WHERE statement\n",
    "cursorObj.execute('UPDATE employees SET name = \"Rogers\" where id = 2')\n",
    "connection.commit()\n",
    "```"
   ]
  },
  {
   "cell_type": "code",
   "execution_count": 16,
   "metadata": {},
   "outputs": [],
   "source": [
    "cursorObj.execute('UPDATE employees SET name = \"Rogers\" where id = 2')\n",
    "connection.commit()"
   ]
  },
  {
   "cell_type": "markdown",
   "metadata": {},
   "source": [
    "## Select statement\n",
    "The select statement is used to select data from a particular table. If you want to select all the columns of the data from a table, you can use the `asterisk (*)`. "
   ]
  },
  {
   "cell_type": "markdown",
   "metadata": {},
   "source": [
    "In SQLite3, the **SELECT** statement is executed in the execute method of the cursor object. For example, select all the columns of the employees’ table, run the following code:\n",
    "\n",
    "```sql\n",
    "cursorObj.execute('SELECT * FROM employees ')\n",
    "```\n",
    "\n",
    "### Select * and Fetchall\n",
    "The select statement selects the required data from the database table and if you want to fetch the selected data, the `fetchall()` method of the cursor object is used. \n",
    "\n",
    "```python\n",
    "# Select all column in table emplyees and fetch all rows\n",
    "cursorObj.execute(\"SELECT * FROM employees\")\n",
    "cursorObj.fetchall()\n",
    "```"
   ]
  },
  {
   "cell_type": "code",
   "execution_count": 17,
   "metadata": {},
   "outputs": [
    {
     "data": {
      "text/plain": [
       "<sqlite3.Cursor at 0x7ffc2004c110>"
      ]
     },
     "execution_count": 17,
     "metadata": {},
     "output_type": "execute_result"
    }
   ],
   "source": [
    "cursorObj.execute('SELECT * FROM employees')"
   ]
  },
  {
   "cell_type": "code",
   "execution_count": 18,
   "metadata": {},
   "outputs": [
    {
     "data": {
      "text/plain": [
       "[(1, 'John', 700.0, 'HR', 'Manager', '2017-01-04'),\n",
       " (2, 'Rogers', 800.0, 'IT', 'Tech', '2018-02-2016'),\n",
       " (3, 'Phillip', 750.0, 'Finance', 'Accounting', '2016-05-12'),\n",
       " (4, 'Andreas', 650.0, 'HR', 'Admin', '2018-08-22'),\n",
       " (5, 'Trias', 920.0, 'Tech', 'Manager', '2012-01-29')]"
      ]
     },
     "execution_count": 18,
     "metadata": {},
     "output_type": "execute_result"
    }
   ],
   "source": [
    "cursorObj.execute(\"SELECT * FROM employees\")\n",
    "cursorObj.fetchall()"
   ]
  },
  {
   "cell_type": "code",
   "execution_count": null,
   "metadata": {},
   "outputs": [],
   "source": []
  },
  {
   "cell_type": "markdown",
   "metadata": {},
   "source": [
    "### Select some columns and Fetchone\n",
    "\n",
    "If you want to select a few columns from a table then specify the columns like the following:\n",
    "For example,\n",
    "```sql\n",
    "cursorObj.execute('SELECT id, name FROM employees')\n",
    "```\n",
    "Then to fetch only one rows of the query, we can use `fetchone()`\n",
    "\n",
    "```python\n",
    "# Select column id & name and fetch ony the first row\n",
    "cursorObj.execute(\"SELECT id, name FROM employees\")\n",
    "cursorObj.fetchone()\n",
    "```"
   ]
  },
  {
   "cell_type": "code",
   "execution_count": 19,
   "metadata": {},
   "outputs": [
    {
     "data": {
      "text/plain": [
       "(1, 'John')"
      ]
     },
     "execution_count": 19,
     "metadata": {},
     "output_type": "execute_result"
    }
   ],
   "source": [
    "cursorObj.execute(\"SELECT id, name FROM employees\")\n",
    "cursorObj.fetchone()"
   ]
  },
  {
   "cell_type": "markdown",
   "metadata": {},
   "source": [
    "## Count Row of Query\n",
    "\n",
    "**To Do:** Count total rows of table employees"
   ]
  },
  {
   "cell_type": "code",
   "execution_count": 20,
   "metadata": {},
   "outputs": [
    {
     "data": {
      "text/plain": [
       "[(5,)]"
      ]
     },
     "execution_count": 20,
     "metadata": {},
     "output_type": "execute_result"
    }
   ],
   "source": [
    "cursorObj.execute(\"SELECT count(*) FROM employees\")\n",
    "cursorObj.fetchall()"
   ]
  }
 ],
 "metadata": {
  "kernelspec": {
   "display_name": "binar-env",
   "language": "python",
   "name": "python3"
  },
  "language_info": {
   "codemirror_mode": {
    "name": "ipython",
    "version": 3
   },
   "file_extension": ".py",
   "mimetype": "text/x-python",
   "name": "python",
   "nbconvert_exporter": "python",
   "pygments_lexer": "ipython3",
   "version": "3.8.2"
  },
  "vscode": {
   "interpreter": {
    "hash": "81ced00cb01e31746b1a2fbc2625303b99df6bd10e2b526a0f11b7fa931dfaeb"
   }
  }
 },
 "nbformat": 4,
 "nbformat_minor": 4
}
