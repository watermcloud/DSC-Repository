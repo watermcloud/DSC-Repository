{
  "cells": [
    {
      "cell_type": "markdown",
      "metadata": {
        "id": "s6E6To-pvUbq"
      },
      "source": [
        "# Modul 1 : Python for Data Science\n",
        "\n",
        "First we will learn about basic programming with Python to utilize it's library and usage in data science\n",
        "\n",
        "Let's learn. "
      ]
    },
    {
      "cell_type": "markdown",
      "metadata": {
        "id": "w4MpUyXFvUb0"
      },
      "source": [
        "___ \n",
        "## Introduction to Python\n",
        "Python is the world's fastest growing programming language. It used not only by Software Engineers, Mathematicians, Data Analysts, Scientist, Accountants, Network Engineers and even kids because it's ideal programming languange to learn first.\n",
        "1. Solve complex problems in __less time__ with __fewer lines of code__\n",
        "2. Python is multi-purpose language\n",
        "3. Python is High-level language, Cross-platform, having Huge Community and Large Ecosystem of Library, frameworks and tools\n",
        "\n",
        "\n",
        "### 1. REPL\n",
        "\n",
        "![repl](https://github.com/BenedictusAryo/documents_assets/raw/master/New%20CourseMap/exercise_assets/repl.gif)\n",
        "\n",
        "### 2. IPython\n",
        "\n",
        "![ipython](https://github.com/BenedictusAryo/documents_assets/raw/master/New%20CourseMap/exercise_assets/ipython.gif)\n",
        "\n",
        "### 3. IPython Notebook --> Jupyter Notebook\n"
      ]
    },
    {
      "cell_type": "markdown",
      "metadata": {
        "id": "a3o5E0kgvUb2"
      },
      "source": [
        "___\n",
        "## Basic Python\n",
        "\n",
        "\n",
        "### 1. Print Function\n",
        "* print()\n",
        "* print formatting\n",
        "\n",
        "Print is built-in function in python. to use print function, type `print()`\n",
        "\n",
        "**Exercise:** `print(\"Hello world\")`"
      ]
    },
    {
      "cell_type": "markdown",
      "metadata": {
        "id": "v1jMvZ6MvUb5"
      },
      "source": [
        "**Exercise:** print your name and age"
      ]
    },
    {
      "cell_type": "code",
      "execution_count": null,
      "metadata": {
        "id": "_Io7bKdxvUb6",
        "colab": {
          "base_uri": "https://localhost:8080/"
        },
        "outputId": "cf957139-6894-45e9-dac7-de6675d605fe"
      },
      "outputs": [
        {
          "output_type": "stream",
          "name": "stdout",
          "text": [
            "Hello world\n"
          ]
        }
      ],
      "source": [
        "print(\"Hello world\")"
      ]
    },
    {
      "cell_type": "markdown",
      "metadata": {
        "id": "DaIrgQHOvUb7"
      },
      "source": [
        "**Print Formatting**\n",
        "\n",
        "```python\n",
        "name = Aryo\n",
        "print(\"Hello, my name is {}. Nice to meet you !\".format(name))\n",
        "```"
      ]
    },
    {
      "cell_type": "markdown",
      "source": [
        "### Binar test markdown"
      ],
      "metadata": {
        "id": "g5HGGWC1gep0"
      }
    },
    {
      "cell_type": "code",
      "execution_count": null,
      "metadata": {
        "id": "fscgLb0vvUb8",
        "colab": {
          "base_uri": "https://localhost:8080/"
        },
        "outputId": "30c788b3-ce3f-4934-aba3-b8a18c89b1a5"
      },
      "outputs": [
        {
          "output_type": "stream",
          "name": "stdout",
          "text": [
            "Hello, nama saya 10. Senang kenalan sama kamu!\n"
          ]
        }
      ],
      "source": [
        "name =\n",
        "print(\"Hello, nama saya {}. Senang kenalan sama kamu!\".format(name))"
      ]
    },
    {
      "cell_type": "markdown",
      "metadata": {
        "id": "tb_qXqKcvUb9"
      },
      "source": [
        "## 2. Variable\n",
        "\n",
        "We use Variable to store data in memory\n",
        "\n",
        "Example :\n",
        "```python\n",
        "students_count = 1000\n",
        "```"
      ]
    },
    {
      "cell_type": "code",
      "execution_count": null,
      "metadata": {
        "id": "D1qLzz15vUb_",
        "colab": {
          "base_uri": "https://localhost:8080/"
        },
        "outputId": "fba32c06-492d-40f6-9553-f873a564d101"
      },
      "outputs": [
        {
          "output_type": "stream",
          "name": "stdout",
          "text": [
            "1000\n"
          ]
        },
        {
          "output_type": "execute_result",
          "data": {
            "text/plain": [
              "int"
            ]
          },
          "metadata": {},
          "execution_count": 11
        }
      ],
      "source": [
        "students_count = 1000\n",
        "print(students_count)\n",
        "type(students_count)"
      ]
    },
    {
      "cell_type": "code",
      "execution_count": null,
      "metadata": {
        "id": "6_zQSo8gvUb_",
        "colab": {
          "base_uri": "https://localhost:8080/"
        },
        "outputId": "8a0a26ca-1738-44a2-960d-f457f79e27c5"
      },
      "outputs": [
        {
          "output_type": "stream",
          "name": "stdout",
          "text": [
            "5\n"
          ]
        }
      ],
      "source": [
        "x = 4\n",
        "y = 1\n",
        "\n",
        "print(x+y)"
      ]
    },
    {
      "cell_type": "markdown",
      "metadata": {
        "id": "rDJDYTqCvUcA"
      },
      "source": [
        "## 3. Data Type\n",
        "\n",
        "What kind of data that we can save in the variable ?\n",
        "\n",
        "Python will automatically assign the data type. \n",
        "\n",
        "```python\n",
        "students_count = 100\n",
        "rating = 4.99\n",
        "is_published = True\n",
        "course_name = \"Python Programming\"\n",
        "```\n",
        "\n",
        "to check the datatype you can use `type()`"
      ]
    },
    {
      "cell_type": "code",
      "execution_count": null,
      "metadata": {
        "id": "bj1YQ3J4vUcA"
      },
      "outputs": [],
      "source": [
        "students_count = 100 (int)\n",
        "rating = 4.99 # Float (0 - ,.....)\n",
        "is_published = True  #boolean (True / False)\n",
        "course_name = \"Python Programming\""
      ]
    },
    {
      "cell_type": "code",
      "source": [
        "type(students_count)"
      ],
      "metadata": {
        "colab": {
          "base_uri": "https://localhost:8080/"
        },
        "id": "0CtE2oxLiwZb",
        "outputId": "fb68df9d-8ee4-4681-e2b8-47f01b7e3d65"
      },
      "execution_count": null,
      "outputs": [
        {
          "output_type": "execute_result",
          "data": {
            "text/plain": [
              "int"
            ]
          },
          "metadata": {},
          "execution_count": 19
        }
      ]
    },
    {
      "cell_type": "code",
      "source": [
        "type(rating)"
      ],
      "metadata": {
        "colab": {
          "base_uri": "https://localhost:8080/"
        },
        "id": "Cc9rcIyzivPv",
        "outputId": "cefbdf2f-c807-4af9-a2ff-e0f188a4f035"
      },
      "execution_count": null,
      "outputs": [
        {
          "output_type": "execute_result",
          "data": {
            "text/plain": [
              "float"
            ]
          },
          "metadata": {},
          "execution_count": 17
        }
      ]
    },
    {
      "cell_type": "code",
      "source": [
        "type(is_published)"
      ],
      "metadata": {
        "colab": {
          "base_uri": "https://localhost:8080/"
        },
        "id": "8ZpUViuyiuD2",
        "outputId": "beab9085-207c-458a-cc6b-a79d23ce0f18"
      },
      "execution_count": null,
      "outputs": [
        {
          "output_type": "execute_result",
          "data": {
            "text/plain": [
              "bool"
            ]
          },
          "metadata": {},
          "execution_count": 21
        }
      ]
    },
    {
      "cell_type": "code",
      "execution_count": null,
      "metadata": {
        "id": "kpCWicvxvUcB",
        "colab": {
          "base_uri": "https://localhost:8080/"
        },
        "outputId": "02d173e5-5953-47b0-ee6a-cfaf86fafbfa"
      },
      "outputs": [
        {
          "output_type": "execute_result",
          "data": {
            "text/plain": [
              "str"
            ]
          },
          "metadata": {},
          "execution_count": 20
        }
      ],
      "source": [
        "type(course_name)"
      ]
    },
    {
      "cell_type": "markdown",
      "metadata": {
        "id": "4KsStBxTvUcB"
      },
      "source": [
        "In general, there are 3 data types:\n",
        "- Integer\n",
        "- Float\n",
        "- String\n",
        "\n",
        "### Integer\n",
        "**Exercise:** Insert following number, assign to variable, then print them\n",
        "\n",
        "```python\n",
        "apel = 4\n",
        "jeruk = 5\n",
        "total_buah = apel + jeruk\n",
        "\n",
        "print(total_buah)\n",
        "```"
      ]
    },
    {
      "cell_type": "code",
      "execution_count": null,
      "metadata": {
        "id": "5c1lisj6vUcC",
        "colab": {
          "base_uri": "https://localhost:8080/"
        },
        "outputId": "cbc4c343-8dbf-4958-9eca-be6e9129fbd1"
      },
      "outputs": [
        {
          "output_type": "stream",
          "name": "stdout",
          "text": [
            "9\n"
          ]
        }
      ],
      "source": [
        "apel = 4\n",
        "jeruk = 5\n",
        "total_buah = apel + jeruk\n",
        "\n",
        "print(total_buah)"
      ]
    },
    {
      "cell_type": "code",
      "execution_count": null,
      "metadata": {
        "id": "scoKW-3YvUcF",
        "colab": {
          "base_uri": "https://localhost:8080/"
        },
        "outputId": "f282eeb4-ffe3-4bad-bab9-392dbd0a2b4d"
      },
      "outputs": [
        {
          "output_type": "stream",
          "name": "stdout",
          "text": [
            "HaloMas Kasa\n"
          ]
        }
      ],
      "source": [
        "apel = \"Halo\"\n",
        "jeruk = \"Mas Kasa\"\n",
        "total_buah = apel + jeruk\n",
        "\n",
        "print(total_buah)"
      ]
    },
    {
      "cell_type": "markdown",
      "metadata": {
        "id": "Dvh8mxr9vUcG"
      },
      "source": [
        "### Float\n",
        "\n",
        "The float type in Python designates a floating-point number. `float` values are specified with a decimal point.[more-resource](https://realpython.com/python-data-types/)\n",
        "\n",
        "```python\n",
        "panjang = 10.5\n",
        "lebar = 4.6\n",
        "```"
      ]
    },
    {
      "cell_type": "code",
      "execution_count": null,
      "metadata": {
        "id": "aeuXegALvUcH"
      },
      "outputs": [],
      "source": [
        "panjang = 10.5\n",
        "lebar = 4.6"
      ]
    },
    {
      "cell_type": "markdown",
      "metadata": {
        "id": "LLoF8kthvUcJ"
      },
      "source": [
        "**Exercise:** Create variable called `luas` which `panjang * lebar`. And check data type of `luas`"
      ]
    },
    {
      "cell_type": "code",
      "execution_count": null,
      "metadata": {
        "id": "RfwXhC8ZvUcK"
      },
      "outputs": [],
      "source": [
        "luas = panjang * lebar"
      ]
    },
    {
      "cell_type": "code",
      "execution_count": null,
      "metadata": {
        "id": "K1ElDSkUvUcK",
        "colab": {
          "base_uri": "https://localhost:8080/"
        },
        "outputId": "672ed6cb-6b47-4554-ea59-ea340d0a2b44"
      },
      "outputs": [
        {
          "output_type": "execute_result",
          "data": {
            "text/plain": [
              "float"
            ]
          },
          "metadata": {},
          "execution_count": 164
        }
      ],
      "source": [
        "type(luas)"
      ]
    },
    {
      "cell_type": "markdown",
      "metadata": {
        "id": "b0Hgy7bMvUcK"
      },
      "source": [
        "### Boolean\n",
        "\n",
        "only consist of `True` or `False` value with capital T and F\n",
        "\n",
        "```python\n",
        "is_published = True\n",
        "type(is_published)\n",
        "```"
      ]
    },
    {
      "cell_type": "code",
      "execution_count": null,
      "metadata": {
        "id": "pjpb7X1evUcL",
        "colab": {
          "base_uri": "https://localhost:8080/"
        },
        "outputId": "a1a72b98-9408-40a3-c781-8299f215ae7f"
      },
      "outputs": [
        {
          "output_type": "execute_result",
          "data": {
            "text/plain": [
              "bool"
            ]
          },
          "metadata": {},
          "execution_count": 166
        }
      ],
      "source": [
        "is_published = False\n",
        "type(is_published)"
      ]
    },
    {
      "cell_type": "code",
      "execution_count": null,
      "metadata": {
        "id": "DJLhwdTGvUcL",
        "colab": {
          "base_uri": "https://localhost:8080/"
        },
        "outputId": "603c4fb3-ca2d-4beb-dc6b-98b1a5b4d638"
      },
      "outputs": [
        {
          "output_type": "stream",
          "name": "stdout",
          "text": [
            "Stop\n"
          ]
        }
      ],
      "source": [
        "is_published = False\n",
        "if is_published == True:\n",
        "  print(\"Lanjut\")\n",
        "else:\n",
        "  print(\"Stop\")"
      ]
    },
    {
      "cell_type": "markdown",
      "metadata": {
        "id": "YsoFupIrvUcL"
      },
      "source": [
        "### String\n",
        "\n",
        "Strings are sequences of character data. The string type in Python is called `str`.\n",
        "\n",
        "String literals may be delimited using either single or double quotes. All the characters between the opening delimiter and matching closing delimiter are part of the string [more-resource](https://realpython.com/python-data-types/)\n",
        "\n",
        "**Note:** String should be delimited using `'string' or \"string\"`\n",
        "\n",
        "**Exercise:**  create variable called `kalimat` with below sentences and print them\n",
        "```\n",
        "That's why I Love you\n",
        "```"
      ]
    },
    {
      "cell_type": "code",
      "execution_count": null,
      "metadata": {
        "id": "a4FxHBAlvUcL"
      },
      "outputs": [],
      "source": [
        "kalimat = \"That's why i Love you\""
      ]
    },
    {
      "cell_type": "code",
      "execution_count": null,
      "metadata": {
        "id": "SNWO2g0JvUcM",
        "colab": {
          "base_uri": "https://localhost:8080/",
          "height": 35
        },
        "outputId": "8115c722-e15a-44b3-a3be-5fdd774b9b4d"
      },
      "outputs": [
        {
          "output_type": "execute_result",
          "data": {
            "text/plain": [
              "\"That's why i Love you\""
            ],
            "application/vnd.google.colaboratory.intrinsic+json": {
              "type": "string"
            }
          },
          "metadata": {},
          "execution_count": 168
        }
      ],
      "source": [
        "kalimat"
      ]
    },
    {
      "cell_type": "markdown",
      "metadata": {
        "id": "9Abu_Z8wvUcM"
      },
      "source": [
        "### Built-in Function for string\n",
        "#### len()\n",
        "we can use function `len()` to count the length of value and _argument_ of value/variable you want to count.\n",
        "```python\n",
        "course = \"Make-AI Data Science Course\"\n",
        "len(course)\n",
        "```"
      ]
    },
    {
      "cell_type": "code",
      "execution_count": null,
      "metadata": {
        "id": "5Je0Xy8nvUcM",
        "colab": {
          "base_uri": "https://localhost:8080/"
        },
        "outputId": "55a88096-5391-43eb-b449-2fdbb45604a6"
      },
      "outputs": [
        {
          "output_type": "execute_result",
          "data": {
            "text/plain": [
              "27"
            ]
          },
          "metadata": {},
          "execution_count": 169
        }
      ],
      "source": [
        "course = \"Make-AI Data Science Course\"\n",
        "len(course)"
      ]
    },
    {
      "cell_type": "code",
      "execution_count": null,
      "metadata": {
        "id": "_LFYPqGxvUcM",
        "colab": {
          "base_uri": "https://localhost:8080/"
        },
        "outputId": "d8d353aa-b7b9-44b3-88b9-046350b31778"
      },
      "outputs": [
        {
          "output_type": "stream",
          "name": "stdout",
          "text": [
            "Stop\n"
          ]
        }
      ],
      "source": [
        "if len(course) == 25:\n",
        "  print(\"Lanjut\")\n",
        "else:\n",
        "  print(\"Stop\")\n",
        "\n",
        "# len(course)"
      ]
    },
    {
      "cell_type": "markdown",
      "metadata": {
        "id": "MuXsoHVyvUcN"
      },
      "source": [
        "#### String Method \n",
        "\n",
        "We can use function `.upper()`, `.lower()` and also `.title()` \n",
        "\n",
        "Given this variable:\n",
        "```python\n",
        "course = 'daTa sCience'\n",
        "```\n",
        "Make the `course` string\n",
        "* uppercase: DATA SCIENCE\n",
        "* Capitalize: Data science\n",
        "* lowercase: data science\n",
        "* Capitalize each word: Data Science"
      ]
    },
    {
      "cell_type": "code",
      "execution_count": null,
      "metadata": {
        "id": "m9n3S4HTvUcN",
        "colab": {
          "base_uri": "https://localhost:8080/",
          "height": 35
        },
        "outputId": "34b0f307-c9de-40ce-e945-1f72485da83d"
      },
      "outputs": [
        {
          "output_type": "execute_result",
          "data": {
            "text/plain": [
              "'DATA SCIENCE'"
            ],
            "application/vnd.google.colaboratory.intrinsic+json": {
              "type": "string"
            }
          },
          "metadata": {},
          "execution_count": 30
        }
      ],
      "source": [
        "course = 'daTa sCience'\n",
        "\n",
        "course.upper()"
      ]
    },
    {
      "cell_type": "code",
      "execution_count": null,
      "metadata": {
        "id": "1GfAlRc4vUcN",
        "colab": {
          "base_uri": "https://localhost:8080/",
          "height": 35
        },
        "outputId": "184bc29f-a959-4c24-c04e-89a22f1a3943"
      },
      "outputs": [
        {
          "output_type": "execute_result",
          "data": {
            "text/plain": [
              "'data science'"
            ],
            "application/vnd.google.colaboratory.intrinsic+json": {
              "type": "string"
            }
          },
          "metadata": {},
          "execution_count": 31
        }
      ],
      "source": [
        "course.lower()"
      ]
    },
    {
      "cell_type": "code",
      "execution_count": null,
      "metadata": {
        "id": "9-HgOMaVvUcO",
        "colab": {
          "base_uri": "https://localhost:8080/",
          "height": 35
        },
        "outputId": "d6fe287f-6259-47ae-ff47-21826eed10a1"
      },
      "outputs": [
        {
          "output_type": "execute_result",
          "data": {
            "text/plain": [
              "'Data Science'"
            ],
            "application/vnd.google.colaboratory.intrinsic+json": {
              "type": "string"
            }
          },
          "metadata": {},
          "execution_count": 32
        }
      ],
      "source": [
        "course.title()"
      ]
    },
    {
      "cell_type": "markdown",
      "metadata": {
        "id": "5Gdkwa6uvUcO"
      },
      "source": [
        "To remove the white space, we can use function `.strip()`, `lstrip()`, `.rstrip()`.\n",
        "\n",
        "We can also replace with `.replace(\"old\", \"new\")`\n",
        "\n",
        "\n",
        "_Practice :_\n",
        "```python\n",
        "course = \"  Make-AI Data Science Course \"\n",
        "```\n",
        "Remove empty space before Make-AI and replace `Course` with `Learning`"
      ]
    },
    {
      "cell_type": "code",
      "execution_count": null,
      "metadata": {
        "id": "LS88HjM1vUcO",
        "colab": {
          "base_uri": "https://localhost:8080/"
        },
        "outputId": "bdc76d92-3c56-4ae0-b93b-19b401ff7d6b"
      },
      "outputs": [
        {
          "output_type": "stream",
          "name": "stdout",
          "text": [
            "Data Science\n"
          ]
        }
      ],
      "source": [
        "course = \"Data Science\"\n",
        "print(course)"
      ]
    },
    {
      "cell_type": "markdown",
      "metadata": {
        "id": "b0wMRKqpvUcP"
      },
      "source": [
        "#### String Slicing\n",
        "Python string can use indexing to call some character. You can use bracket notation to get access to specific elements or characters\n",
        "```python\n",
        "course = \"Make-AI Data Science Course\"\n",
        "course[0]\n",
        "course[-1]\n",
        "course[0:3]\n",
        "course[4:]\n",
        "course[:3]\n",
        "course[:]\n",
        "```"
      ]
    },
    {
      "cell_type": "code",
      "execution_count": null,
      "metadata": {
        "id": "ThW1R-mGvUcP",
        "colab": {
          "base_uri": "https://localhost:8080/",
          "height": 35
        },
        "outputId": "93764e28-be9f-46bb-a9bd-67415f1f0010"
      },
      "outputs": [
        {
          "output_type": "execute_result",
          "data": {
            "text/plain": [
              "'M'"
            ],
            "application/vnd.google.colaboratory.intrinsic+json": {
              "type": "string"
            }
          },
          "metadata": {},
          "execution_count": 36
        }
      ],
      "source": [
        "course = \"Make-AI Data Science Course\"\n",
        "course[0]"
      ]
    },
    {
      "cell_type": "code",
      "execution_count": null,
      "metadata": {
        "id": "tN1G2aOHvUcP",
        "colab": {
          "base_uri": "https://localhost:8080/",
          "height": 35
        },
        "outputId": "38f24bee-a202-48fb-da3b-83ccd481d155"
      },
      "outputs": [
        {
          "output_type": "execute_result",
          "data": {
            "text/plain": [
              "'e'"
            ],
            "application/vnd.google.colaboratory.intrinsic+json": {
              "type": "string"
            }
          },
          "metadata": {},
          "execution_count": 37
        }
      ],
      "source": [
        "course[-1]"
      ]
    },
    {
      "cell_type": "code",
      "execution_count": null,
      "metadata": {
        "id": "OwR9Qi8vvUcP",
        "colab": {
          "base_uri": "https://localhost:8080/",
          "height": 35
        },
        "outputId": "8f88643a-b8f3-4756-cc6b-5c3d034c3e95"
      },
      "outputs": [
        {
          "output_type": "execute_result",
          "data": {
            "text/plain": [
              "'Make'"
            ],
            "application/vnd.google.colaboratory.intrinsic+json": {
              "type": "string"
            }
          },
          "metadata": {},
          "execution_count": 39
        }
      ],
      "source": [
        "course[0:4]"
      ]
    },
    {
      "cell_type": "code",
      "execution_count": null,
      "metadata": {
        "id": "HaHXkZCqvUcQ",
        "colab": {
          "base_uri": "https://localhost:8080/",
          "height": 35
        },
        "outputId": "110d9a7d-7170-4979-90f0-29977739360c"
      },
      "outputs": [
        {
          "output_type": "execute_result",
          "data": {
            "text/plain": [
              "'Make'"
            ],
            "application/vnd.google.colaboratory.intrinsic+json": {
              "type": "string"
            }
          },
          "metadata": {},
          "execution_count": 41
        }
      ],
      "source": [
        "course[:4]"
      ]
    },
    {
      "cell_type": "code",
      "source": [
        "course = [[1, 2, 3, 4], [2,3.2, 4.0]]\n",
        "print(course)"
      ],
      "metadata": {
        "colab": {
          "base_uri": "https://localhost:8080/"
        },
        "id": "qyltx1anq5Ld",
        "outputId": "f7afd468-6c42-4796-a89b-1b051502350e"
      },
      "execution_count": null,
      "outputs": [
        {
          "output_type": "stream",
          "name": "stdout",
          "text": [
            "[[1, 2, 3, 4], [2, 3.2, 4.0]]\n"
          ]
        }
      ]
    },
    {
      "cell_type": "markdown",
      "metadata": {
        "id": "fxnbTybrvUcQ"
      },
      "source": [
        "**Exercise:** Declare variable `nama` :\n",
        "```python\n",
        "nama = 'badillah'\n",
        "```\n",
        "Using print function using `nama` above, so it can print below result\n",
        "```python\n",
        "Halo, Nama saya Badillah, saya sering dipanggil Badi.\n",
        "```"
      ]
    },
    {
      "cell_type": "code",
      "execution_count": null,
      "metadata": {
        "id": "HWYa_lXrvUcQ"
      },
      "outputs": [],
      "source": [
        "nama = 'badillah'"
      ]
    },
    {
      "cell_type": "code",
      "execution_count": null,
      "metadata": {
        "id": "Cw3aiww7vUcQ",
        "colab": {
          "base_uri": "https://localhost:8080/"
        },
        "outputId": "80408689-c390-40a1-d2f8-3d583868e12f"
      },
      "outputs": [
        {
          "output_type": "stream",
          "name": "stdout",
          "text": [
            "Halo, Nama Saya badillah saya sering dipanggil Badi\n"
          ]
        }
      ],
      "source": [
        "print(\"Halo, Nama Saya\",nama, \"saya sering dipanggil Badi\")"
      ]
    },
    {
      "cell_type": "markdown",
      "metadata": {
        "id": "xsLSXMFTvUcQ"
      },
      "source": [
        "#### Double Quotes and Single Quotes\n",
        "1. Python can use double quote and single quote\n",
        "2. Using Prefix \\\n",
        "3. Double \\\\ to add \\ in the string\n",
        "4. Add \\n to print in the new line\n",
        "5. To print multiple line of string you can use 3 times quote\n",
        "\n",
        "**Exercise:** \n",
        "```python\n",
        "message = \"\"\"\n",
        "Dear Diary,\n",
        "Today was very bad day\n",
        "\"\"\"\n",
        "print(message)\n",
        "```"
      ]
    },
    {
      "cell_type": "code",
      "execution_count": null,
      "metadata": {
        "id": "qZLeo2T6vUcR",
        "colab": {
          "base_uri": "https://localhost:8080/"
        },
        "outputId": "7a48949b-c32a-4551-9d39-b81bf795a46d"
      },
      "outputs": [
        {
          "output_type": "stream",
          "name": "stdout",
          "text": [
            "\n",
            "ini membuat logik cek true false ini membuat logik cek true false\n",
            "ini membuat logik cek true false\n",
            "ini membuat logik cek true false\n",
            "ini membuat logik cek true false\n",
            "ini membuat logik cek true false\n",
            "\n",
            "\n"
          ]
        }
      ],
      "source": [
        "message = \"\"\"\n",
        "ini membuat logik cek true false\n",
        "ini membuat logik cek true false\n",
        "ini membuat logik cek true false\n",
        "ini membuat logik cek true false\n",
        "ini membuat logik cek true false\n",
        "\"\"\"\n",
        "\n",
        "print(message)"
      ]
    },
    {
      "cell_type": "markdown",
      "metadata": {
        "id": "x-8mTOX9vUcb"
      },
      "source": [
        "#### String Formatting\n",
        "\n",
        "```python\n",
        "first_name = \"Benedict\"\n",
        "last_name = \"Aryo\"\n",
        "full_name = ?\n",
        "```\n",
        "**Concatenating String :**\n",
        "```python\n",
        "first_name + \" \" + last_name\n",
        "```\n",
        "**String Formatting :**\n",
        "```python\n",
        "# Method 1\n",
        "\"{} {}\".format(first_name, last_name)\"\n",
        "\n",
        "# Method 2\n",
        "f\"{first_name} {last_name}\"\n",
        "```"
      ]
    },
    {
      "cell_type": "code",
      "execution_count": null,
      "metadata": {
        "id": "sUiDCkgqvUcc",
        "colab": {
          "base_uri": "https://localhost:8080/",
          "height": 35
        },
        "outputId": "fd08cc50-33bb-47fc-ae27-9015406f4a57"
      },
      "outputs": [
        {
          "output_type": "execute_result",
          "data": {
            "text/plain": [
              "'Aryo Benedict AryoBenedict'"
            ],
            "application/vnd.google.colaboratory.intrinsic+json": {
              "type": "string"
            }
          },
          "metadata": {},
          "execution_count": 176
        }
      ],
      "source": [
        "first_name = \"Aryo\"\n",
        "last_name = \"Benedict\"\n",
        "full_name = first_name + last_name\n",
        "\n",
        "# print()\n",
        "first_name + \" \" + last_name\n",
        "# Method 1\n",
        "\"{} {} {}\".format(first_name, last_name, full_name)"
      ]
    },
    {
      "cell_type": "code",
      "source": [
        "#Method 2\n",
        "f\"{first_name} {last_name} {full_name}\""
      ],
      "metadata": {
        "colab": {
          "base_uri": "https://localhost:8080/",
          "height": 35
        },
        "id": "UKXVSOzZFNAb",
        "outputId": "f4548647-430c-408d-9b46-025e6a667943"
      },
      "execution_count": null,
      "outputs": [
        {
          "output_type": "execute_result",
          "data": {
            "text/plain": [
              "'Aryo Benedict AryoBenedict'"
            ],
            "application/vnd.google.colaboratory.intrinsic+json": {
              "type": "string"
            }
          },
          "metadata": {},
          "execution_count": 175
        }
      ]
    },
    {
      "cell_type": "markdown",
      "metadata": {
        "id": "mt2YuyxjvUcc"
      },
      "source": [
        "## 4. Data Structure\n",
        "### 4.1. List\n",
        "List is Built-in Data Structure in Python, to create list use `[]` square bracket.\n",
        "\n",
        "_Practice :_\n",
        "```python\n",
        "letters = [\"a\", \"b\", \"c\"]\n",
        "numbers = [1, 2, 3]\n",
        "mixed = [1, \"b\", 3.5]\n",
        "matrix = [[0, 1], [2, 3]]\n",
        "nested = [1, 2, [\"a\", [3, 4], \"b\"]]\n",
        "zeros = [0] * 5\n",
        "combined = zeros + letters\n",
        "list_func = list(range(20))\n",
        "chars = list(\"Hello world\")\n",
        "```\n"
      ]
    },
    {
      "cell_type": "code",
      "execution_count": null,
      "metadata": {
        "id": "x8JckSlPvUce",
        "colab": {
          "base_uri": "https://localhost:8080/"
        },
        "outputId": "b9c22ede-54b1-4563-ed0b-23abc186b869"
      },
      "outputs": [
        {
          "output_type": "stream",
          "name": "stdout",
          "text": [
            "[1, 2, ['a', [3, 4], 'b']]\n"
          ]
        }
      ],
      "source": [
        "nested = [1, 2, [\"a\", [3, 4], \"b\"]]\n",
        "print(nested)"
      ]
    },
    {
      "cell_type": "markdown",
      "metadata": {
        "id": "COuVxFxtvUce"
      },
      "source": [
        "#### Accessing element in list\n",
        "To access element in list, we can use square bracket `[index]` with index number of the element wanted to slice the list\n",
        "\n",
        "_Exercise :_\n",
        "```python\n",
        "vowels = [\"a\", \"i\", \"u\", \"e\", \"o\"]\n",
        "```\n",
        "1. Replace \"a\" with \"A\"\n",
        "2. Get first 3 value\n",
        "3. Get last 2 value"
      ]
    },
    {
      "cell_type": "code",
      "execution_count": null,
      "metadata": {
        "id": "AFCGfJgKvUcf",
        "colab": {
          "base_uri": "https://localhost:8080/"
        },
        "outputId": "06de6494-ba92-4271-a0a5-be54122973cd"
      },
      "outputs": [
        {
          "output_type": "stream",
          "name": "stdout",
          "text": [
            "['A', 'i', 'u', 'e', 'o']\n"
          ]
        }
      ],
      "source": [
        "vowels = [\"a\", \"i\", \"u\", \"e\", \"o\"]\n",
        "\n",
        "vowels[0] = \"A\"\n",
        "print(vowels)"
      ]
    },
    {
      "cell_type": "code",
      "execution_count": null,
      "metadata": {
        "id": "um4TQvABvUcg",
        "colab": {
          "base_uri": "https://localhost:8080/"
        },
        "outputId": "af60499e-cfd9-427c-fbff-653965f26025"
      },
      "outputs": [
        {
          "output_type": "stream",
          "name": "stdout",
          "text": [
            "['A']\n"
          ]
        }
      ],
      "source": [
        "vowels = [\"a\", \"i\", \"u\", \"e\", \"o\"]\n",
        "\n",
        "vowels[0] = \"A\"\n",
        "print(vowels)"
      ]
    },
    {
      "cell_type": "code",
      "execution_count": null,
      "metadata": {
        "id": "HPxgQcRzvUcg",
        "colab": {
          "base_uri": "https://localhost:8080/"
        },
        "outputId": "5531c9c8-d11d-45de-abfa-6cfbeb78ce5e"
      },
      "outputs": [
        {
          "output_type": "stream",
          "name": "stdout",
          "text": [
            "['A', 'i', 'u']\n"
          ]
        }
      ],
      "source": [
        "print(vowels[0:3])"
      ]
    },
    {
      "cell_type": "code",
      "source": [
        "print(vowels[-2:])"
      ],
      "metadata": {
        "colab": {
          "base_uri": "https://localhost:8080/"
        },
        "id": "P09BS8UnxATr",
        "outputId": "7ac489ca-6a67-42eb-d8c6-8bdc12d15c18"
      },
      "execution_count": null,
      "outputs": [
        {
          "output_type": "stream",
          "name": "stdout",
          "text": [
            "['e', 'o']\n"
          ]
        }
      ]
    },
    {
      "cell_type": "code",
      "source": [
        "print(vowels[3:])"
      ],
      "metadata": {
        "colab": {
          "base_uri": "https://localhost:8080/"
        },
        "id": "G7bRuGuqxJZ7",
        "outputId": "76ab0c2c-57d8-4af8-b175-6b39c7dd8b59"
      },
      "execution_count": null,
      "outputs": [
        {
          "output_type": "stream",
          "name": "stdout",
          "text": [
            "['e', 'o']\n"
          ]
        }
      ]
    },
    {
      "cell_type": "markdown",
      "metadata": {
        "id": "d_rv7UsgvUci"
      },
      "source": [
        "#### Append element to list\n",
        "using `list.append('new')`\n",
        "\n",
        "**Exercise:**\n",
        "```python\n",
        "murid = ['Andi','Budi','Susi']\n",
        "```\n",
        "Add `'Yanti'` to the list `murid`"
      ]
    },
    {
      "cell_type": "code",
      "execution_count": null,
      "metadata": {
        "id": "A7MSJ3pBvUci",
        "colab": {
          "base_uri": "https://localhost:8080/"
        },
        "outputId": "87cafc43-3e0d-4885-a847-a9b316683d06"
      },
      "outputs": [
        {
          "output_type": "stream",
          "name": "stdout",
          "text": [
            "['Andi', 'Budi', 'Susi', 'Yanti']\n"
          ]
        }
      ],
      "source": [
        "murid = ['Andi', 'Budi', 'Susi']\n",
        "murid.append(\"Yanti\")\n",
        "print(murid)"
      ]
    },
    {
      "cell_type": "markdown",
      "metadata": {
        "id": "jORLgNt0vUcj"
      },
      "source": [
        "### 4.2. Dictionary\n",
        "Dictionary is collections of key, value pairs. We use Dictionary to map value to its key.\n",
        "`name -> contact`\n",
        "\n",
        "```python\n",
        "point = {\"x\": 1, \"y\": 2}\n",
        "point = dict(x=1, y=2)\n",
        "\n",
        "```\n",
        "Because Dictionary is ollections of key, value pairs we cannot access on item with numeric index\n",
        "```python\n",
        "point[\"x\"]\n",
        "```\n",
        "Assign value / new value:\n",
        "```python\n",
        "point[\"x\"] = 10\n",
        "point[\"y\"] = 20\n",
        "```"
      ]
    },
    {
      "cell_type": "code",
      "execution_count": null,
      "metadata": {
        "id": "ROstMMJYvUcj",
        "colab": {
          "base_uri": "https://localhost:8080/"
        },
        "outputId": "e50c9ffa-4787-4e88-91dc-4ac06457ded6"
      },
      "outputs": [
        {
          "output_type": "stream",
          "name": "stdout",
          "text": [
            "1\n"
          ]
        }
      ],
      "source": [
        "point = {\n",
        "    \"x\": 1, \n",
        "    \"y\": 2\n",
        "    }\n",
        "\n",
        "print(point.get(\"x\"))\n",
        "\n",
        "#ini sering dipakai di JSON (javascript object notation)\n",
        "#object/list/array -- simbolnya [] --> ada di dalam dictionary\n",
        "\n",
        "#dictionary -- simbolnya {} --> adalah kumpulan dari object"
      ]
    },
    {
      "cell_type": "code",
      "execution_count": null,
      "metadata": {
        "id": "XRrL8tZ1vUck",
        "colab": {
          "base_uri": "https://localhost:8080/"
        },
        "outputId": "85e632ea-6f3f-477f-e390-abcf48e4924d"
      },
      "outputs": [
        {
          "output_type": "stream",
          "name": "stdout",
          "text": [
            "1\n"
          ]
        }
      ],
      "source": [
        "point = {\"x\": 1, \"y\": 2}\n",
        "point = dict(x=1, y=2)\n",
        "\n",
        "print(point[\"x\"])"
      ]
    },
    {
      "cell_type": "markdown",
      "metadata": {
        "id": "0KzrJhZqvUcm"
      },
      "source": [
        "### 4.3. Tupple\n",
        "Tupple is Data Structure of container in python that is _immutable_. in short, it's read-only list.\n",
        "\n",
        "Usually we use parentheses `()` to define a tupple\n",
        "```python\n",
        "point = (1, 2)\n",
        "type(point)\n",
        "``` \n",
        "_Exercise :_\n",
        "```python\n",
        "points = (1, 2) + (3, 4)\n",
        "repetition = (1, 2) * 3\n",
        "```\n",
        "Tupple is immutable (cannot be changed)\n",
        "```python\n",
        "point[0] = 3\n",
        "```"
      ]
    },
    {
      "cell_type": "code",
      "execution_count": null,
      "metadata": {
        "id": "pfgD5Bm4vUcn",
        "colab": {
          "base_uri": "https://localhost:8080/"
        },
        "outputId": "679aab35-5a6b-49d7-b4e8-fe6197f0b03d"
      },
      "outputs": [
        {
          "output_type": "stream",
          "name": "stdout",
          "text": [
            "2\n"
          ]
        },
        {
          "output_type": "execute_result",
          "data": {
            "text/plain": [
              "(1, 2)"
            ]
          },
          "metadata": {},
          "execution_count": 130
        }
      ],
      "source": [
        "point = (1, 2)\n",
        "point = point * 2\n",
        "print(point[1])\n",
        "point[-2:]"
      ]
    },
    {
      "cell_type": "markdown",
      "metadata": {
        "id": "kUCuleqcvUcq"
      },
      "source": [
        "#### Swapping Variable\n",
        "```python\n",
        "x = 10\n",
        "y = 20\n",
        "```\n",
        "_Exercise :_\n",
        "**Swap the value x to 20 and y to 10**"
      ]
    },
    {
      "cell_type": "code",
      "execution_count": null,
      "metadata": {
        "id": "R0bsR1EovUcr",
        "colab": {
          "base_uri": "https://localhost:8080/"
        },
        "outputId": "6b419906-c566-44a4-8e8d-795cb0e9b9f7"
      },
      "outputs": [
        {
          "output_type": "stream",
          "name": "stdout",
          "text": [
            "x 20\n",
            "y 10\n"
          ]
        }
      ],
      "source": [
        "x = 10\n",
        "y = 20\n",
        "\n",
        "print('x', y)\n",
        "print('y', x)"
      ]
    },
    {
      "cell_type": "markdown",
      "metadata": {
        "id": "qjNZUbbovUcs"
      },
      "source": [
        "## 5. Comparison Operator\n",
        "We use Comparison Operator to __compare value__.\n",
        "```python\n",
        "10 > 3\n",
        "10 >= 3\n",
        "3 == 50\n",
        "10 == \"10\"\n",
        "20 != \"20\"\n",
        "\"bag\" > \"apple\"\n",
        "\"bag\" == \"BAG\"\n",
        "```\n",
        "We sort \"bag\", it's comes after \"apple\" so, it's considered as __Greater__\n",
        "\n",
        "Confused ?\n",
        "Use function `ord()`\n",
        "```\n",
        "ord(\"b\")\n",
        "ord(\"B\")\n",
        "```"
      ]
    },
    {
      "cell_type": "code",
      "execution_count": null,
      "metadata": {
        "id": "gspn7HvZvUct"
      },
      "outputs": [],
      "source": [
        "x = 10\n",
        "y = \"sepuluh\"\n",
        "\n",
        "if type(x) != int:\n",
        "  print(\"benar\")"
      ]
    },
    {
      "cell_type": "code",
      "source": [
        "ord(\"a\")"
      ],
      "metadata": {
        "colab": {
          "base_uri": "https://localhost:8080/"
        },
        "id": "CnzojcPQ3UgZ",
        "outputId": "30a012b3-5f83-432f-bb85-4f1b9125eacf"
      },
      "execution_count": null,
      "outputs": [
        {
          "output_type": "execute_result",
          "data": {
            "text/plain": [
              "118"
            ]
          },
          "metadata": {},
          "execution_count": 106
        }
      ]
    },
    {
      "cell_type": "code",
      "source": [
        "ord(\"b\")"
      ],
      "metadata": {
        "colab": {
          "base_uri": "https://localhost:8080/"
        },
        "id": "7IY6sVYg335q",
        "outputId": "500a98cc-ac13-4c26-d465-a25881fb3f78"
      },
      "execution_count": null,
      "outputs": [
        {
          "output_type": "execute_result",
          "data": {
            "text/plain": [
              "98"
            ]
          },
          "metadata": {},
          "execution_count": 107
        }
      ]
    },
    {
      "cell_type": "markdown",
      "metadata": {
        "id": "tLjlrEybvUcu"
      },
      "source": [
        "## Control Flow\n",
        "\n",
        "\n",
        "### 6. Conditional Statement \n",
        "#### 6.1. If - Else\n",
        "We use `if` to make decision expression\n",
        "```python\n",
        "temperature = 38\n",
        "\n",
        "if temperature > 36:\n",
        "    print(\"You have a fever\")\n",
        "else:\n",
        "    print(\"You are cold\")\n",
        "```\n",
        "What if `temperature = 15` ?\n"
      ]
    },
    {
      "cell_type": "code",
      "execution_count": null,
      "metadata": {
        "id": "FO-6p9U6vUcw",
        "colab": {
          "base_uri": "https://localhost:8080/"
        },
        "outputId": "62e141b8-a72f-4fb8-cffc-b72715fc4a54"
      },
      "outputs": [
        {
          "output_type": "stream",
          "name": "stdout",
          "text": [
            "You are cold\n"
          ]
        }
      ],
      "source": [
        "temperature = 15\n",
        "\n",
        "if temperature > 36:\n",
        "    print(\"You have a fever\")\n",
        "else:\n",
        "    print(\"You are cold\")"
      ]
    },
    {
      "cell_type": "code",
      "execution_count": null,
      "metadata": {
        "id": "iQn-2LypvUcy",
        "colab": {
          "base_uri": "https://localhost:8080/"
        },
        "outputId": "f9e458ee-8431-4859-f15e-23d52e3c2686"
      },
      "outputs": [
        {
          "output_type": "stream",
          "name": "stdout",
          "text": [
            "You have a fever\n"
          ]
        }
      ],
      "source": [
        "temperature = 15\n",
        "\n",
        "if temperature == 15:\n",
        "    print(\"You have a fever\")\n",
        "else:\n",
        "    print(\"You are cold\")"
      ]
    },
    {
      "cell_type": "markdown",
      "metadata": {
        "id": "GCRMk18xvUcz"
      },
      "source": [
        "#### 6.2. If - Elif\n",
        "We use `Elif` for multiple condition\n",
        "```python\n",
        "temperature = 33\n",
        "\n",
        "if temperature > 36:\n",
        "    print(\"You have a fever\")\n",
        "elif temperature < 34:\n",
        "    print(\"You're cold\")\n",
        "else:\n",
        "    print(\"Normal body temperature\")\n",
        "```"
      ]
    },
    {
      "cell_type": "code",
      "source": [
        "temperature = 33\n",
        "\n",
        "if temperature > 36:\n",
        "    print(\"You have a fever\")\n",
        "elif temperature < 34:\n",
        "    print(\"You're cold\")\n",
        "else:\n",
        "    print(\"Normal body temperature\")"
      ],
      "metadata": {
        "colab": {
          "base_uri": "https://localhost:8080/"
        },
        "id": "i8nEC6jNGarH",
        "outputId": "c244be3d-845a-44d2-fe7a-03c2de8c9531"
      },
      "execution_count": null,
      "outputs": [
        {
          "output_type": "stream",
          "name": "stdout",
          "text": [
            "You're cold\n"
          ]
        }
      ]
    },
    {
      "cell_type": "code",
      "execution_count": null,
      "metadata": {
        "id": "pugMWs3_vUc0"
      },
      "outputs": [],
      "source": [
        "# buat range 34 ... 37 \n",
        "# < 34 maka you're cold\n",
        "# > 36 maka you have a fever\n",
        "# xn....., 32, 33 maka Normal body temperature"
      ]
    },
    {
      "cell_type": "markdown",
      "metadata": {
        "id": "ew3csA-evUc0"
      },
      "source": [
        "### 7. For Looping\n",
        "What if we want to iterate some task multiple times? We can use `for` loops.\n",
        "```python\n",
        "print(\"Sending a message\")\n",
        "print(\"Sending a message\")\n",
        "print(\"Sending a message\")\n",
        "print(\"Sending a message\")\n",
        "print(\"Sending a message\")\n",
        "```\n",
        "We can use for loops :\n",
        "```python\n",
        "for number in range(3):\n",
        "    print(\"Sending a message\")\n",
        "```"
      ]
    },
    {
      "cell_type": "code",
      "execution_count": null,
      "metadata": {
        "id": "ZR3WuwU9vUc2",
        "colab": {
          "base_uri": "https://localhost:8080/"
        },
        "outputId": "d5e63782-e3ee-4a5e-dfa0-bc71e7097024"
      },
      "outputs": [
        {
          "output_type": "stream",
          "name": "stdout",
          "text": [
            "Sending a message\n",
            "Sending a message\n",
            "Sending a message\n"
          ]
        }
      ],
      "source": [
        "for number in range(3):\n",
        "    print(\"Sending a message\")"
      ]
    },
    {
      "cell_type": "markdown",
      "metadata": {
        "id": "FNtlop_2vUc3"
      },
      "source": [
        "#### Exercise :\n",
        "Create for loops that print :\n",
        "```\n",
        "Attempt 1\n",
        "Attempt 2\n",
        "Attempt 3\n",
        "Attempt 4\n",
        "Attempt 5\n",
        "```"
      ]
    },
    {
      "cell_type": "code",
      "execution_count": null,
      "metadata": {
        "id": "UfgV6SP4vUc3",
        "colab": {
          "base_uri": "https://localhost:8080/"
        },
        "outputId": "b97695b1-8dd0-4e50-a4b8-d98e64952b41"
      },
      "outputs": [
        {
          "output_type": "stream",
          "name": "stdout",
          "text": [
            "Attempt 1\n",
            "Attempt 2\n",
            "Attempt 3\n",
            "Attempt 4\n",
            "Attempt 5\n"
          ]
        }
      ],
      "source": [
        "for number in range(5):\n",
        "    print(f\"Attempt {number+1}\")"
      ]
    },
    {
      "cell_type": "code",
      "source": [
        "for number in range(5):\n",
        "    print(\"Attempt\", number+1)"
      ],
      "metadata": {
        "colab": {
          "base_uri": "https://localhost:8080/"
        },
        "id": "pHtCCPiyGkqK",
        "outputId": "cb6b65d7-ea25-4f9f-83e4-807d2eb80f77"
      },
      "execution_count": null,
      "outputs": [
        {
          "output_type": "stream",
          "name": "stdout",
          "text": [
            "Attempt 1\n",
            "Attempt 2\n",
            "Attempt 3\n",
            "Attempt 4\n",
            "Attempt 5\n"
          ]
        }
      ]
    },
    {
      "cell_type": "markdown",
      "metadata": {
        "id": "Vp5rChKwvUc3"
      },
      "source": [
        "#### Exercise :\n",
        "Create for loops that print :\n",
        "```\n",
        "Attempt .\n",
        "Attempt ..\n",
        "Attempt ...\n",
        "Attempt ....\n",
        "Attempt .....\n",
        "```"
      ]
    },
    {
      "cell_type": "code",
      "execution_count": null,
      "metadata": {
        "id": "uBDymRovvUc4",
        "colab": {
          "base_uri": "https://localhost:8080/"
        },
        "outputId": "1d85ff8f-9ccc-46fc-ad2d-ede7b261dfce"
      },
      "outputs": [
        {
          "output_type": "stream",
          "name": "stdout",
          "text": [
            "Attempt.\n",
            "Attempt..\n",
            "Attempt...\n",
            "Attempt....\n",
            "Attempt.....\n"
          ]
        }
      ],
      "source": [
        "for i in range(1, 6):\n",
        "    print(\"Attempt\" + \".\" * i)"
      ]
    },
    {
      "cell_type": "markdown",
      "metadata": {
        "id": "vwxxwilJvUc4"
      },
      "source": [
        "#### Combined with conditional statement\n",
        "1-10 bilangan genap saja\n",
        "\n",
        "```python\n",
        "for i in range(1,11):\n",
        "    if i%2 == 0:\n",
        "        print(i)\n",
        "```"
      ]
    },
    {
      "cell_type": "code",
      "execution_count": null,
      "metadata": {
        "id": "-t1aLgj8vUc4",
        "colab": {
          "base_uri": "https://localhost:8080/"
        },
        "outputId": "e2a58886-5dc0-46c8-a649-7cabd2227c74"
      },
      "outputs": [
        {
          "output_type": "stream",
          "name": "stdout",
          "text": [
            "2\n",
            "4\n",
            "6\n",
            "8\n",
            "10\n"
          ]
        }
      ],
      "source": [
        "for i in range(1,11):\n",
        "    if i%2 == 0:\n",
        "        print(i)"
      ]
    },
    {
      "cell_type": "markdown",
      "metadata": {
        "id": "r6VzIskUvUc4"
      },
      "source": [
        "### 8. While Looping\n",
        "While loop used when we want to repeat something `when the condition is True`. We Evaluating first then loops if the condition is still comply\n",
        "\n",
        "**Loop until angka = 10**\n",
        "```python\n",
        "angka = 1\n",
        "while angka < 10:\n",
        "    print(angka)\n",
        "    angka += 1\n",
        "```\n"
      ]
    },
    {
      "cell_type": "code",
      "execution_count": null,
      "metadata": {
        "id": "KikDWF7lvUc5",
        "colab": {
          "base_uri": "https://localhost:8080/"
        },
        "outputId": "44f3407a-2301-4e46-e05e-7529775d5a76"
      },
      "outputs": [
        {
          "output_type": "stream",
          "name": "stdout",
          "text": [
            "1\n",
            "2\n",
            "3\n",
            "4\n",
            "5\n",
            "6\n",
            "7\n",
            "8\n",
            "9\n"
          ]
        }
      ],
      "source": [
        "angka = 1\n",
        "while angka < 10:\n",
        "    print(angka)\n",
        "    angka += 1"
      ]
    },
    {
      "cell_type": "code",
      "execution_count": null,
      "metadata": {
        "id": "BW9dWi2ZvUc5"
      },
      "outputs": [],
      "source": []
    },
    {
      "cell_type": "markdown",
      "metadata": {
        "id": "ab8KpD8qvUc5"
      },
      "source": [
        "### 10. Function\n",
        "To create function start with keyword `def` then name then using `:`\n",
        "\n",
        "```python\n",
        "def greet():\n",
        "    print(\"Hi there\")\n",
        "    print(\"Welcome aboard\")\n",
        "    \n",
        "greet()\n",
        "```\n",
        "Function with input using parameters\n",
        "```python\n",
        "def greet(first_name, last_name):\n",
        "    print(f\"Hi {first_name} {last_name}\")\n",
        "    print(\"Welcome aboard\")\n",
        "    \n",
        "greet(\"Benedict\")\n",
        "```\n",
        "Error ?"
      ]
    },
    {
      "cell_type": "code",
      "execution_count": null,
      "metadata": {
        "id": "F7ZgBkDTvUc6",
        "colab": {
          "base_uri": "https://localhost:8080/"
        },
        "outputId": "25734814-95de-4294-fbaf-da4f8629542e"
      },
      "outputs": [
        {
          "output_type": "stream",
          "name": "stdout",
          "text": [
            "Hi there\n",
            "Welcome aboard\n",
            "benar\n"
          ]
        }
      ],
      "source": [
        "#membaut banyak proses dalam 1 perintah, yaitu perintah greet()\n",
        "angka = 1\n",
        "def greet():\n",
        "    print(\"Hi there\")\n",
        "    print(\"Welcome aboard\")\n",
        "    if angka == 1:\n",
        "      print(\"benar\")\n",
        "    \n",
        "greet()"
      ]
    },
    {
      "cell_type": "markdown",
      "metadata": {
        "id": "1CK1f7CGvUc6"
      },
      "source": [
        "### Print with return value\n",
        "```python\n",
        "def tambah(angka1, angka2):\n",
        "    return angka1 + angka2\n",
        "    \n",
        "    \n",
        "jumlah = tambah(20, 30)\n",
        "```"
      ]
    },
    {
      "cell_type": "code",
      "execution_count": null,
      "metadata": {
        "id": "gQMhWqQuvUc7",
        "colab": {
          "base_uri": "https://localhost:8080/"
        },
        "outputId": "406b1be1-bccb-4a3b-e262-84927e8d7e12"
      },
      "outputs": [
        {
          "output_type": "stream",
          "name": "stdout",
          "text": [
            "50\n"
          ]
        }
      ],
      "source": [
        "def tambah(angka1, angka2):\n",
        "    return angka1 + angka2\n",
        "\n",
        "jumlah = tambah(20,30)\n",
        "print(jumlah)"
      ]
    },
    {
      "cell_type": "markdown",
      "metadata": {
        "id": "FzgvGYlIvUc7"
      },
      "source": [
        "___\n",
        "## Numpy (Numerical Python)\n",
        "NumPy is the fundamental package for scientific computing in Python. It is a Python library that provides a multidimensional array object, various derived objects (such as masked arrays and matrices), and an assortment of routines for fast operations on arrays, including mathematical, logical, shape manipulation, sorting, selecting, I/O, discrete Fourier transforms, basic linear algebra, basic statistical operations, random simulation and much more. [more-resource](https://docs.scipy.org/doc/numpy-1.13.0/user/whatisnumpy.html)\n",
        "### 1. Importing package\n",
        "we import numpy using keyword `import`\n",
        "\n",
        "```python\n",
        "import numpy\n",
        "```"
      ]
    },
    {
      "cell_type": "code",
      "execution_count": null,
      "metadata": {
        "id": "dwC5Z8yMvUc7"
      },
      "outputs": [],
      "source": [
        "import numpy"
      ]
    },
    {
      "cell_type": "markdown",
      "metadata": {
        "id": "xh7jMbf-vUc8"
      },
      "source": [
        "### Import using Alias\n",
        "\n",
        "to make function calls quick, we can also abbreviate or create alias when we import the package\n",
        "\n",
        "```python\n",
        "import numpy as np\n",
        "```"
      ]
    },
    {
      "cell_type": "code",
      "execution_count": null,
      "metadata": {
        "id": "nbyg7FhOvUc8"
      },
      "outputs": [],
      "source": [
        "import numpy as np"
      ]
    },
    {
      "cell_type": "markdown",
      "metadata": {
        "id": "5piuyQG4vUc8"
      },
      "source": [
        "### 2. Numpy Array\n",
        "At the core of the NumPy package, is the ndarray object. This encapsulates n-dimensional arrays of homogeneous data types, with many operations being performed in compiled code for performance. There are several important differences between NumPy arrays and the standard Python sequences\n",
        "\n",
        "**Let's compare the data structure**\n",
        "\n",
        "For example we have **3 rectangle** which each having `panjang` and `lebar` <br>\n",
        "create standard `list` called `panjang` and `lebar`\n",
        "```python\n",
        "panjang = [4,5,6]\n",
        "lebar = [3,4,5]\n",
        "```\n",
        "Create variable `luas` which is `panjang` * `lebar`"
      ]
    },
    {
      "cell_type": "code",
      "execution_count": null,
      "metadata": {
        "id": "Gf3FBYRovUc9",
        "colab": {
          "base_uri": "https://localhost:8080/"
        },
        "outputId": "0a1b6bea-94fa-4ec0-c329-028280f78839"
      },
      "outputs": [
        {
          "output_type": "stream",
          "name": "stdout",
          "text": [
            "[[[4 5 6]]\n",
            "\n",
            " [[3 4 5]]]\n"
          ]
        }
      ],
      "source": [
        "import numpy as np\n",
        "panjang = [4,5,6]\n",
        "lebar = [3,4,5]\n",
        "\n",
        "print(np.array([[panjang], [lebar]]))"
      ]
    },
    {
      "cell_type": "markdown",
      "metadata": {
        "id": "ZirnLenKvUc9"
      },
      "source": [
        "There's `TypeError: can't multiply sequence by non-int of type 'list'`\n",
        "\n",
        "`list` data cannot do multiplication, or you can using for loop to do multiplication each element which is not efficient.\n",
        "\n",
        "Otherwise you can use `Numpy array` data type\n",
        "```python\n",
        "# Numpy already imported as np\n",
        "\n",
        "panjang = np.array([4,5,6])\n",
        "lebar = np.array([3,4,5])\n",
        "```\n"
      ]
    },
    {
      "cell_type": "code",
      "execution_count": null,
      "metadata": {
        "id": "lFdOYMIWvUc-"
      },
      "outputs": [],
      "source": [
        "panjang = np.array([4,5,6])\n",
        "lebar = np.array([3,4,5])"
      ]
    },
    {
      "cell_type": "markdown",
      "metadata": {
        "id": "5ZooZAOPvUc-"
      },
      "source": [
        "Check Datatype of `panjang` and `lebar` using `type()`"
      ]
    },
    {
      "cell_type": "code",
      "execution_count": null,
      "metadata": {
        "id": "rsW3LW8EvUc-",
        "colab": {
          "base_uri": "https://localhost:8080/"
        },
        "outputId": "3139fa93-c460-4cc9-b7c5-645f57cbdb80"
      },
      "outputs": [
        {
          "output_type": "execute_result",
          "data": {
            "text/plain": [
              "numpy.ndarray"
            ]
          },
          "metadata": {},
          "execution_count": 139
        }
      ],
      "source": [
        "type(lebar)"
      ]
    },
    {
      "cell_type": "markdown",
      "metadata": {
        "id": "469yskykvUc-"
      },
      "source": [
        "Now Declare variable `luas` which is `panjang` times `lebar`\n",
        "```python\n",
        "luas = panjang * lebar\n",
        "```\n",
        "Then print the `luas` result"
      ]
    },
    {
      "cell_type": "code",
      "execution_count": null,
      "metadata": {
        "id": "R2fWNXDwvUc-"
      },
      "outputs": [],
      "source": [
        "luas = panjang * lebar"
      ]
    },
    {
      "cell_type": "markdown",
      "metadata": {
        "id": "cCKCWInIvUc_"
      },
      "source": [
        "### 3. Array Shape\n",
        "in the example above when we check _datatype_ using `type(luas)` we will get output \n",
        "```python\n",
        "numpy.ndarray\n",
        "```\n",
        "Means that the datatype of `luas` is `N dimensional Array of Numpy`\n",
        "\n",
        "to check the `N` or **Array shape** we can use _attribute_ `.shape` \n",
        "```\n",
        "luas.shape\n",
        "```"
      ]
    },
    {
      "cell_type": "code",
      "execution_count": null,
      "metadata": {
        "id": "BYsPt83jvUc_",
        "colab": {
          "base_uri": "https://localhost:8080/"
        },
        "outputId": "d5ccaddd-9e82-4237-ce9f-ee1fabe4d9cd"
      },
      "outputs": [
        {
          "output_type": "execute_result",
          "data": {
            "text/plain": [
              "(3,)"
            ]
          },
          "metadata": {},
          "execution_count": 141
        }
      ],
      "source": [
        "luas.shape"
      ]
    },
    {
      "cell_type": "markdown",
      "metadata": {
        "id": "sWQtIjePvUc_"
      },
      "source": [
        "Now, create new array below:\n",
        "```python\n",
        "matrix = np.array([[1,2,3],\n",
        "                   [4,5,6]])\n",
        "```\n",
        "_Be careful with [ ] marks_"
      ]
    },
    {
      "cell_type": "code",
      "execution_count": null,
      "metadata": {
        "id": "uy98PQmqvUdA"
      },
      "outputs": [],
      "source": [
        "matrix = np.array([[1,2,3],\n",
        "                   [4,5,6]])"
      ]
    },
    {
      "cell_type": "markdown",
      "metadata": {
        "id": "WTcgtLQ0vUdA"
      },
      "source": [
        "Then, print and check `.shape` of the `matrix`, compare with `luas`\n",
        "\n",
        "What is the differences ?"
      ]
    },
    {
      "cell_type": "code",
      "execution_count": null,
      "metadata": {
        "id": "XLHOEfAevUdA",
        "colab": {
          "base_uri": "https://localhost:8080/"
        },
        "outputId": "587f3d11-9f0d-45ea-ab92-4a521c178822"
      },
      "outputs": [
        {
          "output_type": "execute_result",
          "data": {
            "text/plain": [
              "(2, 3)"
            ]
          },
          "metadata": {},
          "execution_count": 143
        }
      ],
      "source": [
        "matrix.shape"
      ]
    },
    {
      "cell_type": "code",
      "execution_count": null,
      "metadata": {
        "id": "jD8o3x-4vUdB",
        "colab": {
          "base_uri": "https://localhost:8080/"
        },
        "outputId": "aa815149-da25-404f-ceb4-48a357d0d63d"
      },
      "outputs": [
        {
          "output_type": "execute_result",
          "data": {
            "text/plain": [
              "(3,)"
            ]
          },
          "metadata": {},
          "execution_count": 144
        }
      ],
      "source": [
        "luas.shape"
      ]
    },
    {
      "cell_type": "markdown",
      "metadata": {
        "id": "zWfEkk-evUdB"
      },
      "source": [
        "### 4. Array Reshaping\n",
        "\n",
        "Let's take a look of our `matrix` array:\n",
        "```python\n",
        "array([[1, 2, 3],\n",
        "       [4, 5, 6]])\n",
        "\n",
        "\n",
        "print(matrix.shape)\n",
        "\n",
        "(2, 3)\n",
        "```"
      ]
    },
    {
      "cell_type": "code",
      "execution_count": null,
      "metadata": {
        "id": "7m7IRjeMvUdB",
        "colab": {
          "base_uri": "https://localhost:8080/"
        },
        "outputId": "eab12fe8-af66-4194-d9e0-5b751df9b4f2"
      },
      "outputs": [
        {
          "output_type": "stream",
          "name": "stdout",
          "text": [
            "(3, 2)\n"
          ]
        }
      ],
      "source": [
        "np.array([[1, 2, 3],\n",
        "       [4, 5, 6]])\n",
        "\n",
        "print(matrix.shape)"
      ]
    },
    {
      "cell_type": "markdown",
      "metadata": {
        "id": "72VqmyTIvUdB"
      },
      "source": [
        "Using `.reshape(x,y)` method function, try to create this array called `new_matrix`\n",
        "```python\n",
        "array([[1, 2],\n",
        "       [3, 4],\n",
        "       [5, 6]])\n",
        "```"
      ]
    },
    {
      "cell_type": "code",
      "execution_count": null,
      "metadata": {
        "id": "RMs5FXs4vUdC",
        "colab": {
          "base_uri": "https://localhost:8080/"
        },
        "outputId": "3e69d43f-6bc5-4549-872f-ee6290782b1a"
      },
      "outputs": [
        {
          "output_type": "stream",
          "name": "stdout",
          "text": [
            "[[1 2]\n",
            " [3 4]\n",
            " [5 6]]\n"
          ]
        }
      ],
      "source": [
        "arr = np.array([[1, 2, 3], [4, 5, 6]])\n",
        "\n",
        "# melakukan reshape menjadi array 3x2\n",
        "arr_reshaped = arr.reshape(3, 2)\n",
        "\n",
        "# mencetak array baru yang sudah di reshape\n",
        "print(arr_reshaped)"
      ]
    },
    {
      "cell_type": "markdown",
      "source": [
        "## Logical Operators"
      ],
      "metadata": {
        "id": "iHC5u6Fl-nx1"
      }
    },
    {
      "cell_type": "code",
      "source": [
        "a = 7\n",
        "b = 8"
      ],
      "metadata": {
        "id": "VUl-8yGS-moe"
      },
      "execution_count": null,
      "outputs": []
    },
    {
      "cell_type": "code",
      "source": [
        "# and\n",
        "# Jika keduanya benar, maka True\n",
        "print(a == 8 and b == 8)"
      ],
      "metadata": {
        "colab": {
          "base_uri": "https://localhost:8080/"
        },
        "id": "AEiB7U6K-tfn",
        "outputId": "f43e8b82-9d45-4a2c-9d90-31fc52ccfdfa"
      },
      "execution_count": null,
      "outputs": [
        {
          "output_type": "stream",
          "name": "stdout",
          "text": [
            "False\n"
          ]
        }
      ]
    },
    {
      "cell_type": "code",
      "source": [
        "# or\n",
        "# Jika salah satu benar, maka True\n",
        "print(a == 7 or b == 7)"
      ],
      "metadata": {
        "colab": {
          "base_uri": "https://localhost:8080/"
        },
        "id": "Aj8WuNig-vbV",
        "outputId": "d3d48de9-84fb-44bb-8e8b-c2f2e56cc005"
      },
      "execution_count": null,
      "outputs": [
        {
          "output_type": "stream",
          "name": "stdout",
          "text": [
            "True\n"
          ]
        }
      ]
    },
    {
      "cell_type": "markdown",
      "source": [
        "## Break Statement\n",
        "Break Statement digunakan untuk menyetop suatu proses perulangan."
      ],
      "metadata": {
        "id": "gGZc-oCM4YxG"
      }
    },
    {
      "cell_type": "code",
      "source": [
        "for val in \"binar\":\n",
        "    print(val)\n",
        "    if val == \"a\":\n",
        "        break"
      ],
      "metadata": {
        "colab": {
          "base_uri": "https://localhost:8080/"
        },
        "id": "XxVJRht44YRN",
        "outputId": "62e236aa-585f-4ee7-d259-7a66ed59d66e"
      },
      "execution_count": null,
      "outputs": [
        {
          "output_type": "stream",
          "name": "stdout",
          "text": [
            "b\n",
            "i\n",
            "n\n",
            "a\n"
          ]
        }
      ]
    },
    {
      "cell_type": "markdown",
      "source": [
        "## Continue Statement\n",
        "\n",
        "Continue Statement digunakan untuk melakukan skip suatu code."
      ],
      "metadata": {
        "id": "-1muq9zh4fsR"
      }
    },
    {
      "cell_type": "code",
      "source": [
        "for val in \"binar\":\n",
        "    if val == \"a\":\n",
        "        continue\n",
        "    print(val)"
      ],
      "metadata": {
        "colab": {
          "base_uri": "https://localhost:8080/"
        },
        "id": "3oFzh9_N4dlV",
        "outputId": "bd4f06ff-7808-48b5-c35c-ae9a5ecf78cd"
      },
      "execution_count": null,
      "outputs": [
        {
          "output_type": "stream",
          "name": "stdout",
          "text": [
            "b\n",
            "i\n",
            "n\n",
            "r\n"
          ]
        }
      ]
    },
    {
      "cell_type": "markdown",
      "source": [
        "# Pass Statement"
      ],
      "metadata": {
        "id": "XbQaApL14kKO"
      }
    },
    {
      "cell_type": "code",
      "source": [
        "sequence = ['a', 'b', 'c']\n",
        "for val in sequence:\n",
        "  if val == 'c':\n",
        "    print(\"oke\")\n",
        "  else:\n",
        "    pass"
      ],
      "metadata": {
        "colab": {
          "base_uri": "https://localhost:8080/"
        },
        "id": "g7Cb5V9W4iIj",
        "outputId": "17c9cdf7-1ef2-494f-9247-fa16e1e71cde"
      },
      "execution_count": null,
      "outputs": [
        {
          "output_type": "stream",
          "name": "stdout",
          "text": [
            "oke\n"
          ]
        }
      ]
    },
    {
      "cell_type": "markdown",
      "source": [
        "# Function\n",
        "\n",
        "Function atau Fungsi adalah sebuah kumpulan script untuk spesifik task"
      ],
      "metadata": {
        "id": "Gso-30yj4m20"
      }
    },
    {
      "cell_type": "markdown",
      "source": [
        "**Fungsi tanpa Parameter**"
      ],
      "metadata": {
        "id": "61F3S9Lt4rNX"
      }
    },
    {
      "cell_type": "code",
      "source": [
        "def add_numbers():\n",
        "  sum = 1 + 2\n",
        "  return sum\n",
        "\n",
        "\n",
        "add_numbers()"
      ],
      "metadata": {
        "colab": {
          "base_uri": "https://localhost:8080/"
        },
        "id": "hqKzveaX4lhy",
        "outputId": "798fccf3-a57a-45cd-9a28-44ecca3a0dce"
      },
      "execution_count": null,
      "outputs": [
        {
          "output_type": "execute_result",
          "data": {
            "text/plain": [
              "3"
            ]
          },
          "metadata": {},
          "execution_count": 4
        }
      ]
    },
    {
      "cell_type": "markdown",
      "source": [
        "**Fungsi dengan Parameter**"
      ],
      "metadata": {
        "id": "LS_sjgr74vD0"
      }
    },
    {
      "cell_type": "code",
      "source": [
        "def add_numbers(a, b, c):\n",
        "  sum = a + b + c\n",
        "  return sum\n",
        "\n",
        "add_numbers(1, 2, 5)"
      ],
      "metadata": {
        "colab": {
          "base_uri": "https://localhost:8080/"
        },
        "id": "pddQ5s7s4sa0",
        "outputId": "b9ffe863-4c4b-4bf3-b4f1-ff12c79fbc09"
      },
      "execution_count": null,
      "outputs": [
        {
          "output_type": "execute_result",
          "data": {
            "text/plain": [
              "8"
            ]
          },
          "metadata": {},
          "execution_count": 3
        }
      ]
    },
    {
      "cell_type": "markdown",
      "source": [
        "**Fungsi dengan Default Parameter**"
      ],
      "metadata": {
        "id": "U5EMhcXR40Uy"
      }
    },
    {
      "cell_type": "code",
      "source": [
        "def add_numbers(a=1, b=2):\n",
        "  sum = a + b\n",
        "  return sum"
      ],
      "metadata": {
        "id": "0XCeOcBD4tsj"
      },
      "execution_count": null,
      "outputs": []
    },
    {
      "cell_type": "code",
      "source": [
        "add_numbers()"
      ],
      "metadata": {
        "colab": {
          "base_uri": "https://localhost:8080/"
        },
        "id": "WaEqXH214y0X",
        "outputId": "c0f1dbe7-c973-494f-d875-f49d2a72ebe3"
      },
      "execution_count": null,
      "outputs": [
        {
          "output_type": "execute_result",
          "data": {
            "text/plain": [
              "3"
            ]
          },
          "metadata": {},
          "execution_count": 9
        }
      ]
    },
    {
      "cell_type": "code",
      "source": [
        "add_numbers(3, 3)"
      ],
      "metadata": {
        "colab": {
          "base_uri": "https://localhost:8080/"
        },
        "id": "vCSbMcbo44k0",
        "outputId": "b39a1a7b-7261-4757-ef03-476f2b848a1b"
      },
      "execution_count": null,
      "outputs": [
        {
          "output_type": "execute_result",
          "data": {
            "text/plain": [
              "6"
            ]
          },
          "metadata": {},
          "execution_count": 10
        }
      ]
    },
    {
      "cell_type": "markdown",
      "source": [
        "# Lambda Function\n",
        "\n",
        "Lambda: Fungsi yang tidak memiliki nama"
      ],
      "metadata": {
        "id": "1XRkdBKK5Coc"
      }
    },
    {
      "cell_type": "code",
      "source": [
        "data = lambda x: x * 2\n",
        "\n",
        "print(data(5))"
      ],
      "metadata": {
        "colab": {
          "base_uri": "https://localhost:8080/"
        },
        "id": "arim3iNs451L",
        "outputId": "2becdc6e-bc17-44e6-f049-d69a1aeda4c4"
      },
      "execution_count": null,
      "outputs": [
        {
          "output_type": "stream",
          "name": "stdout",
          "text": [
            "10\n"
          ]
        }
      ]
    },
    {
      "cell_type": "markdown",
      "source": [
        "# File I/O\n",
        "\n",
        "File I/O perintah dalam Python yang digunakan ketika berhubungan dengan file. Diantaranya:\n",
        "\n",
        "\n",
        "1.   Write File\n",
        "2.   Open File\n",
        "\n"
      ],
      "metadata": {
        "id": "p1zJjKb95FZ_"
      }
    },
    {
      "cell_type": "markdown",
      "source": [
        "**Write File**"
      ],
      "metadata": {
        "id": "WS3YTfh-5I6U"
      }
    },
    {
      "cell_type": "code",
      "source": [
        "with open(\"names.txt\",'w',encoding = 'utf-8') as f:\n",
        "   f.write(\"db1.sql\\n\")\n",
        "   f.write(\"db2.sql\\n\")\n",
        "   f.write(\"Dono\\n\")\n",
        "   "
      ],
      "metadata": {
        "id": "OXfdaKCw5D9p"
      },
      "execution_count": null,
      "outputs": []
    },
    {
      "cell_type": "markdown",
      "source": [
        "**Read File**"
      ],
      "metadata": {
        "id": "WxpX3U9w5Ksh"
      }
    },
    {
      "cell_type": "code",
      "source": [
        "f = open(\"/content/names.txt\",'r',encoding = 'utf-8')\n",
        "print(f.read())"
      ],
      "metadata": {
        "colab": {
          "base_uri": "https://localhost:8080/"
        },
        "id": "fM4IdDX75JSP",
        "outputId": "5cac377e-50d8-49e2-d022-d4418583fb14"
      },
      "execution_count": null,
      "outputs": [
        {
          "output_type": "stream",
          "name": "stdout",
          "text": [
            "Ari\n",
            "Dino\n",
            "Dono\n",
            "\n"
          ]
        }
      ]
    }
  ],
  "metadata": {
    "kernelspec": {
      "display_name": "Python 3",
      "language": "python",
      "name": "python3"
    },
    "language_info": {
      "codemirror_mode": {
        "name": "ipython",
        "version": 3
      },
      "file_extension": ".py",
      "mimetype": "text/x-python",
      "name": "python",
      "nbconvert_exporter": "python",
      "pygments_lexer": "ipython3",
      "version": "3.7.3"
    },
    "latex_envs": {
      "LaTeX_envs_menu_present": true,
      "autoclose": false,
      "autocomplete": true,
      "bibliofile": "biblio.bib",
      "cite_by": "apalike",
      "current_citInitial": 1,
      "eqLabelWithNumbers": true,
      "eqNumInitial": 1,
      "hotkeys": {
        "equation": "Ctrl-E",
        "itemize": "Ctrl-I"
      },
      "labels_anchors": false,
      "latex_user_defs": false,
      "report_style_numbering": false,
      "user_envs_cfg": false
    },
    "varInspector": {
      "cols": {
        "lenName": 16,
        "lenType": 16,
        "lenVar": 40
      },
      "kernels_config": {
        "python": {
          "delete_cmd_postfix": "",
          "delete_cmd_prefix": "del ",
          "library": "var_list.py",
          "varRefreshCmd": "print(var_dic_list())"
        },
        "r": {
          "delete_cmd_postfix": ") ",
          "delete_cmd_prefix": "rm(",
          "library": "var_list.r",
          "varRefreshCmd": "cat(var_dic_list()) "
        }
      },
      "types_to_exclude": [
        "module",
        "function",
        "builtin_function_or_method",
        "instance",
        "_Feature"
      ],
      "window_display": false
    },
    "colab": {
      "provenance": [],
      "collapsed_sections": [
        "w4MpUyXFvUb0",
        "Vp5rChKwvUc3",
        "vwxxwilJvUc4"
      ]
    }
  },
  "nbformat": 4,
  "nbformat_minor": 0
}