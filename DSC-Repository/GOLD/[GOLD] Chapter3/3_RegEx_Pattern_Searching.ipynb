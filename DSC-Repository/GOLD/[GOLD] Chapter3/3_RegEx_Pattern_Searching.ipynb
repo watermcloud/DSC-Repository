{
  "cells": [
    {
      "cell_type": "markdown",
      "metadata": {
        "id": "aB4IMt5NvXjl"
      },
      "source": [
        "# Regular Expression for Pattern Searching\n",
        "\n",
        "---\n",
        "\n",
        "Regular Expression or RegEx is a sequence of characters that specifies a search pattern in text. Usually such patterns are used by string-searching algorithms for \"find\" or \"find and replace\" operations on strings, or for input validation. Regular expression techniques are developed in theoretical computer science and formal language theory.\n",
        "\n",
        "https://en.wikipedia.org/wiki/Regular_expression"
      ]
    },
    {
      "cell_type": "code",
      "execution_count": null,
      "metadata": {
        "id": "euzC5vgevXjo",
        "colab": {
          "base_uri": "https://localhost:8080/"
        },
        "outputId": "89b3d5ae-1cab-407c-d21a-9932e40373cf"
      },
      "outputs": [
        {
          "output_type": "stream",
          "name": "stdout",
          "text": [
            "Looking in indexes: https://pypi.org/simple, https://us-python.pkg.dev/colab-wheels/public/simple/\n",
            "Requirement already satisfied: regex in /usr/local/lib/python3.8/dist-packages (2022.6.2)\n"
          ]
        }
      ],
      "source": [
        "# Import Regex in python\n",
        "!pip3 install regex\n",
        "import re"
      ]
    },
    {
      "cell_type": "code",
      "execution_count": null,
      "metadata": {
        "id": "zXh0NbbTvXjp",
        "outputId": "99beaa38-a21d-4f22-a283-4db9fa6a121e",
        "colab": {
          "base_uri": "https://localhost:8080/"
        }
      },
      "outputs": [
        {
          "output_type": "stream",
          "name": "stdout",
          "text": [
            "Halo, Saya sedang belajar bahasa pemrograman Python. Python adalah bahasa pemrograman yang sangat mudah dipelajari.\n"
          ]
        }
      ],
      "source": [
        "# Sample sentence\n",
        "kalimat = \"Halo, Saya sedang belajar bahasa pemrograman Python. Python adalah bahasa pemrograman yang sangat mudah dipelajari.\"\n",
        "print(kalimat)"
      ]
    },
    {
      "cell_type": "markdown",
      "metadata": {
        "id": "74OH99ZIvXjq"
      },
      "source": [
        "## Split Sentence by using build in string method\n",
        "\n",
        "```python\n",
        "# create separator, then apply .split() method\n",
        "separator = ' ' \n",
        "kalimat.split(separator)\n",
        "```"
      ]
    },
    {
      "cell_type": "code",
      "execution_count": null,
      "metadata": {
        "id": "2qsPuqw1vXjr",
        "outputId": "4b132654-99cc-499d-f73c-a23535f12892",
        "colab": {
          "base_uri": "https://localhost:8080/"
        }
      },
      "outputs": [
        {
          "output_type": "execute_result",
          "data": {
            "text/plain": [
              "['Halo,',\n",
              " 'Saya',\n",
              " 'sedang',\n",
              " 'belajar',\n",
              " 'bahasa',\n",
              " 'pemrograman',\n",
              " 'Python.',\n",
              " 'Python',\n",
              " 'adalah',\n",
              " 'bahasa',\n",
              " 'pemrograman',\n",
              " 'yang',\n",
              " 'sangat',\n",
              " 'mudah',\n",
              " 'dipelajari.']"
            ]
          },
          "metadata": {},
          "execution_count": 22
        }
      ],
      "source": [
        "# Split sentence into words by space\n",
        "separator = ' ' \n",
        "kalimat.split(separator)"
      ]
    },
    {
      "cell_type": "code",
      "execution_count": null,
      "metadata": {
        "id": "FoWum61MvXjs",
        "outputId": "3ae257a8-9be2-4d33-fcf2-03ef98baf530",
        "colab": {
          "base_uri": "https://localhost:8080/"
        }
      },
      "outputs": [
        {
          "output_type": "execute_result",
          "data": {
            "text/plain": [
              "['Halo',\n",
              " ' Saya sedang belajar bahasa pemrograman Python. Python adalah bahasa pemrograman yang sangat mudah dipelajari.']"
            ]
          },
          "metadata": {},
          "execution_count": 23
        }
      ],
      "source": [
        "# Split sentence into words by punctuation (.,)\n",
        "kalimat.split(sep=',')"
      ]
    },
    {
      "cell_type": "code",
      "execution_count": null,
      "metadata": {
        "id": "nCfRiCScvXjs",
        "outputId": "e7a69097-ca6e-4cb5-a09d-5854e0512b58",
        "colab": {
          "base_uri": "https://localhost:8080/"
        }
      },
      "outputs": [
        {
          "output_type": "execute_result",
          "data": {
            "text/plain": [
              "['Halo, Saya sedang belajar bahasa pemrograman Python. Python adalah bahasa pemrograman yang sangat mudah dipelajari.']"
            ]
          },
          "metadata": {},
          "execution_count": 24
        }
      ],
      "source": [
        "kalimat.split(\".,\")"
      ]
    },
    {
      "cell_type": "code",
      "execution_count": null,
      "metadata": {
        "id": "T4xfOcYhvXjs",
        "outputId": "8278e39a-943f-4ed9-89a9-f5d11d07a3a8",
        "colab": {
          "base_uri": "https://localhost:8080/"
        }
      },
      "outputs": [
        {
          "output_type": "execute_result",
          "data": {
            "text/plain": [
              "['Hal',\n",
              " '',\n",
              " ' Saya sedang belajar bahasa pemr',\n",
              " 'graman Pyth',\n",
              " 'n',\n",
              " ' Pyth',\n",
              " 'n adalah bahasa pemr',\n",
              " 'graman yang sangat mudah dipelajari',\n",
              " '']"
            ]
          },
          "metadata": {},
          "execution_count": 25
        }
      ],
      "source": [
        "pattern_2 = r'[.,o]'\n",
        "re.split(pattern_2, kalimat)"
      ]
    },
    {
      "cell_type": "code",
      "execution_count": null,
      "metadata": {
        "id": "dDBendmGvXjt",
        "outputId": "e7aea523-754b-4d0f-aeb2-e381993db66d",
        "colab": {
          "base_uri": "https://localhost:8080/"
        }
      },
      "outputs": [
        {
          "output_type": "stream",
          "name": "stdout",
          "text": [
            "48\n",
            "46\n"
          ]
        }
      ],
      "source": [
        "temporary = ' Saya sedang belajar bahasa pemrograman Python. '\n",
        "print(len(temporary))\n",
        "temporary = temporary.strip()\n",
        "print(len(temporary))"
      ]
    },
    {
      "cell_type": "code",
      "source": [
        "print(temporary.strip())"
      ],
      "metadata": {
        "colab": {
          "base_uri": "https://localhost:8080/"
        },
        "id": "2yMoWRphRegj",
        "outputId": "ef1cd749-b386-4495-bf64-a98ce197ddcf"
      },
      "execution_count": null,
      "outputs": [
        {
          "output_type": "stream",
          "name": "stdout",
          "text": [
            "Saya sedang belajar bahasa pemrograman Python.\n"
          ]
        }
      ]
    },
    {
      "cell_type": "markdown",
      "metadata": {
        "id": "hR26RG4rvXju"
      },
      "source": [
        "## Using RegEx to split by space\n",
        "```python\n",
        "re.split('[ ]', kalimat)\n",
        "\n",
        "# or simply\n",
        "re.split(' ', kalimat)\n",
        "```"
      ]
    },
    {
      "cell_type": "code",
      "execution_count": null,
      "metadata": {
        "id": "9ct4uhazvXju",
        "outputId": "a8c112cd-b063-470a-d373-6cc7d1d317eb",
        "colab": {
          "base_uri": "https://localhost:8080/"
        }
      },
      "outputs": [
        {
          "output_type": "execute_result",
          "data": {
            "text/plain": [
              "['Halo,',\n",
              " 'Saya',\n",
              " 'sedang',\n",
              " 'belajar',\n",
              " 'bahasa',\n",
              " 'pemrograman',\n",
              " 'Python.',\n",
              " 'Python',\n",
              " 'adalah',\n",
              " 'bahasa',\n",
              " 'pemrograman',\n",
              " 'yang',\n",
              " 'sangat',\n",
              " 'mudah',\n",
              " 'dipelajari.']"
            ]
          },
          "metadata": {},
          "execution_count": 28
        }
      ],
      "source": [
        "# Split sentence into words by space\n",
        "re.split('[ ]', kalimat)"
      ]
    },
    {
      "cell_type": "code",
      "execution_count": null,
      "metadata": {
        "id": "cCN3_3OYvXju"
      },
      "outputs": [],
      "source": []
    },
    {
      "cell_type": "code",
      "execution_count": null,
      "metadata": {
        "id": "Q7sD9M_OvXjv",
        "outputId": "2bbdfcdb-37de-4055-daa2-cd77454269f1",
        "colab": {
          "base_uri": "https://localhost:8080/"
        }
      },
      "outputs": [
        {
          "output_type": "stream",
          "name": "stdout",
          "text": [
            "\n",
            "    method dibawah gunanya untuk....\n",
            "        contoh:\n",
            "                1. apa\n",
            "                2. apa\n",
            "                3. apa\n",
            "\n"
          ]
        },
        {
          "output_type": "execute_result",
          "data": {
            "text/plain": [
              "['Halo',\n",
              " ' Saya sedang belajar bahasa pemrograman Python',\n",
              " ' Python adalah bahasa pemrograman yang sangat mudah dipelajari',\n",
              " '']"
            ]
          },
          "metadata": {},
          "execution_count": 29
        }
      ],
      "source": [
        "# Split sentence into words by punctuation (.,)\n",
        "print(\"\"\"\n",
        "    method dibawah gunanya untuk....\n",
        "        contoh:\n",
        "                1. apa\n",
        "                2. apa\n",
        "                3. apa\n",
        "\"\"\")\n",
        "pattern_2 = r'[,.]'\n",
        "re.split(pattern_2, kalimat)"
      ]
    },
    {
      "cell_type": "code",
      "execution_count": null,
      "metadata": {
        "id": "DJH-O4ksvXjv",
        "outputId": "7601686a-19c6-461e-b72a-0f615c6c78f5",
        "colab": {
          "base_uri": "https://localhost:8080/"
        }
      },
      "outputs": [
        {
          "output_type": "stream",
          "name": "stdout",
          "text": [
            "\n",
            "Halo, Saya sedang belajar bahasa pemrograman Python. \n",
            "Python adalah bahasa pemrograman yang sangat mudah dipelajari.\n",
            "Selain itu, Python juga memiliki banyak library yang dapat digunakan untuk keperluan data science.\n",
            "\n"
          ]
        }
      ],
      "source": [
        "multiline_paragraph = \"\"\"\n",
        "Halo, Saya sedang belajar bahasa pemrograman Python. \n",
        "Python adalah bahasa pemrograman yang sangat mudah dipelajari.\n",
        "Selain itu, Python juga memiliki banyak library yang dapat digunakan untuk keperluan data science.\n",
        "\"\"\"\n",
        "print(multiline_paragraph)"
      ]
    },
    {
      "cell_type": "code",
      "execution_count": null,
      "metadata": {
        "id": "3o72PUuUvXjv",
        "outputId": "89b52e3f-f496-41df-b570-412ab0ebe5ea",
        "colab": {
          "base_uri": "https://localhost:8080/"
        }
      },
      "outputs": [
        {
          "output_type": "execute_result",
          "data": {
            "text/plain": [
              "['',\n",
              " 'Halo, Saya sedang belajar bahasa pemrograman Python. ',\n",
              " 'Python adalah bahasa pemrograman yang sangat mudah dipelajari.',\n",
              " 'Selain itu, Python juga memiliki banyak library yang dapat digunakan untuk keperluan data science.',\n",
              " '']"
            ]
          },
          "metadata": {},
          "execution_count": 31
        }
      ],
      "source": [
        "# Split multiline paragraph into sentences by new line\n",
        "line_break = r'\\n'\n",
        "re.split(line_break,multiline_paragraph)"
      ]
    },
    {
      "cell_type": "code",
      "execution_count": null,
      "metadata": {
        "id": "J9vGiOOxvXjw"
      },
      "outputs": [],
      "source": [
        "hasil_split = re.split(line_break,multiline_paragraph.strip()) \n",
        "#setelah di apply method .strip(), linebreak di awal dan di akhir paragraf menjadi ter-strip, jadinya endresultnya berupa 3 kalimat."
      ]
    },
    {
      "cell_type": "code",
      "execution_count": null,
      "metadata": {
        "id": "nt94PWCrvXjw"
      },
      "outputs": [],
      "source": [
        "hasil_split = [kalimat.strip() for kalimat in hasil_split]"
      ]
    },
    {
      "cell_type": "code",
      "execution_count": null,
      "metadata": {
        "id": "BS_-RV5AvXjw",
        "outputId": "bd3f4de4-9b10-45f8-f20e-c70492c9f223",
        "colab": {
          "base_uri": "https://localhost:8080/"
        }
      },
      "outputs": [
        {
          "output_type": "stream",
          "name": "stdout",
          "text": [
            "['Halo, Saya sedang belajar bahasa pemrograman Python.', 'Python adalah bahasa pemrograman yang sangat mudah dipelajari.', 'Selain itu, Python juga memiliki banyak library yang dapat digunakan untuk keperluan data science.']\n"
          ]
        }
      ],
      "source": [
        "print(hasil_split)"
      ]
    },
    {
      "cell_type": "markdown",
      "metadata": {
        "id": "3DjnhS8hvXjw"
      },
      "source": [
        "## Finding pattern matches using Findall and Search"
      ]
    },
    {
      "cell_type": "code",
      "execution_count": null,
      "metadata": {
        "scrolled": true,
        "id": "DEglRSLUvXjx",
        "outputId": "f38c93f3-3741-4123-c561-3b7bf7169a88",
        "colab": {
          "base_uri": "https://localhost:8080/"
        }
      },
      "outputs": [
        {
          "output_type": "stream",
          "name": "stdout",
          "text": [
            "\n",
            "101 COM   Computers\n",
            "205 MAT   Mathematics\n",
            "189 ENG   English\n",
            "\n"
          ]
        }
      ],
      "source": [
        "matkul = \"\"\"\n",
        "101 COM   Computers\n",
        "205 MAT   Mathematics\n",
        "189 ENG   English\n",
        "\"\"\" \n",
        "print(matkul)"
      ]
    },
    {
      "cell_type": "markdown",
      "metadata": {
        "id": "LZK6a7FGvXjx"
      },
      "source": [
        "To find pattern from text using regex, we use `findall()`\n",
        "```python\n",
        "# Need to compile pattern first before searching\n",
        "pattern = re.compile('\\d')\n",
        "pattern.findall(matkul)\n",
        "```"
      ]
    },
    {
      "cell_type": "code",
      "execution_count": null,
      "metadata": {
        "id": "pwcnOuJPvXjx",
        "outputId": "5ab581a8-24ed-4697-a4b6-53098a15ae7b",
        "colab": {
          "base_uri": "https://localhost:8080/"
        }
      },
      "outputs": [
        {
          "output_type": "stream",
          "name": "stdout",
          "text": [
            "['101', '205', '189']\n"
          ]
        }
      ],
      "source": [
        "# Find all matkul number using \\d\n",
        "pattern = re.compile('\\d+')\n",
        "print(pattern.findall(matkul))"
      ]
    },
    {
      "cell_type": "code",
      "execution_count": null,
      "metadata": {
        "id": "Ucpp3ZpfvXjy",
        "outputId": "b49d4f98-9f56-438d-9bd7-279a4c3f9965",
        "colab": {
          "base_uri": "https://localhost:8080/"
        }
      },
      "outputs": [
        {
          "output_type": "stream",
          "name": "stdout",
          "text": [
            "['0', '205', '89']\n"
          ]
        }
      ],
      "source": [
        "# Find all matkul number using 0-9\n",
        "pattern = re.compile('[023456789]+')\n",
        "print(pattern.findall(matkul))"
      ]
    },
    {
      "cell_type": "code",
      "execution_count": null,
      "metadata": {
        "id": "fZTJJ8zzvXjy",
        "outputId": "5a435626-db5d-41b6-ef66-65ae1feaa065",
        "colab": {
          "base_uri": "https://localhost:8080/"
        }
      },
      "outputs": [
        {
          "output_type": "stream",
          "name": "stdout",
          "text": [
            "['COM', 'MAT', 'ENG']\n",
            "['COM', 'MAT', 'ENG']\n",
            "['101', '205', '189']\n"
          ]
        }
      ],
      "source": [
        "# Find all matkul code (3 Characters Capital Letters)\n",
        "print(re.findall('[A-Z]{3}', matkul)) # match exactly 3 character [A-z]\n",
        "print(re.findall('[A-Z]{2,}', matkul)) # match more than 2 character [A-z]\n",
        "print(re.findall('[0-9]{3}', matkul)) # match more than 2 character [A-z]"
      ]
    },
    {
      "cell_type": "code",
      "execution_count": null,
      "metadata": {
        "id": "WYCltXR0vXjz",
        "outputId": "a0beb68b-f141-4230-e17b-ee326ec0166a",
        "colab": {
          "base_uri": "https://localhost:8080/"
        }
      },
      "outputs": [
        {
          "output_type": "execute_result",
          "data": {
            "text/plain": [
              "[('Banten', '15345')]"
            ]
          },
          "metadata": {},
          "execution_count": 39
        }
      ],
      "source": [
        "alamat = \"Jalan BSD Grand Boulevard Nomor 122c, Sampora, BSD, Tangerang, Banten 15345\"\n",
        "re.findall(r'(Banten|DKI Jakarta|Jawa Barat) (\\d{5})', alamat)\n"
      ]
    },
    {
      "cell_type": "code",
      "execution_count": null,
      "metadata": {
        "id": "jjEE9wyBvXjz",
        "outputId": "84c27e3c-f2cc-41d8-edf9-697182a3001e",
        "colab": {
          "base_uri": "https://localhost:8080/"
        }
      },
      "outputs": [
        {
          "output_type": "stream",
          "name": "stdout",
          "text": [
            "['10', '20', '18']\n"
          ]
        }
      ],
      "source": [
        "# Find all matkul number limit only 2 digit\n",
        "\n",
        "pattern = re.compile('\\d{2}')\n",
        "print(pattern.findall(matkul))"
      ]
    },
    {
      "cell_type": "code",
      "execution_count": null,
      "metadata": {
        "id": "et4M91RMvXjz",
        "outputId": "9c3fc006-9914-46c5-9f61-de5f954e7b6d",
        "colab": {
          "base_uri": "https://localhost:8080/"
        }
      },
      "outputs": [
        {
          "output_type": "execute_result",
          "data": {
            "text/plain": [
              "['Computers', 'Mathematics', 'English']"
            ]
          },
          "metadata": {},
          "execution_count": 41
        }
      ],
      "source": [
        "# Find all matkul name (English, Computers, Mathematics)\n",
        "re.findall(r'[A-Z][a-z]{1,}', matkul) #Ambil 1 character A-Z capital + a-z lowercase seterusnya\n"
      ]
    },
    {
      "cell_type": "markdown",
      "metadata": {
        "id": "BRXw2OVgvXjz"
      },
      "source": [
        "To find position of matching pattern, use `.search()`\n",
        "```python\n",
        "kalimat = 'umur saya 21 tahun`\n",
        "\n",
        "pattern = re.compile('\\d+')\n",
        "search = pattern.search(kalimat)\n",
        "print('Starting Position: ', search.start())\n",
        "print('Ending Position: ', search.end())\n",
        "```"
      ]
    },
    {
      "cell_type": "code",
      "execution_count": null,
      "metadata": {
        "id": "dVh6IshkvXjz",
        "outputId": "38127c2f-b9c8-4fb2-8f28-a7759ac9d6b6",
        "colab": {
          "base_uri": "https://localhost:8080/"
        }
      },
      "outputs": [
        {
          "output_type": "stream",
          "name": "stdout",
          "text": [
            "Starting Position:  10\n",
            "Ending Position:  12\n"
          ]
        }
      ],
      "source": [
        "kalimat = 'umur saya 21 tahun'\n",
        "\n",
        "pattern = re.compile('\\d+')\n",
        "search = pattern.search(kalimat)\n",
        "print('Starting Position: ', search.start())\n",
        "print('Ending Position: ', search.end())"
      ]
    },
    {
      "cell_type": "code",
      "execution_count": null,
      "metadata": {
        "id": "tpapDpcfvXj0"
      },
      "outputs": [],
      "source": [
        "pattern = re.compile(r'(\\d{5})')\n",
        "search = pattern.search(alamat)"
      ]
    },
    {
      "cell_type": "code",
      "execution_count": null,
      "metadata": {
        "id": "Vgqli_5MvXj0",
        "colab": {
          "base_uri": "https://localhost:8080/"
        },
        "outputId": "912144b1-bfd2-421f-e343-38bc1ed1db1a"
      },
      "outputs": [
        {
          "output_type": "execute_result",
          "data": {
            "text/plain": [
              "[True]"
            ]
          },
          "metadata": {},
          "execution_count": 47
        }
      ],
      "source": [
        "apakah_ada_kodepos = []\n",
        "if search is not None:\n",
        "    apakah_ada_kodepos.append(True)\n",
        "else:\n",
        "    apakah_ada_kodepos.append(False)\n",
        "apakah_ada_kodepos"
      ]
    },
    {
      "cell_type": "markdown",
      "metadata": {
        "id": "ctp6cTZyvXj0"
      },
      "source": [
        "### Exercise:\n",
        "by using findall, extract unique email from this text\n",
        "```\n",
        "text_email = \"\"\"\n",
        "From: aryo@binar.com\n",
        "To: TeamBinar@binar.co.id\n",
        "\n",
        "Dear all,\n",
        "Terlampir adalah materi pertemuan minggu ini.\n",
        "bila ada kesulitan, \n",
        "silahkan hubungi Tim Facil di facil@binar.com atau ke saya di aryo@binar.com\n",
        "\n",
        "Regards,\n",
        "Aryo\n",
        "\"\"\"\n",
        "```"
      ]
    },
    {
      "cell_type": "code",
      "execution_count": null,
      "metadata": {
        "id": "chFOwrxVvXj1"
      },
      "outputs": [],
      "source": [
        "# Extract the email address from the text\n",
        "text_email = \"\"\"\n",
        "From: aryo@binar.com\n",
        "To: TeamBinar@binar.co.id\n",
        "\n",
        "Dear all,\n",
        "Terlampir adalah materi pertemuan minggu ini.\n",
        "bila ada kesulitan, \n",
        "silahkan hubungi Tim Facil di facil@binar.com atau ke saya di aryo@binar.com\n",
        "\n",
        "Regards,\n",
        "Aryo\n",
        "\"\"\""
      ]
    },
    {
      "cell_type": "code",
      "execution_count": null,
      "metadata": {
        "id": "1OIY873zvXj1",
        "colab": {
          "base_uri": "https://localhost:8080/"
        },
        "outputId": "bc554f3d-92d7-4a4c-8dbc-c75f2c5aabde"
      },
      "outputs": [
        {
          "output_type": "stream",
          "name": "stdout",
          "text": [
            "{'aryo@binar.com', 'facil@binar.com', 'TeamBinar@binar.co.id'}\n"
          ]
        }
      ],
      "source": [
        "import re\n",
        "# Menemukan pola regex untuk mencocokam alamat email\n",
        "pattern = r'\\b[A-Za-z0-9._%+-]+@[A-Za-z0-9.-]+\\.[A-Z|a-z]{2,}\\b'\n",
        "\n",
        "# Extact menggunakan findall\n",
        "matches = re.findall(pattern, text_email)\n",
        "\n",
        "# Pakai fungsi set() untuk mengamil teks unique email addresses\n",
        "unique_emails = set(matches)\n",
        "\n",
        "print(unique_emails)"
      ]
    },
    {
      "cell_type": "code",
      "execution_count": null,
      "metadata": {
        "id": "Nt59txSkvXj1"
      },
      "outputs": [],
      "source": [
        "emails = re.findall(r'([A-Za-z-_0-9]{1,})([@])([A-Za-z-_0-9]{1,})([.])([A-Za-z-_0-9]{1,})([.]?)([A-Za-z-_0-9]{1,})?', text_email)"
      ]
    },
    {
      "cell_type": "code",
      "execution_count": null,
      "metadata": {
        "id": "MrRTNp17vXj2",
        "outputId": "953a022e-61d1-4056-9c6e-43e926922fff"
      },
      "outputs": [
        {
          "name": "stdout",
          "output_type": "stream",
          "text": [
            "('aryo', '@', 'binar', '.', 'com', '', '')\n",
            "aryo@binar.com\n",
            "('TeamBinar', '@', 'binar', '.', 'co', '.', 'id')\n",
            "TeamBinar@binar.co.id\n",
            "('facil20', '@', 'binar', '.', 'com', '', '')\n",
            "facil20@binar.com\n",
            "('aryo', '@', 'binar', '.', 'com', '', '')\n",
            "aryo@binar.com\n"
          ]
        }
      ],
      "source": [
        "for email in emails:\n",
        "    print(email)\n",
        "    email = \"\".join(email).strip()\n",
        "    print(email)"
      ]
    },
    {
      "cell_type": "markdown",
      "source": [
        "# Keterangan"
      ],
      "metadata": {
        "id": "ZZa8YzgxUW-c"
      }
    },
    {
      "cell_type": "markdown",
      "source": [
        "\n",
        "## Keterangan\n",
        "\n",
        "Regex | Preview\n",
        "--- | ---\n",
        "`strip()` | adalah metode string bawaan yang dipakai untuk menghapus karakter dari awal \\n atau akhir sebuah string.\n",
        "`([A-Za-z-_0-9]{1,})` | mencocokkan nama pengguna (username) email. A-Za-z-_0-9 merupakan karakter yang diperbolehkan untuk digunakan dalam username, sedangkan **{1,}** menunjukkan bahwa panjang username minimal adalah 1 karakter\n",
        "`` ([@]) `` | `mencocokkan karakter '@'`\n",
        "`([A-Za-z-_0-9]{1,})` | mencocokkan nama domain email. A-Za-z-_0-9 merupakan karakter yang diperbolehkan untuk digunakan dalam domain, sedangkan {1,} menunjukkan bahwa panjang domain minimal adalah 1 karakter.\n",
        "`([.])` | mencocokkan karakter '.' untuk memisahkan antara nama domain dan subdomain (jika ada).\n",
        "`([A-Za-z-_0-9]{1,})` | mencocokkan nama subdomain (opsional). A-Za-z-_0-9 merupakan karakter yang diperbolehkan untuk digunakan dalam subdomain, sedangkan **{1,}** menunjukkan bahwa panjang subdomain minimal adalah 1 karakter.\n",
        "`([.]?)` | mencocokkan karakter '.' (opsional) untuk memisahkan antara nama subdomain dan top-level domain (TLD) (jika ada).\n",
        "`([A-Za-z-_0-9]{1,})?` | mencocokkan nama TLD (opsional). A-Za-z-_0-9 merupakan karakter yang diperbolehkan untuk digunakan dalam TLD, sedangkan ? menunjukkan bahwa TLD bersifat opsional.\n"
      ],
      "metadata": {
        "id": "k4RG5M-kUgKW"
      }
    },
    {
      "cell_type": "markdown",
      "metadata": {
        "id": "2fo3Tm45vXj2"
      },
      "source": [
        "## Replace Text by using Regex\n",
        "to replace text in regex, we use re.sub()\n",
        "```python\n",
        "# marking phone number from text, by replace it with XXX\n",
        "chat = 'Silahkan hubungi 081567234645 (Pak Rudi) untuk nego dan cek lokasi'\n",
        "re.sub('\\d+', 'XXX', text)\n",
        "```"
      ]
    },
    {
      "cell_type": "code",
      "execution_count": null,
      "metadata": {
        "id": "ScmqrR1ovXj3"
      },
      "outputs": [],
      "source": [
        "# re.sub\n",
        "# re.match/re.findall\n",
        "# .replace"
      ]
    },
    {
      "cell_type": "code",
      "execution_count": null,
      "metadata": {
        "id": "58AymcddvXj3",
        "outputId": "8165cdd1-2f30-41f2-980b-ecd5c5e13a6b"
      },
      "outputs": [
        {
          "name": "stdout",
          "output_type": "stream",
          "text": [
            "Silahkan hubungi XXX (Pak Rudi) untuk nego dan cek lokasi\n",
            "Silahkan hubungi XXX (Pak Rudi) untuk nego dan cek lokasi\n",
            "Silahkan hubungi XXX (Pak Rudi) untuk nego dan cek lokasi\n",
            "Silahkan hubungi XXX (Pak Rudi) untuk nego dan cek lokasi\n",
            "Silahkan hubungi XXX (Pak Rudi) untuk nego dan cek lokasi\n"
          ]
        }
      ],
      "source": [
        "chat1 = 'Silahkan hubungi 081567234645 (Pak Rudi) untuk nego dan cek lokasi'\n",
        "chat2 = 'Silahkan hubungi 0815-6723-4645 (Pak Rudi) untuk nego dan cek lokasi'\n",
        "chat3 = 'Silahkan hubungi 08156723464 (Pak Rudi) untuk nego dan cek lokasi'\n",
        "chat4 = 'Silahkan hubungi 0815-6723-464 (Pak Rudi) untuk nego dan cek lokasi'\n",
        "chat5 = 'Silahkan hubungi 08156723-464 (Pak Rudi) untuk nego dan cek lokasi'\n",
        "\n",
        "# Practice Here\n",
        "pattern = '[0-9]{4}[ -/]?[0-9]{4}[ -/]?[0-9]{3,4}'\n",
        "print(re.sub(pattern, 'XXX', chat1))\n",
        "print(re.sub(pattern, 'XXX', chat2))\n",
        "print(re.sub(pattern, 'XXX', chat3))\n",
        "print(re.sub(pattern, 'XXX', chat4))\n",
        "print(re.sub(pattern, 'XXX', chat5))"
      ]
    },
    {
      "cell_type": "code",
      "source": [
        "chat = 'Jl. kenari no 413 harganya Rp.1750000 perbulan, Silahkan hubungi 081567234645 (Pak Rudi) untuk cek lokasi'\n",
        "pattern = '[0-9]{7}'\n",
        "re.sub(pattern,r'XXX',chat)"
      ],
      "metadata": {
        "colab": {
          "base_uri": "https://localhost:8080/",
          "height": 35
        },
        "id": "POUWHErEgk11",
        "outputId": "a7215d27-a3a9-4680-e8ce-660b20e66011"
      },
      "execution_count": null,
      "outputs": [
        {
          "output_type": "execute_result",
          "data": {
            "text/plain": [
              "'Jl. kenari no 413 harganya Rp.XXX perbulan, Silahkan hubungi XXX34645 (Pak Rudi) untuk cek lokasi'"
            ],
            "application/vnd.google.colaboratory.intrinsic+json": {
              "type": "string"
            }
          },
          "metadata": {},
          "execution_count": 52
        }
      ]
    },
    {
      "cell_type": "code",
      "execution_count": null,
      "metadata": {
        "id": "vpc4fUWjvXj3",
        "outputId": "a6019528-5fd6-471e-fb91-39c2964a7c7f",
        "colab": {
          "base_uri": "https://localhost:8080/",
          "height": 35
        }
      },
      "outputs": [
        {
          "output_type": "execute_result",
          "data": {
            "text/plain": [
              "'Jl. kenari no 413 harganya Rp.XXX perbulan, Silahkan hubungi XXX34645 (Pak Rudi) untuk cek lokasi'"
            ],
            "application/vnd.google.colaboratory.intrinsic+json": {
              "type": "string"
            }
          },
          "metadata": {},
          "execution_count": 51
        }
      ],
      "source": [
        "# marking phone number from text, by replace it with XXX\n",
        "chat = 'Jl. kenari no 413 harganya Rp.1750000 perbulan, Silahkan hubungi 081567234645 (Pak Rudi) untuk cek lokasi'\n",
        "pattern = '[0-9]{11,12}'\n",
        "re.sub(pattern,r'XXX',chat)"
      ]
    },
    {
      "cell_type": "markdown",
      "metadata": {
        "id": "eMHvT-LwvXj4"
      },
      "source": [
        "### Exercise: \n",
        "```python\n",
        "# marking price, phone number & website from text, by replace it with XXX\n",
        "chat = \"\"\"\n",
        "kondisi mulus gan, harga 2.500.000 nego,\n",
        "chat aja 081567234645 ato klik https://www.tokopedia.com/produk/1234\n",
        "\"\"\"\n",
        "```"
      ]
    },
    {
      "cell_type": "code",
      "execution_count": null,
      "metadata": {
        "id": "KK0Pdi4uvXj5"
      },
      "outputs": [],
      "source": [
        "chat = \"\"\"\n",
        "kondisi mulus gan, https://www.tokopedia.com/produk/1234 harga 2.500.000 nego,\n",
        "chat aja 081567234645 ato klik https://www.tokopedia.com/produk/1234 & https://www.tokopedia.com/produk/1234\n",
        "\"\"\"\n",
        "# chat = re.sub(r'(harga) (.*)', r'\\1 XXX', chat)\n",
        "# chat = re.sub(r'([0-9]{8,})',r'XXX',chat)\n",
        "# chat = re.sub(r'(http)(.*) ?', r'XXX',chat)\n",
        "# print(chat)"
      ]
    },
    {
      "cell_type": "code",
      "execution_count": null,
      "metadata": {
        "id": "tgP2pxYCvXj5",
        "outputId": "ae683f4f-b923-4614-8b44-80821a0e44ef"
      },
      "outputs": [
        {
          "data": {
            "text/plain": [
              "['https://www.tokopedia.com/produk/1234',\n",
              " 'https://www.tokopedia.com/produk/1234',\n",
              " 'https://www.tokopedia.com/produk/1234']"
            ]
          },
          "execution_count": 270,
          "metadata": {},
          "output_type": "execute_result"
        }
      ],
      "source": [
        "re.findall(r\"(?:https?|ftp):\\/\\/[\\w/\\-?=%.]+\\.[\\w/\\-?=%.]+\", chat)"
      ]
    },
    {
      "cell_type": "code",
      "execution_count": null,
      "metadata": {
        "id": "1mCvChE0vXj5"
      },
      "outputs": [],
      "source": [
        "list_of_nama_perusahaan = ['8001814081//pt hwa seung indonesia - sew',\n",
        "                           '1003157480//pt. aditya agroindo',\n",
        "                           '1003157480//pt aditya agroindo- pemeliha',\n",
        "                           'aditya agroindo - area pontianak',\n",
        "                           '16001193394//pt parkland world indonesia',\n",
        "                           '19005251595//pt sicepat ekspres-driver',\n",
        "                           'cakra husada - direktur', \n",
        "                           '23001646599//pt wijaya karya persero',\n",
        "                           'bekaert indonesia - staff', \n",
        "                           'bekaert indonesia pt']"
      ]
    },
    {
      "cell_type": "code",
      "execution_count": null,
      "metadata": {
        "id": "K79ylZzevXj6"
      },
      "outputs": [],
      "source": [
        "contoh_text = '8001814081//pt hwa seung indonesia - sew'"
      ]
    },
    {
      "cell_type": "markdown",
      "metadata": {
        "id": "r-SW-VM9vXj6"
      },
      "source": [
        "#### Hilangin Angka"
      ]
    },
    {
      "cell_type": "code",
      "execution_count": null,
      "metadata": {
        "id": "n5LV6byJvXj6",
        "outputId": "ac0f1d05-f0ba-44f3-f34b-191445713a87",
        "colab": {
          "base_uri": "https://localhost:8080/",
          "height": 35
        }
      },
      "outputs": [
        {
          "output_type": "execute_result",
          "data": {
            "text/plain": [
              "'//pt hwa seung indonesia - sew'"
            ],
            "application/vnd.google.colaboratory.intrinsic+json": {
              "type": "string"
            }
          },
          "metadata": {},
          "execution_count": 36
        }
      ],
      "source": [
        "pattern = '\\d{10,}'\n",
        "re.sub(pattern, r'',contoh_text)"
      ]
    },
    {
      "cell_type": "markdown",
      "metadata": {
        "id": "frBCzRJzvXj7"
      },
      "source": [
        "#### Hilangin Punctuation"
      ]
    },
    {
      "cell_type": "code",
      "source": [
        "pattern = '[^\\w\\s]'\n",
        "re.sub(pattern, r'',contoh_text)\n",
        "\n",
        "# spesial karakter !@#$%^&*()_+={}[]|\\;:'\\\",.<>?/"
      ],
      "metadata": {
        "colab": {
          "base_uri": "https://localhost:8080/",
          "height": 35
        },
        "id": "v2jUORJNWPYy",
        "outputId": "4829dd27-9c1f-4b17-8284-2ec26883c6f0"
      },
      "execution_count": null,
      "outputs": [
        {
          "output_type": "execute_result",
          "data": {
            "text/plain": [
              "'8001814081pt hwa seung indonesia  sew'"
            ],
            "application/vnd.google.colaboratory.intrinsic+json": {
              "type": "string"
            }
          },
          "metadata": {},
          "execution_count": 37
        }
      ]
    },
    {
      "cell_type": "markdown",
      "metadata": {
        "id": "Xn_0XO2DvXj7"
      },
      "source": [
        "#### Hilangin PT"
      ]
    },
    {
      "cell_type": "code",
      "source": [
        "pattern = 'pt'\n",
        "re.sub(pattern, r'',contoh_text)"
      ],
      "metadata": {
        "colab": {
          "base_uri": "https://localhost:8080/",
          "height": 35
        },
        "id": "LjZ-cE99WPv0",
        "outputId": "06d2b1df-65c9-4f79-8fa4-965fc5d5350a"
      },
      "execution_count": null,
      "outputs": [
        {
          "output_type": "execute_result",
          "data": {
            "text/plain": [
              "'8001814081// hwa seung indonesia - sew'"
            ],
            "application/vnd.google.colaboratory.intrinsic+json": {
              "type": "string"
            }
          },
          "metadata": {},
          "execution_count": 30
        }
      ]
    },
    {
      "cell_type": "markdown",
      "metadata": {
        "id": "YI-YfCg6vXj7"
      },
      "source": [
        "#### Hilangin Staff"
      ]
    },
    {
      "cell_type": "code",
      "source": [
        "pattern = 'staff'\n",
        "re.sub(pattern, r'',contoh_text)"
      ],
      "metadata": {
        "colab": {
          "base_uri": "https://localhost:8080/",
          "height": 35
        },
        "id": "ya1wo_vuWQME",
        "outputId": "ef543c18-1353-4353-a4e3-9feb3406916e"
      },
      "execution_count": null,
      "outputs": [
        {
          "output_type": "execute_result",
          "data": {
            "text/plain": [
              "'8001814081//pt hwa seung indonesia - sew'"
            ],
            "application/vnd.google.colaboratory.intrinsic+json": {
              "type": "string"
            }
          },
          "metadata": {},
          "execution_count": 31
        }
      ]
    },
    {
      "cell_type": "markdown",
      "metadata": {
        "id": "OfmP-il-vXj8"
      },
      "source": [
        "#### Hilangin Punctuation"
      ]
    },
    {
      "cell_type": "code",
      "source": [
        "pattern = '[^\\w\\s]'\n",
        "re.sub(pattern, r'',contoh_text)"
      ],
      "metadata": {
        "colab": {
          "base_uri": "https://localhost:8080/",
          "height": 35
        },
        "id": "DsHKPwKFWQjL",
        "outputId": "86e03995-f8e2-4e30-c973-92a74f462ca1"
      },
      "execution_count": null,
      "outputs": [
        {
          "output_type": "execute_result",
          "data": {
            "text/plain": [
              "'8001814081pt hwa seung indonesia  sew'"
            ],
            "application/vnd.google.colaboratory.intrinsic+json": {
              "type": "string"
            }
          },
          "metadata": {},
          "execution_count": 32
        }
      ]
    },
    {
      "cell_type": "markdown",
      "metadata": {
        "id": "iSQCKqsbvXj8"
      },
      "source": [
        "#### Hilangin Punctuation"
      ]
    },
    {
      "cell_type": "code",
      "execution_count": null,
      "metadata": {
        "id": "3fO9Sqw8vXj8"
      },
      "outputs": [],
      "source": [
        "def process_text(nama_perusahaan):\n",
        "    print(\"asli\", nama_perusahaan)\n",
        "    nama_perusahaan = re.sub('\\d{10,}', r'',nama_perusahaan) # step 1\n",
        "    nama_perusahaan = re.sub('[\\/\\.]', r'', nama_perusahaan) # step 2\n",
        "    nama_perusahaan = re.sub('[\\-].*', r'', nama_perusahaan) # step 3\n",
        "    nama_perusahaan = re.sub('pt', r'', nama_perusahaan) # step 4\n",
        "    nama_perusahaan = nama_perusahaan.strip() # step 5\n",
        "    return nama_perusahaan"
      ]
    },
    {
      "cell_type": "code",
      "execution_count": null,
      "metadata": {
        "id": "QoR7kYSKvXj8",
        "outputId": "1bc771d9-0612-44aa-83b9-5800c2f0065c"
      },
      "outputs": [
        {
          "name": "stdout",
          "output_type": "stream",
          "text": [
            "asli 8001814081//pt hwa seung indonesia - sew\n",
            "setelah step 1 //pt hwa seung indonesia - sew\n",
            "setelah step 2 pt hwa seung indonesia - sew\n",
            "setelah step 3 pt hwa seung indonesia \n",
            "setelah step 4  hwa seung indonesia \n",
            "hwa seung indonesia\n"
          ]
        }
      ],
      "source": [
        "for nama_perusahaan in list_of_nama_perusahaan:\n",
        "    print(process_text(nama_perusahaan))\n",
        "    break"
      ]
    },
    {
      "cell_type": "code",
      "execution_count": null,
      "metadata": {
        "id": "d0X5EC40vXj8"
      },
      "outputs": [],
      "source": []
    }
  ],
  "metadata": {
    "kernelspec": {
      "display_name": "Python 3 (ipykernel)",
      "language": "python",
      "name": "python3"
    },
    "language_info": {
      "codemirror_mode": {
        "name": "ipython",
        "version": 3
      },
      "file_extension": ".py",
      "mimetype": "text/x-python",
      "name": "python",
      "nbconvert_exporter": "python",
      "pygments_lexer": "ipython3",
      "version": "3.9.13"
    },
    "vscode": {
      "interpreter": {
        "hash": "bbe054f82611da69a236c20d185807936886c22cfa3db0ebeb109fb4db8ace57"
      }
    },
    "colab": {
      "provenance": []
    }
  },
  "nbformat": 4,
  "nbformat_minor": 0
}