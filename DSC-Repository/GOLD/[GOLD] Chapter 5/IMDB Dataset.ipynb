{
 "cells": [
  {
   "cell_type": "code",
   "execution_count": 3,
   "id": "5702500f",
   "metadata": {},
   "outputs": [],
   "source": [
    "import pandas as pd\n",
    "import numpy as np\n",
    "import seaborn as sns\n",
    "import matplotlib.pyplot as plt"
   ]
  },
  {
   "cell_type": "code",
   "execution_count": 4,
   "id": "1080b5af",
   "metadata": {},
   "outputs": [],
   "source": [
    "df = pd.read_csv('IMDBDataset/IMDB Dataset.csv')"
   ]
  },
  {
   "cell_type": "code",
   "execution_count": 5,
   "id": "3d2ddb80",
   "metadata": {},
   "outputs": [
    {
     "data": {
      "text/html": [
       "<div>\n",
       "<style scoped>\n",
       "    .dataframe tbody tr th:only-of-type {\n",
       "        vertical-align: middle;\n",
       "    }\n",
       "\n",
       "    .dataframe tbody tr th {\n",
       "        vertical-align: top;\n",
       "    }\n",
       "\n",
       "    .dataframe thead th {\n",
       "        text-align: right;\n",
       "    }\n",
       "</style>\n",
       "<table border=\"1\" class=\"dataframe\">\n",
       "  <thead>\n",
       "    <tr style=\"text-align: right;\">\n",
       "      <th></th>\n",
       "      <th>review</th>\n",
       "      <th>sentiment</th>\n",
       "    </tr>\n",
       "  </thead>\n",
       "  <tbody>\n",
       "    <tr>\n",
       "      <th>0</th>\n",
       "      <td>One of the other reviewers has mentioned that ...</td>\n",
       "      <td>positive</td>\n",
       "    </tr>\n",
       "    <tr>\n",
       "      <th>1</th>\n",
       "      <td>A wonderful little production. &lt;br /&gt;&lt;br /&gt;The...</td>\n",
       "      <td>positive</td>\n",
       "    </tr>\n",
       "    <tr>\n",
       "      <th>2</th>\n",
       "      <td>I thought this was a wonderful way to spend ti...</td>\n",
       "      <td>positive</td>\n",
       "    </tr>\n",
       "    <tr>\n",
       "      <th>3</th>\n",
       "      <td>Basically there's a family where a little boy ...</td>\n",
       "      <td>negative</td>\n",
       "    </tr>\n",
       "    <tr>\n",
       "      <th>4</th>\n",
       "      <td>Petter Mattei's \"Love in the Time of Money\" is...</td>\n",
       "      <td>positive</td>\n",
       "    </tr>\n",
       "    <tr>\n",
       "      <th>...</th>\n",
       "      <td>...</td>\n",
       "      <td>...</td>\n",
       "    </tr>\n",
       "    <tr>\n",
       "      <th>49995</th>\n",
       "      <td>I thought this movie did a down right good job...</td>\n",
       "      <td>positive</td>\n",
       "    </tr>\n",
       "    <tr>\n",
       "      <th>49996</th>\n",
       "      <td>Bad plot, bad dialogue, bad acting, idiotic di...</td>\n",
       "      <td>negative</td>\n",
       "    </tr>\n",
       "    <tr>\n",
       "      <th>49997</th>\n",
       "      <td>I am a Catholic taught in parochial elementary...</td>\n",
       "      <td>negative</td>\n",
       "    </tr>\n",
       "    <tr>\n",
       "      <th>49998</th>\n",
       "      <td>I'm going to have to disagree with the previou...</td>\n",
       "      <td>negative</td>\n",
       "    </tr>\n",
       "    <tr>\n",
       "      <th>49999</th>\n",
       "      <td>No one expects the Star Trek movies to be high...</td>\n",
       "      <td>negative</td>\n",
       "    </tr>\n",
       "  </tbody>\n",
       "</table>\n",
       "<p>50000 rows × 2 columns</p>\n",
       "</div>"
      ],
      "text/plain": [
       "                                                  review sentiment\n",
       "0      One of the other reviewers has mentioned that ...  positive\n",
       "1      A wonderful little production. <br /><br />The...  positive\n",
       "2      I thought this was a wonderful way to spend ti...  positive\n",
       "3      Basically there's a family where a little boy ...  negative\n",
       "4      Petter Mattei's \"Love in the Time of Money\" is...  positive\n",
       "...                                                  ...       ...\n",
       "49995  I thought this movie did a down right good job...  positive\n",
       "49996  Bad plot, bad dialogue, bad acting, idiotic di...  negative\n",
       "49997  I am a Catholic taught in parochial elementary...  negative\n",
       "49998  I'm going to have to disagree with the previou...  negative\n",
       "49999  No one expects the Star Trek movies to be high...  negative\n",
       "\n",
       "[50000 rows x 2 columns]"
      ]
     },
     "execution_count": 5,
     "metadata": {},
     "output_type": "execute_result"
    }
   ],
   "source": [
    "df"
   ]
  },
  {
   "cell_type": "markdown",
   "id": "33dcc362",
   "metadata": {},
   "source": [
    "### Tujuan : Menebak Sentiment dari sebuah review film"
   ]
  },
  {
   "cell_type": "markdown",
   "id": "1664d2a2",
   "metadata": {},
   "source": [
    "### Menganalisa Data Review Film"
   ]
  },
  {
   "cell_type": "markdown",
   "id": "ae926964",
   "metadata": {},
   "source": [
    "Cari Total Char & Total Word -> apakah Panjang kata memiliki korelasi positif terhadap review positif?"
   ]
  },
  {
   "cell_type": "code",
   "execution_count": 6,
   "id": "b9c08914",
   "metadata": {},
   "outputs": [],
   "source": [
    "df['total_char'] = df['review'].apply(lambda x: len(x))\n",
    "df['total_word'] = df['review'].apply(lambda x: len(x.split(\" \")))"
   ]
  },
  {
   "cell_type": "code",
   "execution_count": 7,
   "id": "be3758f0",
   "metadata": {},
   "outputs": [
    {
     "data": {
      "text/html": [
       "<div>\n",
       "<style scoped>\n",
       "    .dataframe tbody tr th:only-of-type {\n",
       "        vertical-align: middle;\n",
       "    }\n",
       "\n",
       "    .dataframe tbody tr th {\n",
       "        vertical-align: top;\n",
       "    }\n",
       "\n",
       "    .dataframe thead th {\n",
       "        text-align: right;\n",
       "    }\n",
       "</style>\n",
       "<table border=\"1\" class=\"dataframe\">\n",
       "  <thead>\n",
       "    <tr style=\"text-align: right;\">\n",
       "      <th></th>\n",
       "      <th>total_char</th>\n",
       "      <th>total_word</th>\n",
       "    </tr>\n",
       "  </thead>\n",
       "  <tbody>\n",
       "    <tr>\n",
       "      <th>0</th>\n",
       "      <td>1761</td>\n",
       "      <td>307</td>\n",
       "    </tr>\n",
       "    <tr>\n",
       "      <th>1</th>\n",
       "      <td>998</td>\n",
       "      <td>162</td>\n",
       "    </tr>\n",
       "    <tr>\n",
       "      <th>2</th>\n",
       "      <td>926</td>\n",
       "      <td>166</td>\n",
       "    </tr>\n",
       "    <tr>\n",
       "      <th>3</th>\n",
       "      <td>748</td>\n",
       "      <td>138</td>\n",
       "    </tr>\n",
       "    <tr>\n",
       "      <th>4</th>\n",
       "      <td>1317</td>\n",
       "      <td>230</td>\n",
       "    </tr>\n",
       "    <tr>\n",
       "      <th>...</th>\n",
       "      <td>...</td>\n",
       "      <td>...</td>\n",
       "    </tr>\n",
       "    <tr>\n",
       "      <th>49995</th>\n",
       "      <td>1008</td>\n",
       "      <td>194</td>\n",
       "    </tr>\n",
       "    <tr>\n",
       "      <th>49996</th>\n",
       "      <td>642</td>\n",
       "      <td>112</td>\n",
       "    </tr>\n",
       "    <tr>\n",
       "      <th>49997</th>\n",
       "      <td>1280</td>\n",
       "      <td>230</td>\n",
       "    </tr>\n",
       "    <tr>\n",
       "      <th>49998</th>\n",
       "      <td>1234</td>\n",
       "      <td>212</td>\n",
       "    </tr>\n",
       "    <tr>\n",
       "      <th>49999</th>\n",
       "      <td>678</td>\n",
       "      <td>129</td>\n",
       "    </tr>\n",
       "  </tbody>\n",
       "</table>\n",
       "<p>50000 rows × 2 columns</p>\n",
       "</div>"
      ],
      "text/plain": [
       "       total_char  total_word\n",
       "0            1761         307\n",
       "1             998         162\n",
       "2             926         166\n",
       "3             748         138\n",
       "4            1317         230\n",
       "...           ...         ...\n",
       "49995        1008         194\n",
       "49996         642         112\n",
       "49997        1280         230\n",
       "49998        1234         212\n",
       "49999         678         129\n",
       "\n",
       "[50000 rows x 2 columns]"
      ]
     },
     "execution_count": 7,
     "metadata": {},
     "output_type": "execute_result"
    }
   ],
   "source": [
    "df[['total_char', 'total_word']]"
   ]
  },
  {
   "cell_type": "code",
   "execution_count": 8,
   "id": "1324f49c",
   "metadata": {},
   "outputs": [
    {
     "name": "stderr",
     "output_type": "stream",
     "text": [
      "C:\\Users\\parzival\\AppData\\Local\\Temp\\ipykernel_7020\\2814619643.py:1: UserWarning: \n",
      "\n",
      "`distplot` is a deprecated function and will be removed in seaborn v0.14.0.\n",
      "\n",
      "Please adapt your code to use either `displot` (a figure-level function with\n",
      "similar flexibility) or `histplot` (an axes-level function for histograms).\n",
      "\n",
      "For a guide to updating your code to use the new functions, please see\n",
      "https://gist.github.com/mwaskom/de44147ed2974457ad6372750bbe5751\n",
      "\n",
      "  sns.distplot(df['total_char'])\n"
     ]
    },
    {
     "data": {
      "text/plain": [
       "<Axes: xlabel='total_char', ylabel='Density'>"
      ]
     },
     "execution_count": 8,
     "metadata": {},
     "output_type": "execute_result"
    },
    {
     "data": {
      "image/png": "[encoded data removed]",
      "text/plain": [
       "<Figure size 640x480 with 1 Axes>"
      ]
     },
     "metadata": {},
     "output_type": "display_data"
    }
   ],
   "source": [
    "sns.distplot(df['total_char'])"
   ]
  },
  {
   "cell_type": "code",
   "execution_count": 9,
   "id": "656243d8",
   "metadata": {},
   "outputs": [
    {
     "name": "stdout",
     "output_type": "stream",
     "text": [
      "1309.43102\n",
      "970.0\n"
     ]
    }
   ],
   "source": [
    "print(df['total_char'].mean())\n",
    "print(df['total_char'].median())"
   ]
  },
  {
   "cell_type": "code",
   "execution_count": 10,
   "id": "e0cae500",
   "metadata": {
    "scrolled": false
   },
   "outputs": [
    {
     "name": "stderr",
     "output_type": "stream",
     "text": [
      "C:\\Users\\parzival\\AppData\\Local\\Temp\\ipykernel_7020\\1605975025.py:1: UserWarning: \n",
      "\n",
      "`distplot` is a deprecated function and will be removed in seaborn v0.14.0.\n",
      "\n",
      "Please adapt your code to use either `displot` (a figure-level function with\n",
      "similar flexibility) or `histplot` (an axes-level function for histograms).\n",
      "\n",
      "For a guide to updating your code to use the new functions, please see\n",
      "https://gist.github.com/mwaskom/de44147ed2974457ad6372750bbe5751\n",
      "\n",
      "  sns.distplot(df['total_word'])\n"
     ]
    },
    {
     "data": {
      "text/plain": [
       "<Axes: xlabel='total_word', ylabel='Density'>"
      ]
     },
     "execution_count": 10,
     "metadata": {},
     "output_type": "execute_result"
    },
    {
     "data": {
      "image/png": "[encoded data removed]",
      "text/plain": [
       "<Figure size 640x480 with 1 Axes>"
      ]
     },
     "metadata": {},
     "output_type": "display_data"
    }
   ],
   "source": [
    "sns.distplot(df['total_word'])"
   ]
  },
  {
   "cell_type": "code",
   "execution_count": 11,
   "id": "aeb54c97",
   "metadata": {},
   "outputs": [
    {
     "name": "stdout",
     "output_type": "stream",
     "text": [
      "231.14594\n",
      "173.0\n"
     ]
    }
   ],
   "source": [
    "print(df['total_word'].mean())\n",
    "print(df['total_word'].median())"
   ]
  },
  {
   "cell_type": "code",
   "execution_count": 12,
   "id": "e9c7acf9",
   "metadata": {},
   "outputs": [
    {
     "data": {
      "text/plain": [
       "positive    25000\n",
       "negative    25000\n",
       "Name: sentiment, dtype: int64"
      ]
     },
     "execution_count": 12,
     "metadata": {},
     "output_type": "execute_result"
    }
   ],
   "source": [
    "df['sentiment'].value_counts()"
   ]
  },
  {
   "cell_type": "code",
   "execution_count": 13,
   "id": "9ddd1cfb",
   "metadata": {},
   "outputs": [],
   "source": [
    "df['label']  = df['sentiment'].apply(lambda x: 1 if x == 'positive' else 0)"
   ]
  },
  {
   "cell_type": "code",
   "execution_count": 14,
   "id": "3723b995",
   "metadata": {},
   "outputs": [
    {
     "data": {
      "text/html": [
       "<div>\n",
       "<style scoped>\n",
       "    .dataframe tbody tr th:only-of-type {\n",
       "        vertical-align: middle;\n",
       "    }\n",
       "\n",
       "    .dataframe tbody tr th {\n",
       "        vertical-align: top;\n",
       "    }\n",
       "\n",
       "    .dataframe thead th {\n",
       "        text-align: right;\n",
       "    }\n",
       "</style>\n",
       "<table border=\"1\" class=\"dataframe\">\n",
       "  <thead>\n",
       "    <tr style=\"text-align: right;\">\n",
       "      <th></th>\n",
       "      <th>total_char</th>\n",
       "      <th>total_word</th>\n",
       "      <th>label</th>\n",
       "    </tr>\n",
       "  </thead>\n",
       "  <tbody>\n",
       "    <tr>\n",
       "      <th>total_char</th>\n",
       "      <td>1.000000</td>\n",
       "      <td>0.996827</td>\n",
       "      <td>0.015526</td>\n",
       "    </tr>\n",
       "    <tr>\n",
       "      <th>total_word</th>\n",
       "      <td>0.996827</td>\n",
       "      <td>1.000000</td>\n",
       "      <td>0.009875</td>\n",
       "    </tr>\n",
       "    <tr>\n",
       "      <th>label</th>\n",
       "      <td>0.015526</td>\n",
       "      <td>0.009875</td>\n",
       "      <td>1.000000</td>\n",
       "    </tr>\n",
       "  </tbody>\n",
       "</table>\n",
       "</div>"
      ],
      "text/plain": [
       "            total_char  total_word     label\n",
       "total_char    1.000000    0.996827  0.015526\n",
       "total_word    0.996827    1.000000  0.009875\n",
       "label         0.015526    0.009875  1.000000"
      ]
     },
     "execution_count": 14,
     "metadata": {},
     "output_type": "execute_result"
    }
   ],
   "source": [
    "df[['total_char', 'total_word','label']].corr()"
   ]
  },
  {
   "cell_type": "code",
   "execution_count": 15,
   "id": "0eac471b",
   "metadata": {},
   "outputs": [],
   "source": [
    "q1 = np.quantile(df['total_word'], 0.25)\n",
    "q3 = np.quantile(df['total_word'], 0.75)\n",
    "iqr = q3-q1\n",
    "upper_limit = q3 + (1.5*iqr)"
   ]
  },
  {
   "cell_type": "code",
   "execution_count": 16,
   "id": "43b0dd2a",
   "metadata": {},
   "outputs": [],
   "source": [
    "index_to_drop = df.loc[df.total_word>=upper_limit].index"
   ]
  },
  {
   "cell_type": "code",
   "execution_count": 17,
   "id": "7c06606b",
   "metadata": {},
   "outputs": [],
   "source": [
    "df = df.drop(index_to_drop)"
   ]
  },
  {
   "cell_type": "code",
   "execution_count": 18,
   "id": "94562635",
   "metadata": {},
   "outputs": [
    {
     "name": "stderr",
     "output_type": "stream",
     "text": [
      "C:\\Users\\parzival\\AppData\\Local\\Temp\\ipykernel_7020\\2814619643.py:1: UserWarning: \n",
      "\n",
      "`distplot` is a deprecated function and will be removed in seaborn v0.14.0.\n",
      "\n",
      "Please adapt your code to use either `displot` (a figure-level function with\n",
      "similar flexibility) or `histplot` (an axes-level function for histograms).\n",
      "\n",
      "For a guide to updating your code to use the new functions, please see\n",
      "https://gist.github.com/mwaskom/de44147ed2974457ad6372750bbe5751\n",
      "\n",
      "  sns.distplot(df['total_char'])\n"
     ]
    },
    {
     "data": {
      "text/plain": [
       "<Axes: xlabel='total_char', ylabel='Density'>"
      ]
     },
     "execution_count": 18,
     "metadata": {},
     "output_type": "execute_result"
    },
    {
     "data": {
      "image/png": "[encoded data removed]",
      "text/plain": [
       "<Figure size 640x480 with 1 Axes>"
      ]
     },
     "metadata": {},
     "output_type": "display_data"
    }
   ],
   "source": [
    "sns.distplot(df['total_char'])"
   ]
  },
  {
   "cell_type": "markdown",
   "id": "4297fe11",
   "metadata": {},
   "source": [
    "Berapa jumlah kalimat dalam 1 buah review (definisikan 'kalimat' itu apa?)"
   ]
  },
  {
   "cell_type": "code",
   "execution_count": 19,
   "id": "56df89f3",
   "metadata": {},
   "outputs": [],
   "source": [
    "# Kalimat = paragraf splitted by '.'\n",
    "df['kalimat'] = df['review'].apply(lambda x: x.split(\".\"))\n",
    "df['kalimat_v2'] = df['review'].apply(lambda x: x.split(\". \"))"
   ]
  },
  {
   "cell_type": "code",
   "execution_count": 20,
   "id": "74901f7e",
   "metadata": {},
   "outputs": [],
   "source": [
    "df['total_kalimat'] = df['kalimat_v2'].apply(lambda x: len(x))"
   ]
  },
  {
   "cell_type": "code",
   "execution_count": 21,
   "id": "761d4489",
   "metadata": {},
   "outputs": [
    {
     "data": {
      "text/html": [
       "<div>\n",
       "<style scoped>\n",
       "    .dataframe tbody tr th:only-of-type {\n",
       "        vertical-align: middle;\n",
       "    }\n",
       "\n",
       "    .dataframe tbody tr th {\n",
       "        vertical-align: top;\n",
       "    }\n",
       "\n",
       "    .dataframe thead th {\n",
       "        text-align: right;\n",
       "    }\n",
       "</style>\n",
       "<table border=\"1\" class=\"dataframe\">\n",
       "  <thead>\n",
       "    <tr style=\"text-align: right;\">\n",
       "      <th></th>\n",
       "      <th>total_kalimat</th>\n",
       "      <th>label</th>\n",
       "    </tr>\n",
       "  </thead>\n",
       "  <tbody>\n",
       "    <tr>\n",
       "      <th>total_kalimat</th>\n",
       "      <td>1.000000</td>\n",
       "      <td>-0.031774</td>\n",
       "    </tr>\n",
       "    <tr>\n",
       "      <th>label</th>\n",
       "      <td>-0.031774</td>\n",
       "      <td>1.000000</td>\n",
       "    </tr>\n",
       "  </tbody>\n",
       "</table>\n",
       "</div>"
      ],
      "text/plain": [
       "               total_kalimat     label\n",
       "total_kalimat       1.000000 -0.031774\n",
       "label              -0.031774  1.000000"
      ]
     },
     "execution_count": 21,
     "metadata": {},
     "output_type": "execute_result"
    }
   ],
   "source": [
    "df[['total_kalimat','label']].corr()"
   ]
  },
  {
   "cell_type": "markdown",
   "id": "7693ee5b",
   "metadata": {},
   "source": [
    "\n",
    "Cari Berapa Jumlah Kata Positive/Negative dalam review tersebut"
   ]
  },
  {
   "cell_type": "code",
   "execution_count": 24,
   "id": "5d55a1a2",
   "metadata": {},
   "outputs": [],
   "source": [
    "positive_words = []\n",
    "with open('IMDBDataset/positive-words.txt', 'r') as f:\n",
    "    for x in f:\n",
    "        if \";\" in x:\n",
    "            continue\n",
    "        elif len(x.strip())>0:\n",
    "            positive_words.append(x.strip())"
   ]
  },
  {
   "cell_type": "code",
   "execution_count": 25,
   "id": "809cea61",
   "metadata": {},
   "outputs": [],
   "source": [
    "negative_words = []\n",
    "with open('IMDBDataset/negative-words.txt', 'r') as f:\n",
    "    for x in f:\n",
    "        if \";\" in x:\n",
    "            continue\n",
    "        elif len(x.strip())>0:\n",
    "            negative_words.append(x.strip())"
   ]
  },
  {
   "cell_type": "code",
   "execution_count": 26,
   "id": "06b0841d",
   "metadata": {},
   "outputs": [],
   "source": [
    "df['words'] = df['review'].apply(lambda x: x.split())"
   ]
  },
  {
   "cell_type": "code",
   "execution_count": 29,
   "id": "a8342f2e",
   "metadata": {},
   "outputs": [],
   "source": [
    "from tqdm import tqdm"
   ]
  },
  {
   "cell_type": "code",
   "execution_count": 28,
   "id": "ccba637d",
   "metadata": {
    "scrolled": true
   },
   "outputs": [
    {
     "name": "stdout",
     "output_type": "stream",
     "text": [
      "Collecting tqdm\n",
      "  Downloading tqdm-4.65.0-py3-none-any.whl (77 kB)\n",
      "     ---------------------------------------- 77.1/77.1 kB 1.1 MB/s eta 0:00:00\n",
      "Requirement already satisfied: colorama in d:\\systems\\miniconda3\\envs\\binar-env\\lib\\site-packages (from tqdm) (0.4.6)\n",
      "Installing collected packages: tqdm\n",
      "Successfully installed tqdm-4.65.0\n"
     ]
    }
   ],
   "source": [
    "!pip3 install tqdm"
   ]
  },
  {
   "cell_type": "code",
   "execution_count": 30,
   "id": "6bf71d9b",
   "metadata": {},
   "outputs": [],
   "source": [
    "unique_words = []\n",
    "for sentence in df['words']:\n",
    "    for word in sentence:\n",
    "        unique_words.append(word.lower())"
   ]
  },
  {
   "cell_type": "code",
   "execution_count": 31,
   "id": "0e850f4a",
   "metadata": {},
   "outputs": [],
   "source": [
    "unique_words = list(set(unique_words))"
   ]
  },
  {
   "cell_type": "code",
   "execution_count": 32,
   "id": "8279c6d1",
   "metadata": {},
   "outputs": [],
   "source": [
    "word_to_index = {}\n",
    "for idx,word in enumerate(unique_words):\n",
    "    word_to_index[word] = idx"
   ]
  },
  {
   "cell_type": "code",
   "execution_count": 33,
   "id": "86b3f5c9",
   "metadata": {},
   "outputs": [],
   "source": [
    "index_to_word = {}\n",
    "for word,idx in word_to_index.items():\n",
    "    index_to_word[idx] = word"
   ]
  },
  {
   "cell_type": "code",
   "execution_count": 34,
   "id": "6cd5b547",
   "metadata": {},
   "outputs": [],
   "source": [
    "new_sentiment_words = positive_words + negative_words"
   ]
  },
  {
   "cell_type": "code",
   "execution_count": 35,
   "id": "b3b42818",
   "metadata": {},
   "outputs": [
    {
     "data": {
      "text/plain": [
       "330191"
      ]
     },
     "execution_count": 35,
     "metadata": {},
     "output_type": "execute_result"
    }
   ],
   "source": [
    "len(word_to_index)"
   ]
  },
  {
   "cell_type": "code",
   "execution_count": 36,
   "id": "0c27e62f",
   "metadata": {},
   "outputs": [],
   "source": [
    "for word in new_sentiment_words:\n",
    "    try:\n",
    "        word_to_index[word]\n",
    "    except KeyError:\n",
    "        word_to_index[word] = len(word_to_index)"
   ]
  },
  {
   "cell_type": "code",
   "execution_count": 37,
   "id": "13cf36d2",
   "metadata": {},
   "outputs": [],
   "source": [
    "index_to_word = {}\n",
    "for word,idx in word_to_index.items():\n",
    "    index_to_word[idx] = word"
   ]
  },
  {
   "cell_type": "code",
   "execution_count": 38,
   "id": "e50131ae",
   "metadata": {
    "scrolled": false
   },
   "outputs": [
    {
     "name": "stderr",
     "output_type": "stream",
     "text": [
      "100%|██████████| 46277/46277 [00:00<00:00, 397123.78it/s]\n"
     ]
    }
   ],
   "source": [
    "for row in tqdm(df['words']):\n",
    "    jumlah_positive_words = 0\n",
    "    jumlah_negative_words = 0\n",
    "    for positive_word in positive_words:\n",
    "        if positive_word in row:\n",
    "            jumlah_positive_words = jumlah_positive_words + 1\n",
    "\n",
    "    for negative_word in negative_words:\n",
    "        if positive_word in row:\n",
    "            jumlah_negative_words = jumlah_negative_words + 1"
   ]
  },
  {
   "cell_type": "code",
   "execution_count": 39,
   "id": "54bda3a3",
   "metadata": {},
   "outputs": [
    {
     "name": "stderr",
     "output_type": "stream",
     "text": [
      "100%|██████████| 46277/46277 [00:08<00:00, 5486.89it/s]\n"
     ]
    }
   ],
   "source": [
    "new_df_words = []\n",
    "for sentence in tqdm(df['words']):\n",
    "    new_sentence = []\n",
    "    for word in sentence:\n",
    "        new_sentence.append(word_to_index.get(word.lower(), -1))\n",
    "    new_df_words.append(new_sentence)"
   ]
  },
  {
   "cell_type": "code",
   "execution_count": 40,
   "id": "27035927",
   "metadata": {},
   "outputs": [],
   "source": [
    "new_positive_words = [word_to_index.get(word.lower(), -1) for word in positive_words]\n",
    "new_negative_words = [word_to_index.get(word.lower(), -1) for word in negative_words]"
   ]
  },
  {
   "cell_type": "code",
   "execution_count": 43,
   "id": "5c68cab1",
   "metadata": {},
   "outputs": [
    {
     "name": "stderr",
     "output_type": "stream",
     "text": [
      "100%|██████████| 46277/46277 [00:00<00:00, 722968.93it/s]\n"
     ]
    }
   ],
   "source": [
    "jumlah_positive_words_column = []\n",
    "jumlah_negative_words_column = []\n",
    "for row in tqdm(new_df_words):\n",
    "    jumlah_positive_words = 0\n",
    "    jumlah_negative_words = 0\n",
    "    for positive_word in new_positive_words:\n",
    "        if positive_word in row:\n",
    "            jumlah_positive_words = jumlah_positive_words + 1\n",
    "\n",
    "    for negative_word in new_negative_words:\n",
    "        if negative_word in row:\n",
    "            jumlah_negative_words = jumlah_negative_words + 1\n",
    "    jumlah_positive_words_column.append(jumlah_positive_words)\n",
    "    jumlah_negative_words_column.append(jumlah_negative_words)"
   ]
  },
  {
   "cell_type": "code",
   "execution_count": 44,
   "id": "5c48f92d",
   "metadata": {},
   "outputs": [],
   "source": [
    "df['jumlah_positive_words'] = jumlah_positive_words_column\n",
    "df['jumlah_negative_words'] = jumlah_negative_words_column"
   ]
  },
  {
   "cell_type": "code",
   "execution_count": 45,
   "id": "b2c8d284",
   "metadata": {},
   "outputs": [
    {
     "data": {
      "text/html": [
       "<div>\n",
       "<style scoped>\n",
       "    .dataframe tbody tr th:only-of-type {\n",
       "        vertical-align: middle;\n",
       "    }\n",
       "\n",
       "    .dataframe tbody tr th {\n",
       "        vertical-align: top;\n",
       "    }\n",
       "\n",
       "    .dataframe thead th {\n",
       "        text-align: right;\n",
       "    }\n",
       "</style>\n",
       "<table border=\"1\" class=\"dataframe\">\n",
       "  <thead>\n",
       "    <tr style=\"text-align: right;\">\n",
       "      <th></th>\n",
       "      <th>jumlah_positive_words</th>\n",
       "      <th>jumlah_negative_words</th>\n",
       "      <th>label</th>\n",
       "    </tr>\n",
       "  </thead>\n",
       "  <tbody>\n",
       "    <tr>\n",
       "      <th>jumlah_positive_words</th>\n",
       "      <td>NaN</td>\n",
       "      <td>NaN</td>\n",
       "      <td>NaN</td>\n",
       "    </tr>\n",
       "    <tr>\n",
       "      <th>jumlah_negative_words</th>\n",
       "      <td>NaN</td>\n",
       "      <td>NaN</td>\n",
       "      <td>NaN</td>\n",
       "    </tr>\n",
       "    <tr>\n",
       "      <th>label</th>\n",
       "      <td>NaN</td>\n",
       "      <td>NaN</td>\n",
       "      <td>1.0</td>\n",
       "    </tr>\n",
       "  </tbody>\n",
       "</table>\n",
       "</div>"
      ],
      "text/plain": [
       "                       jumlah_positive_words  jumlah_negative_words  label\n",
       "jumlah_positive_words                    NaN                    NaN    NaN\n",
       "jumlah_negative_words                    NaN                    NaN    NaN\n",
       "label                                    NaN                    NaN    1.0"
      ]
     },
     "execution_count": 45,
     "metadata": {},
     "output_type": "execute_result"
    }
   ],
   "source": [
    "df[['jumlah_positive_words','jumlah_negative_words','label']].corr()"
   ]
  },
  {
   "cell_type": "code",
   "execution_count": 48,
   "id": "4a755bac",
   "metadata": {
    "scrolled": false
   },
   "outputs": [
    {
     "ename": "TypeError",
     "evalue": "scatterplot() takes from 0 to 1 positional arguments but 2 were given",
     "output_type": "error",
     "traceback": [
      "\u001b[1;31m---------------------------------------------------------------------------\u001b[0m",
      "\u001b[1;31mTypeError\u001b[0m                                 Traceback (most recent call last)",
      "Cell \u001b[1;32mIn[48], line 1\u001b[0m\n\u001b[1;32m----> 1\u001b[0m sns\u001b[39m.\u001b[39;49mscatterplot(df[\u001b[39m'\u001b[39;49m\u001b[39mlabel\u001b[39;49m\u001b[39m'\u001b[39;49m], df[\u001b[39m'\u001b[39;49m\u001b[39mjumlah_positive_words\u001b[39;49m\u001b[39m'\u001b[39;49m])\n",
      "\u001b[1;31mTypeError\u001b[0m: scatterplot() takes from 0 to 1 positional arguments but 2 were given"
     ]
    }
   ],
   "source": [
    "sns.scatterplot(df['label'], df['jumlah_positive_words'])"
   ]
  },
  {
   "cell_type": "code",
   "execution_count": 49,
   "id": "87368c68",
   "metadata": {
    "scrolled": false
   },
   "outputs": [
    {
     "ename": "TypeError",
     "evalue": "scatterplot() takes from 0 to 1 positional arguments but 2 were given",
     "output_type": "error",
     "traceback": [
      "\u001b[1;31m---------------------------------------------------------------------------\u001b[0m",
      "\u001b[1;31mTypeError\u001b[0m                                 Traceback (most recent call last)",
      "Cell \u001b[1;32mIn[49], line 1\u001b[0m\n\u001b[1;32m----> 1\u001b[0m sns\u001b[39m.\u001b[39;49mscatterplot(df[\u001b[39m'\u001b[39;49m\u001b[39mlabel\u001b[39;49m\u001b[39m'\u001b[39;49m], df[\u001b[39m'\u001b[39;49m\u001b[39mjumlah_negative_words\u001b[39;49m\u001b[39m'\u001b[39;49m])\n",
      "\u001b[1;31mTypeError\u001b[0m: scatterplot() takes from 0 to 1 positional arguments but 2 were given"
     ]
    }
   ],
   "source": [
    "sns.scatterplot(df['label'], df['jumlah_negative_words'])"
   ]
  },
  {
   "cell_type": "code",
   "execution_count": 50,
   "id": "f0139821",
   "metadata": {
    "scrolled": false
   },
   "outputs": [
    {
     "name": "stderr",
     "output_type": "stream",
     "text": [
      "C:\\Users\\parzival\\AppData\\Local\\Temp\\ipykernel_7020\\1362350383.py:1: UserWarning: \n",
      "\n",
      "`distplot` is a deprecated function and will be removed in seaborn v0.14.0.\n",
      "\n",
      "Please adapt your code to use either `displot` (a figure-level function with\n",
      "similar flexibility) or `histplot` (an axes-level function for histograms).\n",
      "\n",
      "For a guide to updating your code to use the new functions, please see\n",
      "https://gist.github.com/mwaskom/de44147ed2974457ad6372750bbe5751\n",
      "\n",
      "  sns.distplot(df['jumlah_negative_words'])\n",
      "d:\\Systems\\Miniconda3\\envs\\binar-env\\lib\\site-packages\\seaborn\\distributions.py:2511: UserWarning: Dataset has 0 variance; skipping density estimate. Pass `warn_singular=False` to disable this warning.\n",
      "  kdeplot(**{axis: a}, ax=ax, color=kde_color, **kde_kws)\n"
     ]
    },
    {
     "data": {
      "text/plain": [
       "<Axes: xlabel='jumlah_negative_words', ylabel='Density'>"
      ]
     },
     "execution_count": 50,
     "metadata": {},
     "output_type": "execute_result"
    },
    {
     "data": {
      "image/png": "[encoded data removed]",
      "text/plain": [
       "<Figure size 640x480 with 1 Axes>"
      ]
     },
     "metadata": {},
     "output_type": "display_data"
    }
   ],
   "source": [
    "sns.distplot(df['jumlah_negative_words'])"
   ]
  },
  {
   "cell_type": "code",
   "execution_count": 51,
   "id": "142cd2a2",
   "metadata": {
    "scrolled": false
   },
   "outputs": [
    {
     "name": "stderr",
     "output_type": "stream",
     "text": [
      "C:\\Users\\parzival\\AppData\\Local\\Temp\\ipykernel_7020\\4212646100.py:1: UserWarning: \n",
      "\n",
      "`distplot` is a deprecated function and will be removed in seaborn v0.14.0.\n",
      "\n",
      "Please adapt your code to use either `displot` (a figure-level function with\n",
      "similar flexibility) or `histplot` (an axes-level function for histograms).\n",
      "\n",
      "For a guide to updating your code to use the new functions, please see\n",
      "https://gist.github.com/mwaskom/de44147ed2974457ad6372750bbe5751\n",
      "\n",
      "  sns.distplot(df['jumlah_positive_words'])\n",
      "d:\\Systems\\Miniconda3\\envs\\binar-env\\lib\\site-packages\\seaborn\\distributions.py:2511: UserWarning: Dataset has 0 variance; skipping density estimate. Pass `warn_singular=False` to disable this warning.\n",
      "  kdeplot(**{axis: a}, ax=ax, color=kde_color, **kde_kws)\n"
     ]
    },
    {
     "data": {
      "text/plain": [
       "<Axes: xlabel='jumlah_positive_words', ylabel='Density'>"
      ]
     },
     "execution_count": 51,
     "metadata": {},
     "output_type": "execute_result"
    },
    {
     "data": {
      "image/png": "[encoded data removed]",
      "text/plain": [
       "<Figure size 640x480 with 1 Axes>"
      ]
     },
     "metadata": {},
     "output_type": "display_data"
    }
   ],
   "source": [
    "sns.distplot(df['jumlah_positive_words'])"
   ]
  },
  {
   "cell_type": "code",
   "execution_count": 52,
   "id": "019cb169",
   "metadata": {},
   "outputs": [
    {
     "data": {
      "text/plain": [
       "0.0"
      ]
     },
     "execution_count": 52,
     "metadata": {},
     "output_type": "execute_result"
    }
   ],
   "source": [
    "df['jumlah_positive_words'].median()"
   ]
  },
  {
   "cell_type": "markdown",
   "id": "b2963c94",
   "metadata": {},
   "source": [
    "kata negative apa yang paling sering digunakan(mungkin menjadi acuan dasar sensor kata pada review yang ada) (cari dictionary of kata negative)"
   ]
  },
  {
   "cell_type": "code",
   "execution_count": 53,
   "id": "ad16696b",
   "metadata": {},
   "outputs": [
    {
     "name": "stderr",
     "output_type": "stream",
     "text": [
      "0it [00:00, ?it/s]\n"
     ]
    }
   ],
   "source": [
    "calculate_kemunculan_negative_words = {}\n",
    "\n",
    "for new_negative_word in tqdm(new_negative_words):\n",
    "    for sentence in new_df_words:\n",
    "        if new_negative_word in sentence:\n",
    "            try:\n",
    "                calculate_kemunculan_negative_words[new_negative_word] += 1\n",
    "            except KeyError:\n",
    "                calculate_kemunculan_negative_words[new_negative_word] = 1"
   ]
  },
  {
   "cell_type": "code",
   "execution_count": null,
   "id": "f4408eed",
   "metadata": {},
   "outputs": [],
   "source": []
  },
  {
   "cell_type": "code",
   "execution_count": 54,
   "id": "80bfece6",
   "metadata": {},
   "outputs": [],
   "source": [
    "words = [word for sentence in new_df_words for word in sentence]# result: list of element dengan jumlah row = column * row awal."
   ]
  },
  {
   "cell_type": "code",
   "execution_count": null,
   "id": "000a3e4a",
   "metadata": {},
   "outputs": [],
   "source": [
    "# [[do_something_for_element(element) for element in list_2] for list_2 in list_1] # result: list of list dengan jumlah row yang sama dengan aslinya."
   ]
  },
  {
   "cell_type": "code",
   "execution_count": 55,
   "id": "3630ccf5",
   "metadata": {},
   "outputs": [],
   "source": [
    "from collections import Counter\n"
   ]
  },
  {
   "cell_type": "code",
   "execution_count": 56,
   "id": "fe2fa398",
   "metadata": {},
   "outputs": [
    {
     "data": {
      "text/plain": [
       "'gabriele,'"
      ]
     },
     "execution_count": 56,
     "metadata": {},
     "output_type": "execute_result"
    }
   ],
   "source": [
    "index_to_word[251849]"
   ]
  },
  {
   "cell_type": "code",
   "execution_count": 57,
   "id": "918628a5",
   "metadata": {},
   "outputs": [],
   "source": [
    "top_10_negative = sorted(calculate_kemunculan_negative_words.items(), key=lambda x:x[1], reverse=True)[:10]\n",
    "top_10_negative_two = sorted(Counter(words).items(), key=lambda x:x[1], reverse=True)"
   ]
  },
  {
   "cell_type": "code",
   "execution_count": 58,
   "id": "acb747b1",
   "metadata": {
    "scrolled": true
   },
   "outputs": [],
   "source": [
    "for x in top_10_negative:\n",
    "    print(index_to_word[x[0]])"
   ]
  },
  {
   "cell_type": "code",
   "execution_count": 59,
   "id": "e2e0713e",
   "metadata": {},
   "outputs": [],
   "source": [
    "counter = 0\n",
    "for word in top_10_negative_two:\n",
    "    if word[0] in new_negative_words:\n",
    "        print(index_to_word[word[0]])\n",
    "        counter += 1\n",
    "    if counter == 10:\n",
    "        break"
   ]
  },
  {
   "cell_type": "code",
   "execution_count": 60,
   "id": "5a77f54c",
   "metadata": {},
   "outputs": [],
   "source": [
    "top_10_negative_index = [x[0] for x in top_10_negative]"
   ]
  },
  {
   "cell_type": "code",
   "execution_count": 61,
   "id": "1e5535e3",
   "metadata": {},
   "outputs": [
    {
     "name": "stderr",
     "output_type": "stream",
     "text": [
      "100%|██████████| 46277/46277 [00:00<00:00, 961099.48it/s]\n"
     ]
    }
   ],
   "source": [
    "is_have_top_10_negative_words_columns = []\n",
    "\n",
    "for new_df_word in tqdm(new_df_words):\n",
    "    is_have = False\n",
    "    for negative_word in top_10_negative_index:\n",
    "        if negative_word in new_df_word:\n",
    "            is_have = True\n",
    "            break\n",
    "    is_have_top_10_negative_words_columns.append(is_have)\n",
    "        "
   ]
  },
  {
   "cell_type": "code",
   "execution_count": 62,
   "id": "5b6a2c1f",
   "metadata": {},
   "outputs": [],
   "source": [
    "df['is_have_top_10_negative_words'] = is_have_top_10_negative_words_columns"
   ]
  },
  {
   "cell_type": "code",
   "execution_count": 63,
   "id": "88d4918d",
   "metadata": {},
   "outputs": [
    {
     "data": {
      "text/html": [
       "<div>\n",
       "<style scoped>\n",
       "    .dataframe tbody tr th:only-of-type {\n",
       "        vertical-align: middle;\n",
       "    }\n",
       "\n",
       "    .dataframe tbody tr th {\n",
       "        vertical-align: top;\n",
       "    }\n",
       "\n",
       "    .dataframe thead th {\n",
       "        text-align: right;\n",
       "    }\n",
       "</style>\n",
       "<table border=\"1\" class=\"dataframe\">\n",
       "  <thead>\n",
       "    <tr style=\"text-align: right;\">\n",
       "      <th></th>\n",
       "      <th>is_have_top_10_negative_words</th>\n",
       "      <th>label</th>\n",
       "    </tr>\n",
       "  </thead>\n",
       "  <tbody>\n",
       "    <tr>\n",
       "      <th>is_have_top_10_negative_words</th>\n",
       "      <td>NaN</td>\n",
       "      <td>NaN</td>\n",
       "    </tr>\n",
       "    <tr>\n",
       "      <th>label</th>\n",
       "      <td>NaN</td>\n",
       "      <td>1.0</td>\n",
       "    </tr>\n",
       "  </tbody>\n",
       "</table>\n",
       "</div>"
      ],
      "text/plain": [
       "                               is_have_top_10_negative_words  label\n",
       "is_have_top_10_negative_words                            NaN    NaN\n",
       "label                                                    NaN    1.0"
      ]
     },
     "execution_count": 63,
     "metadata": {},
     "output_type": "execute_result"
    }
   ],
   "source": [
    "df[['is_have_top_10_negative_words', 'label']].corr()"
   ]
  },
  {
   "cell_type": "markdown",
   "id": "a4df2ba3",
   "metadata": {},
   "source": [
    "Jumlah Sentiment Terbanyak? (check label)"
   ]
  },
  {
   "cell_type": "code",
   "execution_count": 64,
   "id": "672495a4",
   "metadata": {},
   "outputs": [
    {
     "data": {
      "text/plain": [
       "Counter({1: 22994, 0: 23283})"
      ]
     },
     "execution_count": 64,
     "metadata": {},
     "output_type": "execute_result"
    }
   ],
   "source": [
    "Counter(df['label'])"
   ]
  },
  {
   "cell_type": "markdown",
   "id": "0d4ce849",
   "metadata": {},
   "source": [
    "Untuk emoji bisa mempengaruhi sentiment? (harus tau emoji apa yang di mention di text ini)"
   ]
  },
  {
   "cell_type": "code",
   "execution_count": 65,
   "id": "6ddd5a0e",
   "metadata": {},
   "outputs": [
    {
     "name": "stdout",
     "output_type": "stream",
     "text": [
      "Collecting emot\n",
      "  Downloading emot-3.1-py3-none-any.whl (61 kB)\n",
      "     ---------------------------------------- 61.5/61.5 kB 1.1 MB/s eta 0:00:00\n",
      "Installing collected packages: emot\n",
      "Successfully installed emot-3.1\n"
     ]
    }
   ],
   "source": [
    "!pip install emot"
   ]
  },
  {
   "cell_type": "code",
   "execution_count": 66,
   "id": "9617c9d7",
   "metadata": {},
   "outputs": [],
   "source": [
    "import emot"
   ]
  },
  {
   "cell_type": "code",
   "execution_count": 67,
   "id": "bc7ec2d5",
   "metadata": {},
   "outputs": [
    {
     "name": "stderr",
     "output_type": "stream",
     "text": [
      "100%|██████████| 46277/46277 [00:12<00:00, 3669.05it/s]\n"
     ]
    }
   ],
   "source": [
    "is_have_emoji = []\n",
    "for review in tqdm(df['review']):\n",
    "    is_have = False\n",
    "    for emoji in emot.emo_unicode.EMOTICONS_EMO.keys():\n",
    "        if emoji in review:\n",
    "            is_have = True\n",
    "            break\n",
    "    is_have_emoji.append(is_have)"
   ]
  },
  {
   "cell_type": "code",
   "execution_count": 68,
   "id": "a12d87ce",
   "metadata": {},
   "outputs": [],
   "source": [
    "df['is_have_emoji'] = is_have_emoji"
   ]
  },
  {
   "cell_type": "code",
   "execution_count": 69,
   "id": "4b595eee",
   "metadata": {},
   "outputs": [
    {
     "data": {
      "text/html": [
       "<div>\n",
       "<style scoped>\n",
       "    .dataframe tbody tr th:only-of-type {\n",
       "        vertical-align: middle;\n",
       "    }\n",
       "\n",
       "    .dataframe tbody tr th {\n",
       "        vertical-align: top;\n",
       "    }\n",
       "\n",
       "    .dataframe thead th {\n",
       "        text-align: right;\n",
       "    }\n",
       "</style>\n",
       "<table border=\"1\" class=\"dataframe\">\n",
       "  <thead>\n",
       "    <tr style=\"text-align: right;\">\n",
       "      <th></th>\n",
       "      <th>is_have_emoji</th>\n",
       "      <th>label</th>\n",
       "    </tr>\n",
       "  </thead>\n",
       "  <tbody>\n",
       "    <tr>\n",
       "      <th>is_have_emoji</th>\n",
       "      <td>1.000000</td>\n",
       "      <td>0.004952</td>\n",
       "    </tr>\n",
       "    <tr>\n",
       "      <th>label</th>\n",
       "      <td>0.004952</td>\n",
       "      <td>1.000000</td>\n",
       "    </tr>\n",
       "  </tbody>\n",
       "</table>\n",
       "</div>"
      ],
      "text/plain": [
       "               is_have_emoji     label\n",
       "is_have_emoji       1.000000  0.004952\n",
       "label               0.004952  1.000000"
      ]
     },
     "execution_count": 69,
     "metadata": {},
     "output_type": "execute_result"
    }
   ],
   "source": [
    "df[['is_have_emoji', 'label']].corr()"
   ]
  },
  {
   "cell_type": "code",
   "execution_count": 70,
   "id": "9e10a81e",
   "metadata": {},
   "outputs": [
    {
     "data": {
      "text/plain": [
       "Counter({False: 44299, True: 1978})"
      ]
     },
     "execution_count": 70,
     "metadata": {},
     "output_type": "execute_result"
    }
   ],
   "source": [
    "Counter(df['is_have_emoji'])"
   ]
  },
  {
   "cell_type": "markdown",
   "id": "fb3e5452",
   "metadata": {},
   "source": [
    "kalau tanda baca nya ! bisa jadi negative --> (contoh: STUPID MOVIE!!!! (bisa jadi negative))"
   ]
  },
  {
   "cell_type": "code",
   "execution_count": 71,
   "id": "7ef00713",
   "metadata": {},
   "outputs": [],
   "source": [
    "# import re"
   ]
  },
  {
   "cell_type": "code",
   "execution_count": 74,
   "id": "106d1eef",
   "metadata": {},
   "outputs": [],
   "source": [
    "import re\n",
    "is_any_tanda_seru = []\n",
    "for sentence in df['review']:\n",
    "    tmp = re.findall(\"([!]){2,}\", sentence)\n",
    "    if len(tmp) > 0:\n",
    "        is_any_tanda_seru.append(True)\n",
    "    else:\n",
    "        is_any_tanda_seru.append(False)"
   ]
  },
  {
   "cell_type": "code",
   "execution_count": 73,
   "id": "4f96c08d",
   "metadata": {},
   "outputs": [
    {
     "ename": "ValueError",
     "evalue": "Length of values (0) does not match length of index (46277)",
     "output_type": "error",
     "traceback": [
      "\u001b[1;31m---------------------------------------------------------------------------\u001b[0m",
      "\u001b[1;31mValueError\u001b[0m                                Traceback (most recent call last)",
      "Cell \u001b[1;32mIn[73], line 1\u001b[0m\n\u001b[1;32m----> 1\u001b[0m df[\u001b[39m'\u001b[39;49m\u001b[39mis_any_tanda_seru\u001b[39;49m\u001b[39m'\u001b[39;49m] \u001b[39m=\u001b[39m is_any_tanda_seru\n",
      "File \u001b[1;32md:\\Systems\\Miniconda3\\envs\\binar-env\\lib\\site-packages\\pandas\\core\\frame.py:3980\u001b[0m, in \u001b[0;36mDataFrame.__setitem__\u001b[1;34m(self, key, value)\u001b[0m\n\u001b[0;32m   3977\u001b[0m     \u001b[39mself\u001b[39m\u001b[39m.\u001b[39m_setitem_array([key], value)\n\u001b[0;32m   3978\u001b[0m \u001b[39melse\u001b[39;00m:\n\u001b[0;32m   3979\u001b[0m     \u001b[39m# set column\u001b[39;00m\n\u001b[1;32m-> 3980\u001b[0m     \u001b[39mself\u001b[39;49m\u001b[39m.\u001b[39;49m_set_item(key, value)\n",
      "File \u001b[1;32md:\\Systems\\Miniconda3\\envs\\binar-env\\lib\\site-packages\\pandas\\core\\frame.py:4174\u001b[0m, in \u001b[0;36mDataFrame._set_item\u001b[1;34m(self, key, value)\u001b[0m\n\u001b[0;32m   4164\u001b[0m \u001b[39mdef\u001b[39;00m \u001b[39m_set_item\u001b[39m(\u001b[39mself\u001b[39m, key, value) \u001b[39m-\u001b[39m\u001b[39m>\u001b[39m \u001b[39mNone\u001b[39;00m:\n\u001b[0;32m   4165\u001b[0m \u001b[39m    \u001b[39m\u001b[39m\"\"\"\u001b[39;00m\n\u001b[0;32m   4166\u001b[0m \u001b[39m    Add series to DataFrame in specified column.\u001b[39;00m\n\u001b[0;32m   4167\u001b[0m \n\u001b[1;32m   (...)\u001b[0m\n\u001b[0;32m   4172\u001b[0m \u001b[39m    ensure homogeneity.\u001b[39;00m\n\u001b[0;32m   4173\u001b[0m \u001b[39m    \"\"\"\u001b[39;00m\n\u001b[1;32m-> 4174\u001b[0m     value \u001b[39m=\u001b[39m \u001b[39mself\u001b[39;49m\u001b[39m.\u001b[39;49m_sanitize_column(value)\n\u001b[0;32m   4176\u001b[0m     \u001b[39mif\u001b[39;00m (\n\u001b[0;32m   4177\u001b[0m         key \u001b[39min\u001b[39;00m \u001b[39mself\u001b[39m\u001b[39m.\u001b[39mcolumns\n\u001b[0;32m   4178\u001b[0m         \u001b[39mand\u001b[39;00m value\u001b[39m.\u001b[39mndim \u001b[39m==\u001b[39m \u001b[39m1\u001b[39m\n\u001b[0;32m   4179\u001b[0m         \u001b[39mand\u001b[39;00m \u001b[39mnot\u001b[39;00m is_extension_array_dtype(value)\n\u001b[0;32m   4180\u001b[0m     ):\n\u001b[0;32m   4181\u001b[0m         \u001b[39m# broadcast across multiple columns if necessary\u001b[39;00m\n\u001b[0;32m   4182\u001b[0m         \u001b[39mif\u001b[39;00m \u001b[39mnot\u001b[39;00m \u001b[39mself\u001b[39m\u001b[39m.\u001b[39mcolumns\u001b[39m.\u001b[39mis_unique \u001b[39mor\u001b[39;00m \u001b[39misinstance\u001b[39m(\u001b[39mself\u001b[39m\u001b[39m.\u001b[39mcolumns, MultiIndex):\n",
      "File \u001b[1;32md:\\Systems\\Miniconda3\\envs\\binar-env\\lib\\site-packages\\pandas\\core\\frame.py:4915\u001b[0m, in \u001b[0;36mDataFrame._sanitize_column\u001b[1;34m(self, value)\u001b[0m\n\u001b[0;32m   4912\u001b[0m     \u001b[39mreturn\u001b[39;00m _reindex_for_setitem(Series(value), \u001b[39mself\u001b[39m\u001b[39m.\u001b[39mindex)\n\u001b[0;32m   4914\u001b[0m \u001b[39mif\u001b[39;00m is_list_like(value):\n\u001b[1;32m-> 4915\u001b[0m     com\u001b[39m.\u001b[39;49mrequire_length_match(value, \u001b[39mself\u001b[39;49m\u001b[39m.\u001b[39;49mindex)\n\u001b[0;32m   4916\u001b[0m \u001b[39mreturn\u001b[39;00m sanitize_array(value, \u001b[39mself\u001b[39m\u001b[39m.\u001b[39mindex, copy\u001b[39m=\u001b[39m\u001b[39mTrue\u001b[39;00m, allow_2d\u001b[39m=\u001b[39m\u001b[39mTrue\u001b[39;00m)\n",
      "File \u001b[1;32md:\\Systems\\Miniconda3\\envs\\binar-env\\lib\\site-packages\\pandas\\core\\common.py:571\u001b[0m, in \u001b[0;36mrequire_length_match\u001b[1;34m(data, index)\u001b[0m\n\u001b[0;32m    567\u001b[0m \u001b[39m\u001b[39m\u001b[39m\"\"\"\u001b[39;00m\n\u001b[0;32m    568\u001b[0m \u001b[39mCheck the length of data matches the length of the index.\u001b[39;00m\n\u001b[0;32m    569\u001b[0m \u001b[39m\"\"\"\u001b[39;00m\n\u001b[0;32m    570\u001b[0m \u001b[39mif\u001b[39;00m \u001b[39mlen\u001b[39m(data) \u001b[39m!=\u001b[39m \u001b[39mlen\u001b[39m(index):\n\u001b[1;32m--> 571\u001b[0m     \u001b[39mraise\u001b[39;00m \u001b[39mValueError\u001b[39;00m(\n\u001b[0;32m    572\u001b[0m         \u001b[39m\"\u001b[39m\u001b[39mLength of values \u001b[39m\u001b[39m\"\u001b[39m\n\u001b[0;32m    573\u001b[0m         \u001b[39mf\u001b[39m\u001b[39m\"\u001b[39m\u001b[39m(\u001b[39m\u001b[39m{\u001b[39;00m\u001b[39mlen\u001b[39m(data)\u001b[39m}\u001b[39;00m\u001b[39m) \u001b[39m\u001b[39m\"\u001b[39m\n\u001b[0;32m    574\u001b[0m         \u001b[39m\"\u001b[39m\u001b[39mdoes not match length of index \u001b[39m\u001b[39m\"\u001b[39m\n\u001b[0;32m    575\u001b[0m         \u001b[39mf\u001b[39m\u001b[39m\"\u001b[39m\u001b[39m(\u001b[39m\u001b[39m{\u001b[39;00m\u001b[39mlen\u001b[39m(index)\u001b[39m}\u001b[39;00m\u001b[39m)\u001b[39m\u001b[39m\"\u001b[39m\n\u001b[0;32m    576\u001b[0m     )\n",
      "\u001b[1;31mValueError\u001b[0m: Length of values (0) does not match length of index (46277)"
     ]
    }
   ],
   "source": [
    "df['is_any_tanda_seru'] = is_any_tanda_seru"
   ]
  },
  {
   "cell_type": "code",
   "execution_count": 75,
   "id": "53289aa9",
   "metadata": {},
   "outputs": [
    {
     "ename": "KeyError",
     "evalue": "\"['is_any_tanda_seru'] not in index\"",
     "output_type": "error",
     "traceback": [
      "\u001b[1;31m---------------------------------------------------------------------------\u001b[0m",
      "\u001b[1;31mKeyError\u001b[0m                                  Traceback (most recent call last)",
      "Cell \u001b[1;32mIn[75], line 1\u001b[0m\n\u001b[1;32m----> 1\u001b[0m df[[\u001b[39m'\u001b[39;49m\u001b[39mis_any_tanda_seru\u001b[39;49m\u001b[39m'\u001b[39;49m, \u001b[39m'\u001b[39;49m\u001b[39mlabel\u001b[39;49m\u001b[39m'\u001b[39;49m]]\u001b[39m.\u001b[39mcorr()\n",
      "File \u001b[1;32md:\\Systems\\Miniconda3\\envs\\binar-env\\lib\\site-packages\\pandas\\core\\frame.py:3813\u001b[0m, in \u001b[0;36mDataFrame.__getitem__\u001b[1;34m(self, key)\u001b[0m\n\u001b[0;32m   3811\u001b[0m     \u001b[39mif\u001b[39;00m is_iterator(key):\n\u001b[0;32m   3812\u001b[0m         key \u001b[39m=\u001b[39m \u001b[39mlist\u001b[39m(key)\n\u001b[1;32m-> 3813\u001b[0m     indexer \u001b[39m=\u001b[39m \u001b[39mself\u001b[39;49m\u001b[39m.\u001b[39;49mcolumns\u001b[39m.\u001b[39;49m_get_indexer_strict(key, \u001b[39m\"\u001b[39;49m\u001b[39mcolumns\u001b[39;49m\u001b[39m\"\u001b[39;49m)[\u001b[39m1\u001b[39m]\n\u001b[0;32m   3815\u001b[0m \u001b[39m# take() does not accept boolean indexers\u001b[39;00m\n\u001b[0;32m   3816\u001b[0m \u001b[39mif\u001b[39;00m \u001b[39mgetattr\u001b[39m(indexer, \u001b[39m\"\u001b[39m\u001b[39mdtype\u001b[39m\u001b[39m\"\u001b[39m, \u001b[39mNone\u001b[39;00m) \u001b[39m==\u001b[39m \u001b[39mbool\u001b[39m:\n",
      "File \u001b[1;32md:\\Systems\\Miniconda3\\envs\\binar-env\\lib\\site-packages\\pandas\\core\\indexes\\base.py:6070\u001b[0m, in \u001b[0;36mIndex._get_indexer_strict\u001b[1;34m(self, key, axis_name)\u001b[0m\n\u001b[0;32m   6067\u001b[0m \u001b[39melse\u001b[39;00m:\n\u001b[0;32m   6068\u001b[0m     keyarr, indexer, new_indexer \u001b[39m=\u001b[39m \u001b[39mself\u001b[39m\u001b[39m.\u001b[39m_reindex_non_unique(keyarr)\n\u001b[1;32m-> 6070\u001b[0m \u001b[39mself\u001b[39;49m\u001b[39m.\u001b[39;49m_raise_if_missing(keyarr, indexer, axis_name)\n\u001b[0;32m   6072\u001b[0m keyarr \u001b[39m=\u001b[39m \u001b[39mself\u001b[39m\u001b[39m.\u001b[39mtake(indexer)\n\u001b[0;32m   6073\u001b[0m \u001b[39mif\u001b[39;00m \u001b[39misinstance\u001b[39m(key, Index):\n\u001b[0;32m   6074\u001b[0m     \u001b[39m# GH 42790 - Preserve name from an Index\u001b[39;00m\n",
      "File \u001b[1;32md:\\Systems\\Miniconda3\\envs\\binar-env\\lib\\site-packages\\pandas\\core\\indexes\\base.py:6133\u001b[0m, in \u001b[0;36mIndex._raise_if_missing\u001b[1;34m(self, key, indexer, axis_name)\u001b[0m\n\u001b[0;32m   6130\u001b[0m     \u001b[39mraise\u001b[39;00m \u001b[39mKeyError\u001b[39;00m(\u001b[39mf\u001b[39m\u001b[39m\"\u001b[39m\u001b[39mNone of [\u001b[39m\u001b[39m{\u001b[39;00mkey\u001b[39m}\u001b[39;00m\u001b[39m] are in the [\u001b[39m\u001b[39m{\u001b[39;00maxis_name\u001b[39m}\u001b[39;00m\u001b[39m]\u001b[39m\u001b[39m\"\u001b[39m)\n\u001b[0;32m   6132\u001b[0m not_found \u001b[39m=\u001b[39m \u001b[39mlist\u001b[39m(ensure_index(key)[missing_mask\u001b[39m.\u001b[39mnonzero()[\u001b[39m0\u001b[39m]]\u001b[39m.\u001b[39munique())\n\u001b[1;32m-> 6133\u001b[0m \u001b[39mraise\u001b[39;00m \u001b[39mKeyError\u001b[39;00m(\u001b[39mf\u001b[39m\u001b[39m\"\u001b[39m\u001b[39m{\u001b[39;00mnot_found\u001b[39m}\u001b[39;00m\u001b[39m not in index\u001b[39m\u001b[39m\"\u001b[39m)\n",
      "\u001b[1;31mKeyError\u001b[0m: \"['is_any_tanda_seru'] not in index\""
     ]
    }
   ],
   "source": [
    "df[['is_any_tanda_seru', 'label']].corr()"
   ]
  },
  {
   "cell_type": "code",
   "execution_count": 76,
   "id": "42d17ede",
   "metadata": {},
   "outputs": [
    {
     "data": {
      "text/plain": [
       "'A wonderful little production. <br /><br />The filming technique is very unassuming- very old-time-BBC fashion and gives a comforting, and sometimes discomforting, sense of realism to the entire piece. <br /><br />The actors are extremely well chosen- Michael Sheen not only \"has got all the polari\" but he has all the voices down pat too! You can truly see the seamless editing guided by the references to Williams\\' diary entries, not only is it well worth the watching but it is a terrificly written and performed piece. A masterful production about one of the great master\\'s of comedy and his life. <br /><br />The realism really comes home with the little things: the fantasy of the guard which, rather than use the traditional \\'dream\\' techniques remains solid then disappears. It plays on our knowledge and our senses, particularly with the scenes concerning Orton and Halliwell and the sets (particularly of their flat with Halliwell\\'s murals decorating every surface) are terribly well done.'"
      ]
     },
     "execution_count": 76,
     "metadata": {},
     "output_type": "execute_result"
    }
   ],
   "source": [
    "df['review'][1]"
   ]
  },
  {
   "cell_type": "markdown",
   "id": "a8cb41c7",
   "metadata": {},
   "source": [
    "Kalau ada kalimat sarkasme bisa dideteksi sebagai positive atau negative -> (harus tau apa itu kalimat sarkasme)"
   ]
  },
  {
   "cell_type": "markdown",
   "id": "124aad23",
   "metadata": {},
   "source": [
    "kalau ada certain words misal stupid, dumb, sucks dll bisa dikategorikan sebagai Negative Toxic, yaitung 1 tingkat diatas negative biasa -> (level of harshness of some words)"
   ]
  }
 ],
 "metadata": {
  "kernelspec": {
   "display_name": "Python 3 (ipykernel)",
   "language": "python",
   "name": "python3"
  },
  "language_info": {
   "codemirror_mode": {
    "name": "ipython",
    "version": 3
   },
   "file_extension": ".py",
   "mimetype": "text/x-python",
   "name": "python",
   "nbconvert_exporter": "python",
   "pygments_lexer": "ipython3",
   "version": "3.10.9"
  }
 },
 "nbformat": 4,
 "nbformat_minor": 5
}
