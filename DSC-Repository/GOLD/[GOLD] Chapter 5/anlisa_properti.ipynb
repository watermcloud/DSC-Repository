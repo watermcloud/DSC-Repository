{
  "cells": [
    {
      "cell_type": "markdown",
      "metadata": {
        "id": "OzxR4et1ZYnl"
      },
      "source": [
        "## Business Understanding \n",
        "\n",
        "### Prediksi harga properti di Bandung menggunakan Machine Learning\n",
        "\n",
        "prediksi harga properti berdasarkan jumlah kamar, luas tanah, luas bangunan"
      ]
    },
    {
      "cell_type": "code",
      "execution_count": null,
      "metadata": {
        "colab": {
          "base_uri": "https://localhost:8080/"
        },
        "id": "nGF4FZN2s06p",
        "outputId": "51fea122-d512-4c63-a427-3ec0eeba4640"
      },
      "outputs": [
        {
          "name": "stdout",
          "output_type": "stream",
          "text": [
            "Python 3.8.10\n"
          ]
        }
      ],
      "source": [
        "!python --version"
      ]
    },
    {
      "cell_type": "markdown",
      "metadata": {
        "id": "U3sPHl_8abja"
      },
      "source": [
        "#### Import library"
      ]
    },
    {
      "cell_type": "code",
      "execution_count": null,
      "metadata": {
        "id": "7lxe8Fp-ZUlJ"
      },
      "outputs": [],
      "source": [
        "import warnings\n",
        "\n",
        "import pandas as pd\n",
        "import matplotlib.pyplot as plt\n",
        "import numpy as np\n",
        "import seaborn as sns\n",
        "from sklearn.linear_model import LinearRegression\n",
        "from sklearn.model_selection import train_test_split"
      ]
    },
    {
      "cell_type": "markdown",
      "metadata": {
        "id": "Y0TGFz0jaSN3"
      },
      "source": [
        "### Read Data"
      ]
    },
    {
      "cell_type": "code",
      "execution_count": null,
      "metadata": {
        "id": "KWhqL5OMaPPs"
      },
      "outputs": [],
      "source": [
        "# # membaca data excel\n",
        "# read_file = pd.read_excel (\"properti.xlsx\")\n",
        "  \n",
        "# # simpan objek datafram ke csv file \n",
        "# read_file.to_csv (\"properti.csv\", \n",
        "#                   index = None,\n",
        "#                   header=True)"
      ]
    },
    {
      "cell_type": "code",
      "execution_count": null,
      "metadata": {
        "colab": {
          "base_uri": "https://localhost:8080/",
          "height": 424
        },
        "id": "R-LcVasnpG7O",
        "outputId": "81241aad-3e80-47bc-aa86-455e2975a0f6"
      },
      "outputs": [
        {
          "data": {
            "text/html": [
              "\n",
              "  <div id=\"df-5b2aec0c-606e-4fad-b027-981c21e4680a\">\n",
              "    <div class=\"colab-df-container\">\n",
              "      <div>\n",
              "<style scoped>\n",
              "    .dataframe tbody tr th:only-of-type {\n",
              "        vertical-align: middle;\n",
              "    }\n",
              "\n",
              "    .dataframe tbody tr th {\n",
              "        vertical-align: top;\n",
              "    }\n",
              "\n",
              "    .dataframe thead th {\n",
              "        text-align: right;\n",
              "    }\n",
              "</style>\n",
              "<table border=\"1\" class=\"dataframe\">\n",
              "  <thead>\n",
              "    <tr style=\"text-align: right;\">\n",
              "      <th></th>\n",
              "      <th>judul</th>\n",
              "      <th>alamat</th>\n",
              "      <th>deskripsi</th>\n",
              "      <th>kamar</th>\n",
              "      <th>bangunan</th>\n",
              "      <th>lahan</th>\n",
              "      <th>harga</th>\n",
              "    </tr>\n",
              "  </thead>\n",
              "  <tbody>\n",
              "    <tr>\n",
              "      <th>0</th>\n",
              "      <td>Promo Rumah Mewah Akhir Tahun</td>\n",
              "      <td>Antapani, Bandung</td>\n",
              "      <td>Promo akhir tahun !! Hanya 500 jt-an + FREE SH...</td>\n",
              "      <td>3</td>\n",
              "      <td>75</td>\n",
              "      <td>84</td>\n",
              "      <td>590000000</td>\n",
              "    </tr>\n",
              "    <tr>\n",
              "      <th>1</th>\n",
              "      <td>Rumah modern Readystock di bandung raya cimahi...</td>\n",
              "      <td>Bandung Wetan, Bandung</td>\n",
              "      <td>Rumah Baru modern 2 LT di Sayap Kota Cimahi de...</td>\n",
              "      <td>3</td>\n",
              "      <td>70</td>\n",
              "      <td>71</td>\n",
              "      <td>700000000</td>\n",
              "    </tr>\n",
              "    <tr>\n",
              "      <th>2</th>\n",
              "      <td>Dijual rumah 300 jutaan jalan lebar dekat Ikea...</td>\n",
              "      <td>Padalarang, Bandung</td>\n",
              "      <td>*Jadilah konsumen CERDAS !* *Tips singkat sebe...</td>\n",
              "      <td>2</td>\n",
              "      <td>36</td>\n",
              "      <td>72</td>\n",
              "      <td>386000000</td>\n",
              "    </tr>\n",
              "    <tr>\n",
              "      <th>3</th>\n",
              "      <td>Dijual PROMO rumah 2 lantai di sayap Setiabudi...</td>\n",
              "      <td>Bandung</td>\n",
              "      <td>Copy writing nasc  NUANSA ALAM SETIABUDHI CLOV...</td>\n",
              "      <td>2</td>\n",
              "      <td>60</td>\n",
              "      <td>60</td>\n",
              "      <td>499000000</td>\n",
              "    </tr>\n",
              "    <tr>\n",
              "      <th>4</th>\n",
              "      <td>Rumah Strategis Siap Huni di dekat Tol Cileuny...</td>\n",
              "      <td>Cibiru Hilir, Bandung</td>\n",
              "      <td>Hunian Nyaman di Cibiru, Cileunyi, Bandung Tim...</td>\n",
              "      <td>2</td>\n",
              "      <td>90</td>\n",
              "      <td>114</td>\n",
              "      <td>397500000</td>\n",
              "    </tr>\n",
              "    <tr>\n",
              "      <th>...</th>\n",
              "      <td>...</td>\n",
              "      <td>...</td>\n",
              "      <td>...</td>\n",
              "      <td>...</td>\n",
              "      <td>...</td>\n",
              "      <td>...</td>\n",
              "      <td>...</td>\n",
              "    </tr>\n",
              "    <tr>\n",
              "      <th>1465</th>\n",
              "      <td>Rumah Lama Turangga</td>\n",
              "      <td>Turangga, Bandung</td>\n",
              "      <td>Di jual rumah lama turangga\\nLuas tanah : 240 ...</td>\n",
              "      <td>6</td>\n",
              "      <td>280</td>\n",
              "      <td>240</td>\n",
              "      <td>2800000000</td>\n",
              "    </tr>\n",
              "    <tr>\n",
              "      <th>1466</th>\n",
              "      <td>Rumah di nirwana residence bandung siap huni t...</td>\n",
              "      <td>Bandung</td>\n",
              "      <td>Rumah bagus siap huni dan terawat, dekat denga...</td>\n",
              "      <td>3</td>\n",
              "      <td>180</td>\n",
              "      <td>90</td>\n",
              "      <td>1000000000</td>\n",
              "    </tr>\n",
              "    <tr>\n",
              "      <th>1467</th>\n",
              "      <td>Rumah Minimalis Siap Huni Sangat Murah Di Pinu...</td>\n",
              "      <td>Soekarno Hatta, Bandung</td>\n",
              "      <td>Turun HargaHarga Awal 675 sekarang jadi 572 ne...</td>\n",
              "      <td>2</td>\n",
              "      <td>65</td>\n",
              "      <td>72</td>\n",
              "      <td>572000000</td>\n",
              "    </tr>\n",
              "    <tr>\n",
              "      <th>1468</th>\n",
              "      <td>Dijual Cepat Rumah Strategis di Komplek Batura...</td>\n",
              "      <td>Rancasari, Bandung</td>\n",
              "      <td>Dijual Cepat Rumah di Komplek Batu Raden dekat...</td>\n",
              "      <td>6</td>\n",
              "      <td>160</td>\n",
              "      <td>318</td>\n",
              "      <td>2300000000</td>\n",
              "    </tr>\n",
              "    <tr>\n",
              "      <th>1469</th>\n",
              "      <td>Rumah turangga bagus siap huni turun harga dra...</td>\n",
              "      <td>Turangga, Bandung</td>\n",
              "      <td>Turun Harga drastis CAKEP BOSQUE.. Area Turang...</td>\n",
              "      <td>5</td>\n",
              "      <td>240</td>\n",
              "      <td>188</td>\n",
              "      <td>2400000000</td>\n",
              "    </tr>\n",
              "  </tbody>\n",
              "</table>\n",
              "<p>1470 rows × 7 columns</p>\n",
              "</div>\n",
              "      <button class=\"colab-df-convert\" onclick=\"convertToInteractive('df-5b2aec0c-606e-4fad-b027-981c21e4680a')\"\n",
              "              title=\"Convert this dataframe to an interactive table.\"\n",
              "              style=\"display:none;\">\n",
              "        \n",
              "  <svg xmlns=\"http://www.w3.org/2000/svg\" height=\"24px\"viewBox=\"0 0 24 24\"\n",
              "       width=\"24px\">\n",
              "    <path d=\"M0 0h24v24H0V0z\" fill=\"none\"/>\n",
              "    <path d=\"M18.56 5.44l.94 2.06.94-2.06 2.06-.94-2.06-.94-.94-2.06-.94 2.06-2.06.94zm-11 1L8.5 8.5l.94-2.06 2.06-.94-2.06-.94L8.5 2.5l-.94 2.06-2.06.94zm10 10l.94 2.06.94-2.06 2.06-.94-2.06-.94-.94-2.06-.94 2.06-2.06.94z\"/><path d=\"M17.41 7.96l-1.37-1.37c-.4-.4-.92-.59-1.43-.59-.52 0-1.04.2-1.43.59L10.3 9.45l-7.72 7.72c-.78.78-.78 2.05 0 2.83L4 21.41c.39.39.9.59 1.41.59.51 0 1.02-.2 1.41-.59l7.78-7.78 2.81-2.81c.8-.78.8-2.07 0-2.86zM5.41 20L4 18.59l7.72-7.72 1.47 1.35L5.41 20z\"/>\n",
              "  </svg>\n",
              "      </button>\n",
              "      \n",
              "  <style>\n",
              "    .colab-df-container {\n",
              "      display:flex;\n",
              "      flex-wrap:wrap;\n",
              "      gap: 12px;\n",
              "    }\n",
              "\n",
              "    .colab-df-convert {\n",
              "      background-color: #E8F0FE;\n",
              "      border: none;\n",
              "      border-radius: 50%;\n",
              "      cursor: pointer;\n",
              "      display: none;\n",
              "      fill: #1967D2;\n",
              "      height: 32px;\n",
              "      padding: 0 0 0 0;\n",
              "      width: 32px;\n",
              "    }\n",
              "\n",
              "    .colab-df-convert:hover {\n",
              "      background-color: #E2EBFA;\n",
              "      box-shadow: 0px 1px 2px rgba(60, 64, 67, 0.3), 0px 1px 3px 1px rgba(60, 64, 67, 0.15);\n",
              "      fill: #174EA6;\n",
              "    }\n",
              "\n",
              "    [theme=dark] .colab-df-convert {\n",
              "      background-color: #3B4455;\n",
              "      fill: #D2E3FC;\n",
              "    }\n",
              "\n",
              "    [theme=dark] .colab-df-convert:hover {\n",
              "      background-color: #434B5C;\n",
              "      box-shadow: 0px 1px 3px 1px rgba(0, 0, 0, 0.15);\n",
              "      filter: drop-shadow(0px 1px 2px rgba(0, 0, 0, 0.3));\n",
              "      fill: #FFFFFF;\n",
              "    }\n",
              "  </style>\n",
              "\n",
              "      <script>\n",
              "        const buttonEl =\n",
              "          document.querySelector('#df-5b2aec0c-606e-4fad-b027-981c21e4680a button.colab-df-convert');\n",
              "        buttonEl.style.display =\n",
              "          google.colab.kernel.accessAllowed ? 'block' : 'none';\n",
              "\n",
              "        async function convertToInteractive(key) {\n",
              "          const element = document.querySelector('#df-5b2aec0c-606e-4fad-b027-981c21e4680a');\n",
              "          const dataTable =\n",
              "            await google.colab.kernel.invokeFunction('convertToInteractive',\n",
              "                                                     [key], {});\n",
              "          if (!dataTable) return;\n",
              "\n",
              "          const docLinkHtml = 'Like what you see? Visit the ' +\n",
              "            '<a target=\"_blank\" href=https://colab.research.google.com/notebooks/data_table.ipynb>data table notebook</a>'\n",
              "            + ' to learn more about interactive tables.';\n",
              "          element.innerHTML = '';\n",
              "          dataTable['output_type'] = 'display_data';\n",
              "          await google.colab.output.renderOutput(dataTable, element);\n",
              "          const docLink = document.createElement('div');\n",
              "          docLink.innerHTML = docLinkHtml;\n",
              "          element.appendChild(docLink);\n",
              "        }\n",
              "      </script>\n",
              "    </div>\n",
              "  </div>\n",
              "  "
            ],
            "text/plain": [
              "                                                  judul  \\\n",
              "0                         Promo Rumah Mewah Akhir Tahun   \n",
              "1     Rumah modern Readystock di bandung raya cimahi...   \n",
              "2     Dijual rumah 300 jutaan jalan lebar dekat Ikea...   \n",
              "3     Dijual PROMO rumah 2 lantai di sayap Setiabudi...   \n",
              "4     Rumah Strategis Siap Huni di dekat Tol Cileuny...   \n",
              "...                                                 ...   \n",
              "1465                                Rumah Lama Turangga   \n",
              "1466  Rumah di nirwana residence bandung siap huni t...   \n",
              "1467  Rumah Minimalis Siap Huni Sangat Murah Di Pinu...   \n",
              "1468  Dijual Cepat Rumah Strategis di Komplek Batura...   \n",
              "1469  Rumah turangga bagus siap huni turun harga dra...   \n",
              "\n",
              "                       alamat  \\\n",
              "0           Antapani, Bandung   \n",
              "1      Bandung Wetan, Bandung   \n",
              "2         Padalarang, Bandung   \n",
              "3                     Bandung   \n",
              "4       Cibiru Hilir, Bandung   \n",
              "...                       ...   \n",
              "1465        Turangga, Bandung   \n",
              "1466                  Bandung   \n",
              "1467  Soekarno Hatta, Bandung   \n",
              "1468       Rancasari, Bandung   \n",
              "1469        Turangga, Bandung   \n",
              "\n",
              "                                              deskripsi  kamar  bangunan  \\\n",
              "0     Promo akhir tahun !! Hanya 500 jt-an + FREE SH...      3        75   \n",
              "1     Rumah Baru modern 2 LT di Sayap Kota Cimahi de...      3        70   \n",
              "2     *Jadilah konsumen CERDAS !* *Tips singkat sebe...      2        36   \n",
              "3     Copy writing nasc  NUANSA ALAM SETIABUDHI CLOV...      2        60   \n",
              "4     Hunian Nyaman di Cibiru, Cileunyi, Bandung Tim...      2        90   \n",
              "...                                                 ...    ...       ...   \n",
              "1465  Di jual rumah lama turangga\\nLuas tanah : 240 ...      6       280   \n",
              "1466  Rumah bagus siap huni dan terawat, dekat denga...      3       180   \n",
              "1467  Turun HargaHarga Awal 675 sekarang jadi 572 ne...      2        65   \n",
              "1468  Dijual Cepat Rumah di Komplek Batu Raden dekat...      6       160   \n",
              "1469  Turun Harga drastis CAKEP BOSQUE.. Area Turang...      5       240   \n",
              "\n",
              "      lahan       harga  \n",
              "0        84   590000000  \n",
              "1        71   700000000  \n",
              "2        72   386000000  \n",
              "3        60   499000000  \n",
              "4       114   397500000  \n",
              "...     ...         ...  \n",
              "1465    240  2800000000  \n",
              "1466     90  1000000000  \n",
              "1467     72   572000000  \n",
              "1468    318  2300000000  \n",
              "1469    188  2400000000  \n",
              "\n",
              "[1470 rows x 7 columns]"
            ]
          },
          "execution_count": 3,
          "metadata": {},
          "output_type": "execute_result"
        }
      ],
      "source": [
        "# membaca file hasil konversi\n",
        "# menjadi dataframe objek\n",
        "df = pd.DataFrame(pd.read_csv(\"/properti.csv\"))\n",
        "  \n",
        "# tampilkan dataframe\n",
        "df"
      ]
    },
    {
      "cell_type": "markdown",
      "metadata": {
        "id": "5BzpjBixXVc3"
      },
      "source": [
        "### Data Understanding\n",
        "- Data diatasa merupakan data harga properti di Bandung\n",
        "- **Objective goals** kita yaitu **memprediksi harga**. \n",
        "- Harga merupakan data type numeric, maka kita coba metode sederhana yaitu **Regresi Linear Berganda**\n",
        "- Kenapa pakai Berganda? Karena terdapat lebih dari 1 independent variabel (x) dalam memprediksi nilai dependent (y)\n",
        "- Rumus Regresi Linear Berganda yaitu sebagai berikut:\n",
        "<br>**Y = b + m1*x1 + m2*x2 + … + mn*xn**\n",
        "<br>\n",
        "Kererangan:\n",
        "<br> \n",
        "Y = dependent variable / variabel tidak bebas\n",
        "<br>\n",
        "mn = koefisien regresi = rata2 perubahan y jika x bertambah 1 unit\n",
        "<br>\n",
        "xn = independent variable / variable bebas\n",
        "<br>\n",
        "b = intercept = Nilai y pada x = 0"
      ]
    },
    {
      "cell_type": "code",
      "execution_count": null,
      "metadata": {
        "colab": {
          "base_uri": "https://localhost:8080/"
        },
        "id": "feNTEHqokbL1",
        "outputId": "b3372493-f8b6-4496-f1b7-9c210202f2ed"
      },
      "outputs": [
        {
          "data": {
            "text/plain": [
              "(1470, 7)"
            ]
          },
          "execution_count": 4,
          "metadata": {},
          "output_type": "execute_result"
        }
      ],
      "source": [
        "# Mengetahui jumlah kolom dan baris dari data\n",
        "df.shape"
      ]
    },
    {
      "cell_type": "markdown",
      "metadata": {
        "id": "jlc2fLnCoZaJ"
      },
      "source": [
        "```\n",
        "- Terdapat 1470 data observation, 7 features\n",
        "- Tujuan awal kita memprediksi harga berdasarkan jumlah kamar, luas bangunan, dan luas *tanah*\n",
        "- Maka hapus features yang tidak kita gunakan, yaitu [judul, alamat, deskripsi]\n",
        "```"
      ]
    },
    {
      "cell_type": "code",
      "execution_count": null,
      "metadata": {
        "colab": {
          "base_uri": "https://localhost:8080/",
          "height": 424
        },
        "id": "38B2Z7YvsPA1",
        "outputId": "8019c053-4419-4b58-8afe-ebff50b45c7d"
      },
      "outputs": [
        {
          "data": {
            "text/html": [
              "\n",
              "  <div id=\"df-448a1d82-05b4-417e-b618-de98c22c9095\">\n",
              "    <div class=\"colab-df-container\">\n",
              "      <div>\n",
              "<style scoped>\n",
              "    .dataframe tbody tr th:only-of-type {\n",
              "        vertical-align: middle;\n",
              "    }\n",
              "\n",
              "    .dataframe tbody tr th {\n",
              "        vertical-align: top;\n",
              "    }\n",
              "\n",
              "    .dataframe thead th {\n",
              "        text-align: right;\n",
              "    }\n",
              "</style>\n",
              "<table border=\"1\" class=\"dataframe\">\n",
              "  <thead>\n",
              "    <tr style=\"text-align: right;\">\n",
              "      <th></th>\n",
              "      <th>kamar</th>\n",
              "      <th>bangunan</th>\n",
              "      <th>lahan</th>\n",
              "      <th>harga</th>\n",
              "    </tr>\n",
              "  </thead>\n",
              "  <tbody>\n",
              "    <tr>\n",
              "      <th>0</th>\n",
              "      <td>3</td>\n",
              "      <td>75</td>\n",
              "      <td>84</td>\n",
              "      <td>590000000</td>\n",
              "    </tr>\n",
              "    <tr>\n",
              "      <th>1</th>\n",
              "      <td>3</td>\n",
              "      <td>70</td>\n",
              "      <td>71</td>\n",
              "      <td>700000000</td>\n",
              "    </tr>\n",
              "    <tr>\n",
              "      <th>2</th>\n",
              "      <td>2</td>\n",
              "      <td>36</td>\n",
              "      <td>72</td>\n",
              "      <td>386000000</td>\n",
              "    </tr>\n",
              "    <tr>\n",
              "      <th>3</th>\n",
              "      <td>2</td>\n",
              "      <td>60</td>\n",
              "      <td>60</td>\n",
              "      <td>499000000</td>\n",
              "    </tr>\n",
              "    <tr>\n",
              "      <th>4</th>\n",
              "      <td>2</td>\n",
              "      <td>90</td>\n",
              "      <td>114</td>\n",
              "      <td>397500000</td>\n",
              "    </tr>\n",
              "    <tr>\n",
              "      <th>...</th>\n",
              "      <td>...</td>\n",
              "      <td>...</td>\n",
              "      <td>...</td>\n",
              "      <td>...</td>\n",
              "    </tr>\n",
              "    <tr>\n",
              "      <th>1465</th>\n",
              "      <td>6</td>\n",
              "      <td>280</td>\n",
              "      <td>240</td>\n",
              "      <td>2800000000</td>\n",
              "    </tr>\n",
              "    <tr>\n",
              "      <th>1466</th>\n",
              "      <td>3</td>\n",
              "      <td>180</td>\n",
              "      <td>90</td>\n",
              "      <td>1000000000</td>\n",
              "    </tr>\n",
              "    <tr>\n",
              "      <th>1467</th>\n",
              "      <td>2</td>\n",
              "      <td>65</td>\n",
              "      <td>72</td>\n",
              "      <td>572000000</td>\n",
              "    </tr>\n",
              "    <tr>\n",
              "      <th>1468</th>\n",
              "      <td>6</td>\n",
              "      <td>160</td>\n",
              "      <td>318</td>\n",
              "      <td>2300000000</td>\n",
              "    </tr>\n",
              "    <tr>\n",
              "      <th>1469</th>\n",
              "      <td>5</td>\n",
              "      <td>240</td>\n",
              "      <td>188</td>\n",
              "      <td>2400000000</td>\n",
              "    </tr>\n",
              "  </tbody>\n",
              "</table>\n",
              "<p>1470 rows × 4 columns</p>\n",
              "</div>\n",
              "      <button class=\"colab-df-convert\" onclick=\"convertToInteractive('df-448a1d82-05b4-417e-b618-de98c22c9095')\"\n",
              "              title=\"Convert this dataframe to an interactive table.\"\n",
              "              style=\"display:none;\">\n",
              "        \n",
              "  <svg xmlns=\"http://www.w3.org/2000/svg\" height=\"24px\"viewBox=\"0 0 24 24\"\n",
              "       width=\"24px\">\n",
              "    <path d=\"M0 0h24v24H0V0z\" fill=\"none\"/>\n",
              "    <path d=\"M18.56 5.44l.94 2.06.94-2.06 2.06-.94-2.06-.94-.94-2.06-.94 2.06-2.06.94zm-11 1L8.5 8.5l.94-2.06 2.06-.94-2.06-.94L8.5 2.5l-.94 2.06-2.06.94zm10 10l.94 2.06.94-2.06 2.06-.94-2.06-.94-.94-2.06-.94 2.06-2.06.94z\"/><path d=\"M17.41 7.96l-1.37-1.37c-.4-.4-.92-.59-1.43-.59-.52 0-1.04.2-1.43.59L10.3 9.45l-7.72 7.72c-.78.78-.78 2.05 0 2.83L4 21.41c.39.39.9.59 1.41.59.51 0 1.02-.2 1.41-.59l7.78-7.78 2.81-2.81c.8-.78.8-2.07 0-2.86zM5.41 20L4 18.59l7.72-7.72 1.47 1.35L5.41 20z\"/>\n",
              "  </svg>\n",
              "      </button>\n",
              "      \n",
              "  <style>\n",
              "    .colab-df-container {\n",
              "      display:flex;\n",
              "      flex-wrap:wrap;\n",
              "      gap: 12px;\n",
              "    }\n",
              "\n",
              "    .colab-df-convert {\n",
              "      background-color: #E8F0FE;\n",
              "      border: none;\n",
              "      border-radius: 50%;\n",
              "      cursor: pointer;\n",
              "      display: none;\n",
              "      fill: #1967D2;\n",
              "      height: 32px;\n",
              "      padding: 0 0 0 0;\n",
              "      width: 32px;\n",
              "    }\n",
              "\n",
              "    .colab-df-convert:hover {\n",
              "      background-color: #E2EBFA;\n",
              "      box-shadow: 0px 1px 2px rgba(60, 64, 67, 0.3), 0px 1px 3px 1px rgba(60, 64, 67, 0.15);\n",
              "      fill: #174EA6;\n",
              "    }\n",
              "\n",
              "    [theme=dark] .colab-df-convert {\n",
              "      background-color: #3B4455;\n",
              "      fill: #D2E3FC;\n",
              "    }\n",
              "\n",
              "    [theme=dark] .colab-df-convert:hover {\n",
              "      background-color: #434B5C;\n",
              "      box-shadow: 0px 1px 3px 1px rgba(0, 0, 0, 0.15);\n",
              "      filter: drop-shadow(0px 1px 2px rgba(0, 0, 0, 0.3));\n",
              "      fill: #FFFFFF;\n",
              "    }\n",
              "  </style>\n",
              "\n",
              "      <script>\n",
              "        const buttonEl =\n",
              "          document.querySelector('#df-448a1d82-05b4-417e-b618-de98c22c9095 button.colab-df-convert');\n",
              "        buttonEl.style.display =\n",
              "          google.colab.kernel.accessAllowed ? 'block' : 'none';\n",
              "\n",
              "        async function convertToInteractive(key) {\n",
              "          const element = document.querySelector('#df-448a1d82-05b4-417e-b618-de98c22c9095');\n",
              "          const dataTable =\n",
              "            await google.colab.kernel.invokeFunction('convertToInteractive',\n",
              "                                                     [key], {});\n",
              "          if (!dataTable) return;\n",
              "\n",
              "          const docLinkHtml = 'Like what you see? Visit the ' +\n",
              "            '<a target=\"_blank\" href=https://colab.research.google.com/notebooks/data_table.ipynb>data table notebook</a>'\n",
              "            + ' to learn more about interactive tables.';\n",
              "          element.innerHTML = '';\n",
              "          dataTable['output_type'] = 'display_data';\n",
              "          await google.colab.output.renderOutput(dataTable, element);\n",
              "          const docLink = document.createElement('div');\n",
              "          docLink.innerHTML = docLinkHtml;\n",
              "          element.appendChild(docLink);\n",
              "        }\n",
              "      </script>\n",
              "    </div>\n",
              "  </div>\n",
              "  "
            ],
            "text/plain": [
              "      kamar  bangunan  lahan       harga\n",
              "0         3        75     84   590000000\n",
              "1         3        70     71   700000000\n",
              "2         2        36     72   386000000\n",
              "3         2        60     60   499000000\n",
              "4         2        90    114   397500000\n",
              "...     ...       ...    ...         ...\n",
              "1465      6       280    240  2800000000\n",
              "1466      3       180     90  1000000000\n",
              "1467      2        65     72   572000000\n",
              "1468      6       160    318  2300000000\n",
              "1469      5       240    188  2400000000\n",
              "\n",
              "[1470 rows x 4 columns]"
            ]
          },
          "execution_count": 5,
          "metadata": {},
          "output_type": "execute_result"
        }
      ],
      "source": [
        "# hapus kolom judul, alamat, deskripsi\n",
        "df.drop(columns=[\"judul\", \"alamat\", \"deskripsi\"] , inplace=True)\n",
        "df"
      ]
    },
    {
      "cell_type": "code",
      "execution_count": null,
      "metadata": {
        "colab": {
          "base_uri": "https://localhost:8080/"
        },
        "id": "wecU7OFptHSW",
        "outputId": "66ece583-2dec-4d70-92ed-c04dcf3fe8b9"
      },
      "outputs": [
        {
          "name": "stdout",
          "output_type": "stream",
          "text": [
            "<class 'pandas.core.frame.DataFrame'>\n",
            "RangeIndex: 1470 entries, 0 to 1469\n",
            "Data columns (total 4 columns):\n",
            " #   Column    Non-Null Count  Dtype\n",
            "---  ------    --------------  -----\n",
            " 0   kamar     1470 non-null   int64\n",
            " 1   bangunan  1470 non-null   int64\n",
            " 2   lahan     1470 non-null   int64\n",
            " 3   harga     1470 non-null   int64\n",
            "dtypes: int64(4)\n",
            "memory usage: 46.1 KB\n",
            "\n",
            " cek nul values\n"
          ]
        },
        {
          "data": {
            "text/plain": [
              "kamar       0\n",
              "bangunan    0\n",
              "lahan       0\n",
              "harga       0\n",
              "dtype: int64"
            ]
          },
          "execution_count": 6,
          "metadata": {},
          "output_type": "execute_result"
        }
      ],
      "source": [
        "# Selanjutnya kita lihat tipe data, memory yang digunakan dan jumlah null data\n",
        "# tidak ada null values dan type sudah sesui int, alias sudah clean\n",
        "df.info()\n",
        "print(\"\\n cek nul values\")\n",
        "df.isnull().sum()"
      ]
    },
    {
      "cell_type": "code",
      "execution_count": null,
      "metadata": {
        "colab": {
          "base_uri": "https://localhost:8080/",
          "height": 300
        },
        "id": "Z80cwwGJvTpi",
        "outputId": "cfc9ad4a-c181-477d-ee91-b0cc91c062e8"
      },
      "outputs": [
        {
          "data": {
            "text/html": [
              "\n",
              "  <div id=\"df-3f423cf6-d733-4195-bff0-3b610e22c07c\">\n",
              "    <div class=\"colab-df-container\">\n",
              "      <div>\n",
              "<style scoped>\n",
              "    .dataframe tbody tr th:only-of-type {\n",
              "        vertical-align: middle;\n",
              "    }\n",
              "\n",
              "    .dataframe tbody tr th {\n",
              "        vertical-align: top;\n",
              "    }\n",
              "\n",
              "    .dataframe thead th {\n",
              "        text-align: right;\n",
              "    }\n",
              "</style>\n",
              "<table border=\"1\" class=\"dataframe\">\n",
              "  <thead>\n",
              "    <tr style=\"text-align: right;\">\n",
              "      <th></th>\n",
              "      <th>kamar</th>\n",
              "      <th>bangunan</th>\n",
              "      <th>lahan</th>\n",
              "      <th>harga</th>\n",
              "    </tr>\n",
              "  </thead>\n",
              "  <tbody>\n",
              "    <tr>\n",
              "      <th>count</th>\n",
              "      <td>1470.000000</td>\n",
              "      <td>1470.000000</td>\n",
              "      <td>1470.000000</td>\n",
              "      <td>1.470000e+03</td>\n",
              "    </tr>\n",
              "    <tr>\n",
              "      <th>mean</th>\n",
              "      <td>3.646259</td>\n",
              "      <td>177.489116</td>\n",
              "      <td>210.235374</td>\n",
              "      <td>2.581586e+09</td>\n",
              "    </tr>\n",
              "    <tr>\n",
              "      <th>std</th>\n",
              "      <td>2.535528</td>\n",
              "      <td>176.726326</td>\n",
              "      <td>500.109095</td>\n",
              "      <td>4.358051e+09</td>\n",
              "    </tr>\n",
              "    <tr>\n",
              "      <th>min</th>\n",
              "      <td>0.000000</td>\n",
              "      <td>0.000000</td>\n",
              "      <td>0.000000</td>\n",
              "      <td>6.500000e+07</td>\n",
              "    </tr>\n",
              "    <tr>\n",
              "      <th>25%</th>\n",
              "      <td>2.000000</td>\n",
              "      <td>65.000000</td>\n",
              "      <td>80.000000</td>\n",
              "      <td>6.750000e+08</td>\n",
              "    </tr>\n",
              "    <tr>\n",
              "      <th>50%</th>\n",
              "      <td>3.000000</td>\n",
              "      <td>122.500000</td>\n",
              "      <td>120.000000</td>\n",
              "      <td>1.370000e+09</td>\n",
              "    </tr>\n",
              "    <tr>\n",
              "      <th>75%</th>\n",
              "      <td>4.000000</td>\n",
              "      <td>230.000000</td>\n",
              "      <td>210.000000</td>\n",
              "      <td>3.000000e+09</td>\n",
              "    </tr>\n",
              "    <tr>\n",
              "      <th>max</th>\n",
              "      <td>47.000000</td>\n",
              "      <td>1850.000000</td>\n",
              "      <td>15000.000000</td>\n",
              "      <td>5.700000e+10</td>\n",
              "    </tr>\n",
              "  </tbody>\n",
              "</table>\n",
              "</div>\n",
              "      <button class=\"colab-df-convert\" onclick=\"convertToInteractive('df-3f423cf6-d733-4195-bff0-3b610e22c07c')\"\n",
              "              title=\"Convert this dataframe to an interactive table.\"\n",
              "              style=\"display:none;\">\n",
              "        \n",
              "  <svg xmlns=\"http://www.w3.org/2000/svg\" height=\"24px\"viewBox=\"0 0 24 24\"\n",
              "       width=\"24px\">\n",
              "    <path d=\"M0 0h24v24H0V0z\" fill=\"none\"/>\n",
              "    <path d=\"M18.56 5.44l.94 2.06.94-2.06 2.06-.94-2.06-.94-.94-2.06-.94 2.06-2.06.94zm-11 1L8.5 8.5l.94-2.06 2.06-.94-2.06-.94L8.5 2.5l-.94 2.06-2.06.94zm10 10l.94 2.06.94-2.06 2.06-.94-2.06-.94-.94-2.06-.94 2.06-2.06.94z\"/><path d=\"M17.41 7.96l-1.37-1.37c-.4-.4-.92-.59-1.43-.59-.52 0-1.04.2-1.43.59L10.3 9.45l-7.72 7.72c-.78.78-.78 2.05 0 2.83L4 21.41c.39.39.9.59 1.41.59.51 0 1.02-.2 1.41-.59l7.78-7.78 2.81-2.81c.8-.78.8-2.07 0-2.86zM5.41 20L4 18.59l7.72-7.72 1.47 1.35L5.41 20z\"/>\n",
              "  </svg>\n",
              "      </button>\n",
              "      \n",
              "  <style>\n",
              "    .colab-df-container {\n",
              "      display:flex;\n",
              "      flex-wrap:wrap;\n",
              "      gap: 12px;\n",
              "    }\n",
              "\n",
              "    .colab-df-convert {\n",
              "      background-color: #E8F0FE;\n",
              "      border: none;\n",
              "      border-radius: 50%;\n",
              "      cursor: pointer;\n",
              "      display: none;\n",
              "      fill: #1967D2;\n",
              "      height: 32px;\n",
              "      padding: 0 0 0 0;\n",
              "      width: 32px;\n",
              "    }\n",
              "\n",
              "    .colab-df-convert:hover {\n",
              "      background-color: #E2EBFA;\n",
              "      box-shadow: 0px 1px 2px rgba(60, 64, 67, 0.3), 0px 1px 3px 1px rgba(60, 64, 67, 0.15);\n",
              "      fill: #174EA6;\n",
              "    }\n",
              "\n",
              "    [theme=dark] .colab-df-convert {\n",
              "      background-color: #3B4455;\n",
              "      fill: #D2E3FC;\n",
              "    }\n",
              "\n",
              "    [theme=dark] .colab-df-convert:hover {\n",
              "      background-color: #434B5C;\n",
              "      box-shadow: 0px 1px 3px 1px rgba(0, 0, 0, 0.15);\n",
              "      filter: drop-shadow(0px 1px 2px rgba(0, 0, 0, 0.3));\n",
              "      fill: #FFFFFF;\n",
              "    }\n",
              "  </style>\n",
              "\n",
              "      <script>\n",
              "        const buttonEl =\n",
              "          document.querySelector('#df-3f423cf6-d733-4195-bff0-3b610e22c07c button.colab-df-convert');\n",
              "        buttonEl.style.display =\n",
              "          google.colab.kernel.accessAllowed ? 'block' : 'none';\n",
              "\n",
              "        async function convertToInteractive(key) {\n",
              "          const element = document.querySelector('#df-3f423cf6-d733-4195-bff0-3b610e22c07c');\n",
              "          const dataTable =\n",
              "            await google.colab.kernel.invokeFunction('convertToInteractive',\n",
              "                                                     [key], {});\n",
              "          if (!dataTable) return;\n",
              "\n",
              "          const docLinkHtml = 'Like what you see? Visit the ' +\n",
              "            '<a target=\"_blank\" href=https://colab.research.google.com/notebooks/data_table.ipynb>data table notebook</a>'\n",
              "            + ' to learn more about interactive tables.';\n",
              "          element.innerHTML = '';\n",
              "          dataTable['output_type'] = 'display_data';\n",
              "          await google.colab.output.renderOutput(dataTable, element);\n",
              "          const docLink = document.createElement('div');\n",
              "          docLink.innerHTML = docLinkHtml;\n",
              "          element.appendChild(docLink);\n",
              "        }\n",
              "      </script>\n",
              "    </div>\n",
              "  </div>\n",
              "  "
            ],
            "text/plain": [
              "             kamar     bangunan         lahan         harga\n",
              "count  1470.000000  1470.000000   1470.000000  1.470000e+03\n",
              "mean      3.646259   177.489116    210.235374  2.581586e+09\n",
              "std       2.535528   176.726326    500.109095  4.358051e+09\n",
              "min       0.000000     0.000000      0.000000  6.500000e+07\n",
              "25%       2.000000    65.000000     80.000000  6.750000e+08\n",
              "50%       3.000000   122.500000    120.000000  1.370000e+09\n",
              "75%       4.000000   230.000000    210.000000  3.000000e+09\n",
              "max      47.000000  1850.000000  15000.000000  5.700000e+10"
            ]
          },
          "execution_count": 7,
          "metadata": {},
          "output_type": "execute_result"
        }
      ],
      "source": [
        "# Statistical description\n",
        "df.describe()"
      ]
    },
    {
      "cell_type": "markdown",
      "metadata": {
        "id": "8plnAKDmwWyn"
      },
      "source": [
        "### Exploratory Data Analysis"
      ]
    },
    {
      "cell_type": "code",
      "execution_count": null,
      "metadata": {
        "colab": {
          "base_uri": "https://localhost:8080/",
          "height": 353
        },
        "id": "VZJ2EqQSvfni",
        "outputId": "ea4a264a-0cb2-48eb-b896-0a4660aa43ba"
      },
      "outputs": [
        {
          "name": "stderr",
          "output_type": "stream",
          "text": [
            "/usr/local/lib/python3.8/dist-packages/seaborn/_decorators.py:36: FutureWarning: Pass the following variable as a keyword arg: x. From version 0.12, the only valid positional argument will be `data`, and passing other arguments without an explicit keyword will result in an error or misinterpretation.\n",
            "  warnings.warn(\n"
          ]
        },
        {
          "data": {
            "text/plain": [
              "<function matplotlib.pyplot.show(*args, **kw)>"
            ]
          },
          "execution_count": 8,
          "metadata": {},
          "output_type": "execute_result"
        },
        {
          "data": {
            "image/png": "[encoded data removed]",
            "text/plain": [
              "<Figure size 864x288 with 2 Axes>"
            ]
          },
          "metadata": {
            "needs_background": "light"
          },
          "output_type": "display_data"
        }
      ],
      "source": [
        "# Univariate analysis feature kamar\n",
        "f = plt.figure(figsize=(12,4))\n",
        "\n",
        "f.add_subplot(1,2,1)\n",
        "sns.countplot(df['kamar'])\n",
        "\n",
        "f.add_subplot(1,2,2)\n",
        "plt.boxplot(df['kamar'])\n",
        "plt.show"
      ]
    },
    {
      "cell_type": "markdown",
      "metadata": {
        "id": "VZq2O-qdw7rO"
      },
      "source": [
        "```\n",
        "- Dapat dilihat sebagian besar jumlah kamar tidur ada di angka 2, 3, dan 4\n",
        "- Data memiliki banyak outliers\n",
        "```"
      ]
    },
    {
      "cell_type": "code",
      "execution_count": null,
      "metadata": {
        "colab": {
          "base_uri": "https://localhost:8080/",
          "height": 353
        },
        "id": "-EiKYr4Sw3mt",
        "outputId": "8b49fb82-dfb3-4688-da00-5907654ce0fe"
      },
      "outputs": [
        {
          "name": "stderr",
          "output_type": "stream",
          "text": [
            "/usr/local/lib/python3.8/dist-packages/seaborn/_decorators.py:36: FutureWarning: Pass the following variable as a keyword arg: x. From version 0.12, the only valid positional argument will be `data`, and passing other arguments without an explicit keyword will result in an error or misinterpretation.\n",
            "  warnings.warn(\n"
          ]
        },
        {
          "data": {
            "text/plain": [
              "<function matplotlib.pyplot.show(*args, **kw)>"
            ]
          },
          "execution_count": 9,
          "metadata": {},
          "output_type": "execute_result"
        },
        {
          "data": {
            "image/png": "[encoded data removed]",
            "text/plain": [
              "<Figure size 864x288 with 2 Axes>"
            ]
          },
          "metadata": {
            "needs_background": "light"
          },
          "output_type": "display_data"
        }
      ],
      "source": [
        "# univariate analysis luas bangunan\n",
        "f = plt.figure(figsize=(12,4))\n",
        "\n",
        "f.add_subplot(1,2,1)\n",
        "sns.countplot(df['bangunan'])\n",
        "\n",
        "f.add_subplot(1,2,2)\n",
        "plt.boxplot(df['bangunan'])\n",
        "plt.show"
      ]
    },
    {
      "cell_type": "markdown",
      "metadata": {
        "id": "FLDXwgtZ2e65"
      },
      "source": [
        "```\n",
        "* Jika dilihat pakai diagram batang diatas,  nampak tidak jelas karena memiliki n values di sumbu x \n",
        "yang cukup banyak\n",
        "* Solusi nya pakai data viz lain yaitu histogram\n",
        "* Ada data outliers\n",
        "```"
      ]
    },
    {
      "cell_type": "code",
      "execution_count": null,
      "metadata": {
        "colab": {
          "base_uri": "https://localhost:8080/",
          "height": 408
        },
        "id": "aoEwUlHP8tMc",
        "outputId": "92238485-36b4-43bf-95d3-0c2dc9cb9f16"
      },
      "outputs": [
        {
          "data": {
            "image/png": "[encoded data removed]",
            "text/plain": [
              "<Figure size 720x432 with 2 Axes>"
            ]
          },
          "metadata": {
            "needs_background": "light"
          },
          "output_type": "display_data"
        }
      ],
      "source": [
        "  # Histogram Luas Tanah\n",
        "  f = plt.figure(figsize=(12,4))\n",
        "\n",
        "  f.add_subplot(1,2,1)\n",
        "  df['bangunan'].plot(kind='hist', figsize=(10, 6), bins=50)\n",
        "  # plt.title('Luas Tanah\\n', size=16)\n",
        "  plt.ylabel('\\ncount', size=14)\n",
        "  plt.xlabel('\\nLuas Bangunan [m2]', size=14)\n",
        "\n",
        "  f.add_subplot(1,2,2)\n",
        "  plt.boxplot(df['bangunan'])\n",
        "  plt.show()"
      ]
    },
    {
      "cell_type": "code",
      "execution_count": null,
      "metadata": {
        "colab": {
          "base_uri": "https://localhost:8080/",
          "height": 408
        },
        "id": "6Nh6RnrPzXT9",
        "outputId": "8c98b3de-7d3f-4c38-eedb-df6d2d992703"
      },
      "outputs": [
        {
          "data": {
            "image/png": "[encoded data removed]",
            "text/plain": [
              "<Figure size 720x432 with 2 Axes>"
            ]
          },
          "metadata": {
            "needs_background": "light"
          },
          "output_type": "display_data"
        }
      ],
      "source": [
        "# Histogram Luas Tanah / lahan\n",
        "f = plt.figure(figsize=(12,4))\n",
        "\n",
        "f.add_subplot(1,2,1)\n",
        "df['lahan'].plot(kind='hist', figsize=(10, 6), bins=50)\n",
        "\n",
        "plt.ylabel('\\ncount', size=14)\n",
        "plt.xlabel('\\nLuas Tanah [m2]', size=14)\n",
        "\n",
        "f.add_subplot(1,2,2)\n",
        "plt.boxplot(df['lahan'])\n",
        "plt.show()"
      ]
    },
    {
      "cell_type": "markdown",
      "metadata": {
        "id": "f04hHzUC2Nvk"
      },
      "source": [
        "```\n",
        "- Data banyak memiliki outliers\n",
        "```"
      ]
    },
    {
      "cell_type": "code",
      "execution_count": null,
      "metadata": {
        "colab": {
          "base_uri": "https://localhost:8080/"
        },
        "id": "4CBR2VcJ4H46",
        "outputId": "d01febe3-6fcc-45bd-e5d7-69e9fe4b85ee"
      },
      "outputs": [
        {
          "data": {
            "text/plain": [
              "array([ 3,  2,  7,  4, 13,  6,  5,  9,  8, 23,  1, 12, 15, 11, 10, 18,  0,\n",
              "       24, 37, 16, 47])"
            ]
          },
          "execution_count": 12,
          "metadata": {},
          "output_type": "execute_result"
        }
      ],
      "source": [
        "df[\"kamar\"].unique()"
      ]
    },
    {
      "cell_type": "code",
      "execution_count": null,
      "metadata": {
        "colab": {
          "base_uri": "https://localhost:8080/"
        },
        "id": "NVC9lfmmE8OT",
        "outputId": "09af52eb-0e9c-4a60-d3c8-66702e67ee23"
      },
      "outputs": [
        {
          "data": {
            "text/plain": [
              "array([   84,    71,    72,    60,   114,    80,   620,   276,   100,\n",
              "         120,    35,    70,    50,    78,    69,   125,   110,   421,\n",
              "          40,    65,    47,   342,    55,   260,   160,   254,    81,\n",
              "          90,    92,    59,   150,    62,    36,   381,    37,    63,\n",
              "         167,   148,   193,    66,   118,   126,    56,    41,   177,\n",
              "         344,   278,     0,   215,   179,   264,   500,    83,   155,\n",
              "          91,   320,   290,   300,   127,   128,   189,   102,   105,\n",
              "         385,   112,   158,    96,    54,   130,   830,    34,   154,\n",
              "         226,    88,    97,   450,    98,    45,   360,   190,   144,\n",
              "          75,   380,   642,   255,  1170,    43,    57,   119,    95,\n",
              "         140,    89,   267,    61,   108,   200,   210,   319,   223,\n",
              "         233,   240,   212,   414,   411,    30,   161,   288,   152,\n",
              "         136,   375,   861,   543,   180,   420,   204,   350,   170,\n",
              "         477,   172,   588,    67,   207,   117,   387,   230,   262,\n",
              "         187,   197,   202,   106,   280,   216,   211,   251,   176,\n",
              "         198,   104,   252,    99,   649,   427,   235,   238,   156,\n",
              "         700,   292,   122,   165,   257,   358,   145,   175,   224,\n",
              "         208,   214,   135,   184,   162,   196,   115,   448,   250,\n",
              "         242,   299,   458,  1000,   400,   168,   905,    77,    85,\n",
              "         315,   399,   157,   502,   143,   467,   475,   232,   568,\n",
              "         123,    58,   164,   283,   294,   635,   291,   440,    86,\n",
              "         220,   600,   972,   374,   225,   111,   369,   347,   107,\n",
              "         413,   494,    94,   295,   907,   142,    64,   531,   185,\n",
              "         417,   550,   218,  1540,   191,    51,   239,   352,   480,\n",
              "         101,   398,   761,   410,   800,   580,   134,   465,   303,\n",
              "         178,   900,   390,   282,   174,   765,   132,   525,   301,\n",
              "         353,   309,   221,   129,   286,   298,    74,   743,   396,\n",
              "         138,   248,   182,  3800,   689,  1036,   284,     5,    73,\n",
              "         163,   146,    93,   166,   489,   109,   188,    76,   261,\n",
              "          48,    87,   183,   222,   270,   147,   246,   586,   293,\n",
              "         798,   970,   306,   219,   124,   893,   679,   113,    68,\n",
              "         334,   573,   741,   153,   892,   476,  1389,   330,   567,\n",
              "         268,   606,   461,   510,   511,   373,   803,   624,  1526,\n",
              "         195,   312,   672,   217,  2200,  4015,  2100,   512,   850,\n",
              "         310,  1074,  8000,  1236,    49,    82,   439,   478,   354,\n",
              "        1034,   898,   540,   103,   386,   351,  2022,   355,   308,\n",
              "         181,   116,   372,   285,   371,   681,   229,   925,   203,\n",
              "         133, 15000,   526,   335,   169,   365,   314,   469,   392,\n",
              "        1400,   988,  1444,   564,   640,   860,   470,   750,   890,\n",
              "         415,   514,   524,    46,   734,   605,   473,   434,   331,\n",
              "         490,   536,   318])"
            ]
          },
          "execution_count": 13,
          "metadata": {},
          "output_type": "execute_result"
        }
      ],
      "source": [
        "df[\"lahan\"].unique()"
      ]
    },
    {
      "cell_type": "code",
      "execution_count": null,
      "metadata": {
        "colab": {
          "base_uri": "https://localhost:8080/"
        },
        "id": "Tlu2Hga8E-ZS",
        "outputId": "23e8ad3b-53e8-4461-f87f-bef9ee9566f4"
      },
      "outputs": [
        {
          "data": {
            "text/plain": [
              "array([  75,   70,   36,   60,   90,   48,  200,  350,   30,  670,  100,\n",
              "         65,   37,   21,   80,   45,   49,   40,   50,  140,  150,  450,\n",
              "        170,   55,   73,   61,  315,  120,  110,   83,  250,   56,   38,\n",
              "         77,   58,   68,  240,   98,  324,  101,  300,   86,  230,  320,\n",
              "         34,  212,   43,  650,  135,   94,   54,   72,  260,  196,  180,\n",
              "        123, 1085,   42,  124,   27,  400,  800,  115,  149,  241,   52,\n",
              "         29,  126,  128,  160, 1500,   35,  125,   88,   74,   62,  235,\n",
              "         78,  130,  147,  185,  470,  210,  411,  122,  340,  155,   39,\n",
              "        600,  227,  276,  280,  141,  144,  348,   96,  175,  220,   85,\n",
              "        129,  440,  190,  255,  237,  270,  127,  380,  376,  106,  159,\n",
              "         69,  550,  167,  422,   53,  330,  156,  142,  177,  133,   87,\n",
              "        290,  500,  214,  215,  269,  516,  213,  102,  114,  116,  171,\n",
              "        317,  197,   81,  750,  323,   51,  145,  248,  325,  154,  420,\n",
              "         89,  294,  216,  132,   47,  192,  136,  242,  745,  195,  546,\n",
              "        148, 1200,   97,  275,  146,  224,   41,   95,  112,  236,   59,\n",
              "        360,  104,  460,   66,  377,  295,  165,  336,  331,  131,  158,\n",
              "        244,  117, 1300,  176,   63,  620,  365,  105,  335,   64,  900,\n",
              "        359,  265,  232,  370,  580, 1000, 1850,  225,  205,    0,  310,\n",
              "        134,    1,  204,  535,  701,  432,   84,   82,  404,  288,   71,\n",
              "         10, 1400,  245,  268,   32,   67,   57,  113,  187,  700,  186,\n",
              "        419,  482,  286,   99,  277,  111,  108,  252,  510,  168,  329,\n",
              "        109,  223,  431,  363,  164])"
            ]
          },
          "execution_count": 14,
          "metadata": {},
          "output_type": "execute_result"
        }
      ],
      "source": [
        "df[\"bangunan\"].unique()"
      ]
    },
    {
      "cell_type": "code",
      "execution_count": null,
      "metadata": {
        "colab": {
          "base_uri": "https://localhost:8080/"
        },
        "id": "FcJS5DKkFE4x",
        "outputId": "ffa8c54a-7681-4fe5-87c9-65d81790b80b"
      },
      "outputs": [
        {
          "name": "stdout",
          "output_type": "stream",
          "text": [
            "<class 'pandas.core.frame.DataFrame'>\n",
            "Int64Index: 1173 entries, 0 to 1467\n",
            "Data columns (total 4 columns):\n",
            " #   Column    Non-Null Count  Dtype\n",
            "---  ------    --------------  -----\n",
            " 0   kamar     1173 non-null   int64\n",
            " 1   bangunan  1173 non-null   int64\n",
            " 2   lahan     1173 non-null   int64\n",
            " 3   harga     1173 non-null   int64\n",
            "dtypes: int64(4)\n",
            "memory usage: 45.8 KB\n"
          ]
        }
      ],
      "source": [
        "# Buang data yang ga masuk akal, atau sesuai kebutuhan kita\n",
        "mask_kamar = df[\"kamar\"] < 5\n",
        "mask_LT = df[\"lahan\"] < 1000\n",
        "mask_LB = df[\"bangunan\"] < 1000\n",
        "\n",
        "# Buat subset baru\n",
        "df = df[mask_kamar & mask_LT & mask_LB]\n",
        "df.info()"
      ]
    },
    {
      "cell_type": "markdown",
      "metadata": {
        "id": "7rEUuxdCG0c7"
      },
      "source": [
        "### Buat visalisasi pie chart untuk membuat perbedaan type properti"
      ]
    },
    {
      "cell_type": "code",
      "execution_count": null,
      "metadata": {
        "colab": {
          "base_uri": "https://localhost:8080/",
          "height": 409
        },
        "id": "JNLbLcZ_GIZX",
        "outputId": "720354c8-1068-45ec-94e0-40ee4aaa3a59"
      },
      "outputs": [
        {
          "data": {
            "text/plain": [
              "([<matplotlib.patches.Wedge at 0x7fedf27bb550>,\n",
              "  <matplotlib.patches.Wedge at 0x7fedf27bba00>,\n",
              "  <matplotlib.patches.Wedge at 0x7fedf27ca040>],\n",
              " [Text(0.49557961414786905, 0.98203912653267, 'Keluarga Kecil'),\n",
              "  Text(-1.0695897293404308, -0.2568614624451552, 'Keluarga Menengah'),\n",
              "  Text(0.711195337802362, -0.8391669628197861, 'Kelaurga Besar')],\n",
              " [Text(0.2703161531715649, 0.5356577053814563, '35%'),\n",
              "  Text(-0.583412579640235, -0.1401062522428119, '37%'),\n",
              "  Text(0.3879247297103792, -0.4577274342653378, '28%')])"
            ]
          },
          "execution_count": 16,
          "metadata": {},
          "output_type": "execute_result"
        },
        {
          "data": {
            "image/png": "[encoded data removed]",
            "text/plain": [
              "<Figure size 432x288 with 1 Axes>"
            ]
          },
          "metadata": {},
          "output_type": "display_data"
        }
      ],
      "source": [
        "# Buat kategorisasi dari data jumlah kamarnya\n",
        "min_price = df['kamar'].min()\n",
        "max_price = df['kamar'].max()\n",
        "q = df['kamar'].quantile([.25, .5, .75])\n",
        "q\n",
        "\n",
        "kmr_kcl = df.loc[df['kamar'] <= q[0.25]]\n",
        "kmr_mng = df.loc[(df['kamar'] > q[0.25]) & (df['kamar'] <= q[0.50])]\n",
        "kmr_bsr = df.loc[df['kamar'] > q[0.50]]\n",
        "\n",
        "plt.pie([len(kmr_kcl), \n",
        "         len(kmr_mng), \n",
        "         len(kmr_bsr)], \n",
        "        labels = ['Keluarga Kecil', 'Keluarga Menengah', 'Kelaurga Besar'], \n",
        "        autopct='%.0f%%')"
      ]
    },
    {
      "cell_type": "code",
      "execution_count": null,
      "metadata": {
        "colab": {
          "base_uri": "https://localhost:8080/",
          "height": 409
        },
        "id": "56FKbtjdGJkd",
        "outputId": "49a442e2-dc60-41a9-88f5-371267a617ae"
      },
      "outputs": [
        {
          "data": {
            "text/plain": [
              "([<matplotlib.patches.Wedge at 0x7fedf27880a0>,\n",
              "  <matplotlib.patches.Wedge at 0x7fedf2788550>,\n",
              "  <matplotlib.patches.Wedge at 0x7fedf2788be0>],\n",
              " [Text(0.7762535138198378, 0.7793782664934629, 'Cluster Minimalis'),\n",
              "  Text(-0.7927730346372328, 0.7625686300603199, ' Cluster Premium'),\n",
              "  Text(0.019148578927327905, -1.099833320064938, 'Cluster Exclusive')],\n",
              " [Text(0.4234110075380933, 0.4251154180873433, '25%'),\n",
              "  Text(-0.43242165525667237, 0.4159465254874472, '25%'),\n",
              "  Text(0.010444679414906129, -0.5999090836717842, '49%')])"
            ]
          },
          "execution_count": 17,
          "metadata": {},
          "output_type": "execute_result"
        },
        {
          "data": {
            "image/png": "[encoded data removed]",
            "text/plain": [
              "<Figure size 432x288 with 1 Axes>"
            ]
          },
          "metadata": {},
          "output_type": "display_data"
        }
      ],
      "source": [
        "# Buat kategorisasi dari data harga min, max, dan quantile, kemudian buat labeling dengan nama Cluster Minimalis, Cluster Premium, Cluster Exclusive\n",
        "min_price = df['harga'].min()\n",
        "max_price = df['harga'].max()\n",
        "q = df['harga'].quantile([.25, .5, .75])\n",
        "q\n",
        "\n",
        "low_price_house = df.loc[df[\"harga\"] <= q[0.25]]\n",
        "mid_price_house = df.loc[(df[\"harga\"] > q[0.25]) & (df[\"harga\"] <= q[0.50])]\n",
        "high_price_house = df.loc[df[\"harga\"] > q[0.50]]\n",
        "\n",
        "plt.pie([len(low_price_house), \n",
        "         len(mid_price_house), \n",
        "         len(high_price_house)], \n",
        "        labels = ['Cluster Minimalis', ' Cluster Premium', 'Cluster Exclusive'],\n",
        "        autopct='%.0f%%')"
      ]
    },
    {
      "cell_type": "code",
      "execution_count": null,
      "metadata": {
        "colab": {
          "base_uri": "https://localhost:8080/",
          "height": 211
        },
        "id": "jDHj0ZMvxtof",
        "outputId": "565ba8de-15e0-4551-a2ca-519aab3b8443"
      },
      "outputs": [
        {
          "name": "stderr",
          "output_type": "stream",
          "text": [
            "<ipython-input-18-a8f37df305d0>:2: FutureWarning: this method is deprecated in favour of `Styler.format(precision=..)`\n",
            "  df.corr().style.background_gradient().set_precision(2)\n"
          ]
        },
        {
          "data": {
            "text/html": [
              "<style type=\"text/css\">\n",
              "#T_59d2b_row0_col0, #T_59d2b_row1_col1, #T_59d2b_row2_col2, #T_59d2b_row3_col3 {\n",
              "  background-color: #023858;\n",
              "  color: #f1f1f1;\n",
              "}\n",
              "#T_59d2b_row0_col1, #T_59d2b_row0_col2, #T_59d2b_row0_col3, #T_59d2b_row3_col0 {\n",
              "  background-color: #fff7fb;\n",
              "  color: #000000;\n",
              "}\n",
              "#T_59d2b_row1_col0 {\n",
              "  background-color: #a1bbda;\n",
              "  color: #000000;\n",
              "}\n",
              "#T_59d2b_row1_col2 {\n",
              "  background-color: #4c99c5;\n",
              "  color: #f1f1f1;\n",
              "}\n",
              "#T_59d2b_row1_col3 {\n",
              "  background-color: #69a5cc;\n",
              "  color: #f1f1f1;\n",
              "}\n",
              "#T_59d2b_row2_col0 {\n",
              "  background-color: #d9d8ea;\n",
              "  color: #000000;\n",
              "}\n",
              "#T_59d2b_row2_col1 {\n",
              "  background-color: #86b0d3;\n",
              "  color: #000000;\n",
              "}\n",
              "#T_59d2b_row2_col3 {\n",
              "  background-color: #2081b9;\n",
              "  color: #f1f1f1;\n",
              "}\n",
              "#T_59d2b_row3_col1 {\n",
              "  background-color: #d8d7e9;\n",
              "  color: #000000;\n",
              "}\n",
              "#T_59d2b_row3_col2 {\n",
              "  background-color: #4295c3;\n",
              "  color: #f1f1f1;\n",
              "}\n",
              "</style>\n",
              "<table id=\"T_59d2b_\" class=\"dataframe\">\n",
              "  <thead>\n",
              "    <tr>\n",
              "      <th class=\"blank level0\" >&nbsp;</th>\n",
              "      <th class=\"col_heading level0 col0\" >kamar</th>\n",
              "      <th class=\"col_heading level0 col1\" >bangunan</th>\n",
              "      <th class=\"col_heading level0 col2\" >lahan</th>\n",
              "      <th class=\"col_heading level0 col3\" >harga</th>\n",
              "    </tr>\n",
              "  </thead>\n",
              "  <tbody>\n",
              "    <tr>\n",
              "      <th id=\"T_59d2b_level0_row0\" class=\"row_heading level0 row0\" >kamar</th>\n",
              "      <td id=\"T_59d2b_row0_col0\" class=\"data row0 col0\" >1.00</td>\n",
              "      <td id=\"T_59d2b_row0_col1\" class=\"data row0 col1\" >0.54</td>\n",
              "      <td id=\"T_59d2b_row0_col2\" class=\"data row0 col2\" >0.41</td>\n",
              "      <td id=\"T_59d2b_row0_col3\" class=\"data row0 col3\" >0.25</td>\n",
              "    </tr>\n",
              "    <tr>\n",
              "      <th id=\"T_59d2b_level0_row1\" class=\"row_heading level0 row1\" >bangunan</th>\n",
              "      <td id=\"T_59d2b_row1_col0\" class=\"data row1 col0\" >0.54</td>\n",
              "      <td id=\"T_59d2b_row1_col1\" class=\"data row1 col1\" >1.00</td>\n",
              "      <td id=\"T_59d2b_row1_col2\" class=\"data row1 col2\" >0.75</td>\n",
              "      <td id=\"T_59d2b_row1_col3\" class=\"data row1 col3\" >0.64</td>\n",
              "    </tr>\n",
              "    <tr>\n",
              "      <th id=\"T_59d2b_level0_row2\" class=\"row_heading level0 row2\" >lahan</th>\n",
              "      <td id=\"T_59d2b_row2_col0\" class=\"data row2 col0\" >0.41</td>\n",
              "      <td id=\"T_59d2b_row2_col1\" class=\"data row2 col1\" >0.75</td>\n",
              "      <td id=\"T_59d2b_row2_col2\" class=\"data row2 col2\" >1.00</td>\n",
              "      <td id=\"T_59d2b_row2_col3\" class=\"data row2 col3\" >0.76</td>\n",
              "    </tr>\n",
              "    <tr>\n",
              "      <th id=\"T_59d2b_level0_row3\" class=\"row_heading level0 row3\" >harga</th>\n",
              "      <td id=\"T_59d2b_row3_col0\" class=\"data row3 col0\" >0.25</td>\n",
              "      <td id=\"T_59d2b_row3_col1\" class=\"data row3 col1\" >0.64</td>\n",
              "      <td id=\"T_59d2b_row3_col2\" class=\"data row3 col2\" >0.76</td>\n",
              "      <td id=\"T_59d2b_row3_col3\" class=\"data row3 col3\" >1.00</td>\n",
              "    </tr>\n",
              "  </tbody>\n",
              "</table>\n"
            ],
            "text/plain": [
              "<pandas.io.formats.style.Styler at 0x7fedf285d220>"
            ]
          },
          "execution_count": 18,
          "metadata": {},
          "output_type": "execute_result"
        }
      ],
      "source": [
        "# Mengetahui nilai korelasi independent dan dependent variable\n",
        "df.corr().style.background_gradient().set_precision(2)"
      ]
    },
    {
      "cell_type": "markdown",
      "metadata": {
        "id": "5XQ1z0ta24D9"
      },
      "source": [
        "```\n",
        "Urutan feature yang mempengaruhi harga properti di bandung\n",
        "*  Lahan\n",
        "*  Bangunan\n",
        "*  Kamar\n",
        "```"
      ]
    },
    {
      "cell_type": "markdown",
      "metadata": {
        "id": "C_T1lvJ33uK3"
      },
      "source": [
        "### Setelah mengetahui karakteristik data, kita lanjut modeling"
      ]
    },
    {
      "cell_type": "code",
      "execution_count": null,
      "metadata": {
        "colab": {
          "base_uri": "https://localhost:8080/"
        },
        "id": "uam-oq6C2wdG",
        "outputId": "63a48da3-18ca-42a1-cdc8-0c481e10a2ba"
      },
      "outputs": [
        {
          "name": "stdout",
          "output_type": "stream",
          "text": [
            "coef: [-4.33428397e+08  8.25901653e+06  1.51779774e+07]\n",
            "intercept: -156213073.61739874\n"
          ]
        }
      ],
      "source": [
        "# Pertama, buat variabel x dan y\n",
        "x = df.drop(columns='harga')# kamar, lb, lt, \n",
        "y = df['harga'] # harga\n",
        "\n",
        "# 1140--> 80%  --> 912 data training\n",
        "# 228 --> 20%--> data testing\n",
        "# Kedua, split data training dan testing dengan porsi 80:20\n",
        "x_train, x_test, y_train, y_test = train_test_split(x, y, test_size=0.2, random_state=4)\n",
        "\n",
        "# Ketiga, buat model regresi linear\n",
        "lin_reg = LinearRegression()\n",
        "\n",
        "# Keempat, train model menggunakan data training yang sudah di split\n",
        "lin_reg.fit(x_train, y_train)\n",
        "\n",
        "# Kelima, cari tau nilai slope/koefisien (m) dan intercept (b).\n",
        "print(\"coef:\", lin_reg.coef_)\n",
        "print(\"intercept:\", lin_reg.intercept_)"
      ]
    },
    {
      "cell_type": "code",
      "execution_count": null,
      "metadata": {
        "colab": {
          "base_uri": "https://localhost:8080/",
          "height": 455
        },
        "id": "d8PHYDzJI3WW",
        "outputId": "f72853c7-861d-4ca2-9598-ad561da2966e"
      },
      "outputs": [
        {
          "data": {
            "text/html": [
              "\n",
              "  <div id=\"df-7c6c1d6a-9741-4fe4-844e-60bbca0637b7\">\n",
              "    <div class=\"colab-df-container\">\n",
              "      <div>\n",
              "<style scoped>\n",
              "    .dataframe tbody tr th:only-of-type {\n",
              "        vertical-align: middle;\n",
              "    }\n",
              "\n",
              "    .dataframe tbody tr th {\n",
              "        vertical-align: top;\n",
              "    }\n",
              "\n",
              "    .dataframe thead th {\n",
              "        text-align: right;\n",
              "    }\n",
              "</style>\n",
              "<table border=\"1\" class=\"dataframe\">\n",
              "  <thead>\n",
              "    <tr style=\"text-align: right;\">\n",
              "      <th></th>\n",
              "      <th>kamar</th>\n",
              "      <th>bangunan</th>\n",
              "      <th>lahan</th>\n",
              "    </tr>\n",
              "    <tr>\n",
              "      <th>harga</th>\n",
              "      <th></th>\n",
              "      <th></th>\n",
              "      <th></th>\n",
              "    </tr>\n",
              "  </thead>\n",
              "  <tbody>\n",
              "    <tr>\n",
              "      <th>65000000</th>\n",
              "      <td>2</td>\n",
              "      <td>21</td>\n",
              "      <td>35</td>\n",
              "    </tr>\n",
              "    <tr>\n",
              "      <th>100000000</th>\n",
              "      <td>2</td>\n",
              "      <td>30</td>\n",
              "      <td>40</td>\n",
              "    </tr>\n",
              "    <tr>\n",
              "      <th>115000000</th>\n",
              "      <td>2</td>\n",
              "      <td>36</td>\n",
              "      <td>60</td>\n",
              "    </tr>\n",
              "    <tr>\n",
              "      <th>130000000</th>\n",
              "      <td>2</td>\n",
              "      <td>30</td>\n",
              "      <td>50</td>\n",
              "    </tr>\n",
              "    <tr>\n",
              "      <th>135000000</th>\n",
              "      <td>2</td>\n",
              "      <td>36</td>\n",
              "      <td>48</td>\n",
              "    </tr>\n",
              "    <tr>\n",
              "      <th>...</th>\n",
              "      <td>...</td>\n",
              "      <td>...</td>\n",
              "      <td>...</td>\n",
              "    </tr>\n",
              "    <tr>\n",
              "      <th>22000000000</th>\n",
              "      <td>4</td>\n",
              "      <td>177</td>\n",
              "      <td>679</td>\n",
              "    </tr>\n",
              "    <tr>\n",
              "      <th>34000000000</th>\n",
              "      <td>0</td>\n",
              "      <td>500</td>\n",
              "      <td>850</td>\n",
              "    </tr>\n",
              "    <tr>\n",
              "      <th>38000000000</th>\n",
              "      <td>4</td>\n",
              "      <td>600</td>\n",
              "      <td>800</td>\n",
              "    </tr>\n",
              "    <tr>\n",
              "      <th>40000000000</th>\n",
              "      <td>3</td>\n",
              "      <td>600</td>\n",
              "      <td>861</td>\n",
              "    </tr>\n",
              "    <tr>\n",
              "      <th>43000000000</th>\n",
              "      <td>4</td>\n",
              "      <td>650</td>\n",
              "      <td>900</td>\n",
              "    </tr>\n",
              "  </tbody>\n",
              "</table>\n",
              "<p>429 rows × 3 columns</p>\n",
              "</div>\n",
              "      <button class=\"colab-df-convert\" onclick=\"convertToInteractive('df-7c6c1d6a-9741-4fe4-844e-60bbca0637b7')\"\n",
              "              title=\"Convert this dataframe to an interactive table.\"\n",
              "              style=\"display:none;\">\n",
              "        \n",
              "  <svg xmlns=\"http://www.w3.org/2000/svg\" height=\"24px\"viewBox=\"0 0 24 24\"\n",
              "       width=\"24px\">\n",
              "    <path d=\"M0 0h24v24H0V0z\" fill=\"none\"/>\n",
              "    <path d=\"M18.56 5.44l.94 2.06.94-2.06 2.06-.94-2.06-.94-.94-2.06-.94 2.06-2.06.94zm-11 1L8.5 8.5l.94-2.06 2.06-.94-2.06-.94L8.5 2.5l-.94 2.06-2.06.94zm10 10l.94 2.06.94-2.06 2.06-.94-2.06-.94-.94-2.06-.94 2.06-2.06.94z\"/><path d=\"M17.41 7.96l-1.37-1.37c-.4-.4-.92-.59-1.43-.59-.52 0-1.04.2-1.43.59L10.3 9.45l-7.72 7.72c-.78.78-.78 2.05 0 2.83L4 21.41c.39.39.9.59 1.41.59.51 0 1.02-.2 1.41-.59l7.78-7.78 2.81-2.81c.8-.78.8-2.07 0-2.86zM5.41 20L4 18.59l7.72-7.72 1.47 1.35L5.41 20z\"/>\n",
              "  </svg>\n",
              "      </button>\n",
              "      \n",
              "  <style>\n",
              "    .colab-df-container {\n",
              "      display:flex;\n",
              "      flex-wrap:wrap;\n",
              "      gap: 12px;\n",
              "    }\n",
              "\n",
              "    .colab-df-convert {\n",
              "      background-color: #E8F0FE;\n",
              "      border: none;\n",
              "      border-radius: 50%;\n",
              "      cursor: pointer;\n",
              "      display: none;\n",
              "      fill: #1967D2;\n",
              "      height: 32px;\n",
              "      padding: 0 0 0 0;\n",
              "      width: 32px;\n",
              "    }\n",
              "\n",
              "    .colab-df-convert:hover {\n",
              "      background-color: #E2EBFA;\n",
              "      box-shadow: 0px 1px 2px rgba(60, 64, 67, 0.3), 0px 1px 3px 1px rgba(60, 64, 67, 0.15);\n",
              "      fill: #174EA6;\n",
              "    }\n",
              "\n",
              "    [theme=dark] .colab-df-convert {\n",
              "      background-color: #3B4455;\n",
              "      fill: #D2E3FC;\n",
              "    }\n",
              "\n",
              "    [theme=dark] .colab-df-convert:hover {\n",
              "      background-color: #434B5C;\n",
              "      box-shadow: 0px 1px 3px 1px rgba(0, 0, 0, 0.15);\n",
              "      filter: drop-shadow(0px 1px 2px rgba(0, 0, 0, 0.3));\n",
              "      fill: #FFFFFF;\n",
              "    }\n",
              "  </style>\n",
              "\n",
              "      <script>\n",
              "        const buttonEl =\n",
              "          document.querySelector('#df-7c6c1d6a-9741-4fe4-844e-60bbca0637b7 button.colab-df-convert');\n",
              "        buttonEl.style.display =\n",
              "          google.colab.kernel.accessAllowed ? 'block' : 'none';\n",
              "\n",
              "        async function convertToInteractive(key) {\n",
              "          const element = document.querySelector('#df-7c6c1d6a-9741-4fe4-844e-60bbca0637b7');\n",
              "          const dataTable =\n",
              "            await google.colab.kernel.invokeFunction('convertToInteractive',\n",
              "                                                     [key], {});\n",
              "          if (!dataTable) return;\n",
              "\n",
              "          const docLinkHtml = 'Like what you see? Visit the ' +\n",
              "            '<a target=\"_blank\" href=https://colab.research.google.com/notebooks/data_table.ipynb>data table notebook</a>'\n",
              "            + ' to learn more about interactive tables.';\n",
              "          element.innerHTML = '';\n",
              "          dataTable['output_type'] = 'display_data';\n",
              "          await google.colab.output.renderOutput(dataTable, element);\n",
              "          const docLink = document.createElement('div');\n",
              "          docLink.innerHTML = docLinkHtml;\n",
              "          element.appendChild(docLink);\n",
              "        }\n",
              "      </script>\n",
              "    </div>\n",
              "  </div>\n",
              "  "
            ],
            "text/plain": [
              "             kamar  bangunan  lahan\n",
              "harga                              \n",
              "65000000         2        21     35\n",
              "100000000        2        30     40\n",
              "115000000        2        36     60\n",
              "130000000        2        30     50\n",
              "135000000        2        36     48\n",
              "...            ...       ...    ...\n",
              "22000000000      4       177    679\n",
              "34000000000      0       500    850\n",
              "38000000000      4       600    800\n",
              "40000000000      3       600    861\n",
              "43000000000      4       650    900\n",
              "\n",
              "[429 rows x 3 columns]"
            ]
          },
          "execution_count": 21,
          "metadata": {},
          "output_type": "execute_result"
        }
      ],
      "source": [
        "\n",
        "df = df.groupby(\"harga\")\n",
        "df.first()"
      ]
    },
    {
      "cell_type": "code",
      "execution_count": null,
      "metadata": {
        "colab": {
          "base_uri": "https://localhost:8080/",
          "height": 143
        },
        "id": "AmOFc5U750qZ",
        "outputId": "99570e0c-7c4c-4f8a-a494-a07e1c88e4e3"
      },
      "outputs": [
        {
          "data": {
            "text/html": [
              "\n",
              "  <div id=\"df-3d97e8b4-6bed-415f-8b25-b413e619b0d0\">\n",
              "    <div class=\"colab-df-container\">\n",
              "      <div>\n",
              "<style scoped>\n",
              "    .dataframe tbody tr th:only-of-type {\n",
              "        vertical-align: middle;\n",
              "    }\n",
              "\n",
              "    .dataframe tbody tr th {\n",
              "        vertical-align: top;\n",
              "    }\n",
              "\n",
              "    .dataframe thead th {\n",
              "        text-align: right;\n",
              "    }\n",
              "</style>\n",
              "<table border=\"1\" class=\"dataframe\">\n",
              "  <thead>\n",
              "    <tr style=\"text-align: right;\">\n",
              "      <th></th>\n",
              "      <th>features</th>\n",
              "      <th>coef_value</th>\n",
              "    </tr>\n",
              "  </thead>\n",
              "  <tbody>\n",
              "    <tr>\n",
              "      <th>0</th>\n",
              "      <td>kamar</td>\n",
              "      <td>-4.334284e+08</td>\n",
              "    </tr>\n",
              "    <tr>\n",
              "      <th>1</th>\n",
              "      <td>bangunan</td>\n",
              "      <td>8.259017e+06</td>\n",
              "    </tr>\n",
              "    <tr>\n",
              "      <th>2</th>\n",
              "      <td>lahan</td>\n",
              "      <td>1.517798e+07</td>\n",
              "    </tr>\n",
              "  </tbody>\n",
              "</table>\n",
              "</div>\n",
              "      <button class=\"colab-df-convert\" onclick=\"convertToInteractive('df-3d97e8b4-6bed-415f-8b25-b413e619b0d0')\"\n",
              "              title=\"Convert this dataframe to an interactive table.\"\n",
              "              style=\"display:none;\">\n",
              "        \n",
              "  <svg xmlns=\"http://www.w3.org/2000/svg\" height=\"24px\"viewBox=\"0 0 24 24\"\n",
              "       width=\"24px\">\n",
              "    <path d=\"M0 0h24v24H0V0z\" fill=\"none\"/>\n",
              "    <path d=\"M18.56 5.44l.94 2.06.94-2.06 2.06-.94-2.06-.94-.94-2.06-.94 2.06-2.06.94zm-11 1L8.5 8.5l.94-2.06 2.06-.94-2.06-.94L8.5 2.5l-.94 2.06-2.06.94zm10 10l.94 2.06.94-2.06 2.06-.94-2.06-.94-.94-2.06-.94 2.06-2.06.94z\"/><path d=\"M17.41 7.96l-1.37-1.37c-.4-.4-.92-.59-1.43-.59-.52 0-1.04.2-1.43.59L10.3 9.45l-7.72 7.72c-.78.78-.78 2.05 0 2.83L4 21.41c.39.39.9.59 1.41.59.51 0 1.02-.2 1.41-.59l7.78-7.78 2.81-2.81c.8-.78.8-2.07 0-2.86zM5.41 20L4 18.59l7.72-7.72 1.47 1.35L5.41 20z\"/>\n",
              "  </svg>\n",
              "      </button>\n",
              "      \n",
              "  <style>\n",
              "    .colab-df-container {\n",
              "      display:flex;\n",
              "      flex-wrap:wrap;\n",
              "      gap: 12px;\n",
              "    }\n",
              "\n",
              "    .colab-df-convert {\n",
              "      background-color: #E8F0FE;\n",
              "      border: none;\n",
              "      border-radius: 50%;\n",
              "      cursor: pointer;\n",
              "      display: none;\n",
              "      fill: #1967D2;\n",
              "      height: 32px;\n",
              "      padding: 0 0 0 0;\n",
              "      width: 32px;\n",
              "    }\n",
              "\n",
              "    .colab-df-convert:hover {\n",
              "      background-color: #E2EBFA;\n",
              "      box-shadow: 0px 1px 2px rgba(60, 64, 67, 0.3), 0px 1px 3px 1px rgba(60, 64, 67, 0.15);\n",
              "      fill: #174EA6;\n",
              "    }\n",
              "\n",
              "    [theme=dark] .colab-df-convert {\n",
              "      background-color: #3B4455;\n",
              "      fill: #D2E3FC;\n",
              "    }\n",
              "\n",
              "    [theme=dark] .colab-df-convert:hover {\n",
              "      background-color: #434B5C;\n",
              "      box-shadow: 0px 1px 3px 1px rgba(0, 0, 0, 0.15);\n",
              "      filter: drop-shadow(0px 1px 2px rgba(0, 0, 0, 0.3));\n",
              "      fill: #FFFFFF;\n",
              "    }\n",
              "  </style>\n",
              "\n",
              "      <script>\n",
              "        const buttonEl =\n",
              "          document.querySelector('#df-3d97e8b4-6bed-415f-8b25-b413e619b0d0 button.colab-df-convert');\n",
              "        buttonEl.style.display =\n",
              "          google.colab.kernel.accessAllowed ? 'block' : 'none';\n",
              "\n",
              "        async function convertToInteractive(key) {\n",
              "          const element = document.querySelector('#df-3d97e8b4-6bed-415f-8b25-b413e619b0d0');\n",
              "          const dataTable =\n",
              "            await google.colab.kernel.invokeFunction('convertToInteractive',\n",
              "                                                     [key], {});\n",
              "          if (!dataTable) return;\n",
              "\n",
              "          const docLinkHtml = 'Like what you see? Visit the ' +\n",
              "            '<a target=\"_blank\" href=https://colab.research.google.com/notebooks/data_table.ipynb>data table notebook</a>'\n",
              "            + ' to learn more about interactive tables.';\n",
              "          element.innerHTML = '';\n",
              "          dataTable['output_type'] = 'display_data';\n",
              "          await google.colab.output.renderOutput(dataTable, element);\n",
              "          const docLink = document.createElement('div');\n",
              "          docLink.innerHTML = docLinkHtml;\n",
              "          element.appendChild(docLink);\n",
              "        }\n",
              "      </script>\n",
              "    </div>\n",
              "  </div>\n",
              "  "
            ],
            "text/plain": [
              "   features    coef_value\n",
              "0     kamar -4.334284e+08\n",
              "1  bangunan  8.259017e+06\n",
              "2     lahan  1.517798e+07"
            ]
          },
          "execution_count": 22,
          "metadata": {},
          "output_type": "execute_result"
        }
      ],
      "source": [
        "coef_dict = {\n",
        "    'features': x.columns,\n",
        "    'coef_value' : lin_reg.coef_\n",
        "}\n",
        "coef = pd.DataFrame(coef_dict, columns=['features', 'coef_value'])\n",
        "coef"
      ]
    },
    {
      "cell_type": "markdown",
      "metadata": {
        "id": "8lZwJ_Jz_kOJ"
      },
      "source": [
        "```\n",
        "Y = -4.3x1 + 14477300.94x2 + 11010915.01x3\n",
        "```"
      ]
    },
    {
      "cell_type": "code",
      "execution_count": null,
      "metadata": {
        "id": "ZWIkAwCU_h6e"
      },
      "outputs": [],
      "source": [
        "y_pred = lin_reg.predict(x_test)"
      ]
    },
    {
      "cell_type": "code",
      "execution_count": null,
      "metadata": {
        "colab": {
          "base_uri": "https://localhost:8080/"
        },
        "id": "cfi-r5qc_5F6",
        "outputId": "04ebfe6f-e7bc-46a2-f062-4ad359d073b1"
      },
      "outputs": [
        {
          "data": {
            "text/plain": [
              "0.7317353135318809"
            ]
          },
          "execution_count": 24,
          "metadata": {},
          "output_type": "execute_result"
        }
      ],
      "source": [
        "#Keenam, kita cari tahu accuracy score dari model kita menggunakan testing data yang sudah displit\n",
        "lin_reg.score(x_test, y_test)"
      ]
    },
    {
      "cell_type": "code",
      "execution_count": null,
      "metadata": {
        "colab": {
          "base_uri": "https://localhost:8080/"
        },
        "id": "y8qE6y9ZAB8K",
        "outputId": "a9974c96-f426-4d03-ac53-267bea3f0403"
      },
      "outputs": [
        {
          "name": "stdout",
          "output_type": "stream",
          "text": [
            "Rp 2,244,708,725.41\n"
          ]
        },
        {
          "name": "stderr",
          "output_type": "stream",
          "text": [
            "/usr/local/lib/python3.8/dist-packages/sklearn/base.py:450: UserWarning: X does not have valid feature names, but LinearRegression was fitted with feature names\n",
            "  warnings.warn(\n"
          ]
        }
      ],
      "source": [
        "# Hands On Prediction dengan custom parameter features \n",
        "# 1. kamar = 2\n",
        "# 2. Luas bangunan = 120\n",
        "# 3. Luas Tanah = 150\n",
        "predict = lin_reg.predict([[2,120,150]])\n",
        "predict = round(float(predict),2)\n",
        "\n",
        "prediksi = \"{:,}\".format(predict)\n",
        "print(\"Rp\", prediksi)"
      ]
    },
    {
      "cell_type": "code",
      "execution_count": null,
      "metadata": {
        "id": "dN41T4mule-w"
      },
      "outputs": [],
      "source": []
    }
  ],
  "metadata": {
    "colab": {
      "provenance": []
    },
    "kernelspec": {
      "display_name": "Python 3",
      "name": "python3"
    },
    "language_info": {
      "name": "python"
    }
  },
  "nbformat": 4,
  "nbformat_minor": 0
}
