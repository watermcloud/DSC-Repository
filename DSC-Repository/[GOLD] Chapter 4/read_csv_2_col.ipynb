{
 "cells": [
  {
   "attachments": {},
   "cell_type": "markdown",
   "metadata": {},
   "source": [
    "Membaca data dan menambah baris baru untuk header"
   ]
  },
  {
   "cell_type": "code",
   "execution_count": 1,
   "metadata": {},
   "outputs": [
    {
     "data": {
      "text/html": [
       "<div>\n",
       "<style scoped>\n",
       "    .dataframe tbody tr th:only-of-type {\n",
       "        vertical-align: middle;\n",
       "    }\n",
       "\n",
       "    .dataframe tbody tr th {\n",
       "        vertical-align: top;\n",
       "    }\n",
       "\n",
       "    .dataframe thead th {\n",
       "        text-align: right;\n",
       "    }\n",
       "</style>\n",
       "<table border=\"1\" class=\"dataframe\">\n",
       "  <thead>\n",
       "    <tr style=\"text-align: right;\">\n",
       "      <th></th>\n",
       "      <th>jaksel</th>\n",
       "      <th>kbbi</th>\n",
       "    </tr>\n",
       "  </thead>\n",
       "  <tbody>\n",
       "    <tr>\n",
       "      <th>0</th>\n",
       "      <td>literally</td>\n",
       "      <td>pada dasarnya</td>\n",
       "    </tr>\n",
       "    <tr>\n",
       "      <th>1</th>\n",
       "      <td>which is</td>\n",
       "      <td>di mana</td>\n",
       "    </tr>\n",
       "    <tr>\n",
       "      <th>2</th>\n",
       "      <td>hectic</td>\n",
       "      <td>sibuk</td>\n",
       "    </tr>\n",
       "    <tr>\n",
       "      <th>3</th>\n",
       "      <td>t3tapjokowi</td>\n",
       "      <td>tetap jokowi</td>\n",
       "    </tr>\n",
       "    <tr>\n",
       "      <th>4</th>\n",
       "      <td>3x</td>\n",
       "      <td>tiga kali</td>\n",
       "    </tr>\n",
       "    <tr>\n",
       "      <th>5</th>\n",
       "      <td>anxiety</td>\n",
       "      <td>cemas</td>\n",
       "    </tr>\n",
       "  </tbody>\n",
       "</table>\n",
       "</div>"
      ],
      "text/plain": [
       "        jaksel           kbbi\n",
       "0    literally  pada dasarnya\n",
       "1     which is        di mana\n",
       "2       hectic          sibuk\n",
       "3  t3tapjokowi   tetap jokowi\n",
       "4           3x      tiga kali\n",
       "5      anxiety          cemas"
      ]
     },
     "execution_count": 1,
     "metadata": {},
     "output_type": "execute_result"
    }
   ],
   "source": [
    "import pandas as pd\n",
    "\n",
    "df = pd.read_csv(\"dummy_alay.csv\", header=None, names=[\"jaksel\", \"kbbi\"])\n",
    "df"
   ]
  },
  {
   "attachments": {},
   "cell_type": "markdown",
   "metadata": {},
   "source": [
    "Looping kolom pertama"
   ]
  },
  {
   "cell_type": "code",
   "execution_count": 7,
   "metadata": {},
   "outputs": [
    {
     "name": "stdout",
     "output_type": "stream",
     "text": [
      "['literally', 'which is', 'hectic', 't3tapjokowi', '3x', 'anxiety']\n"
     ]
    }
   ],
   "source": [
    "import pandas as pd\n",
    "\n",
    "list_jaksel = df['jaksel'].tolist()\n",
    "\n",
    "jaksel_arr = []\n",
    "\n",
    "for i, df_jaksel in enumerate(list_jaksel):\n",
    "    jaksel_arr.append(df_jaksel)\n",
    "\n",
    "print(jaksel_arr)"
   ]
  },
  {
   "attachments": {},
   "cell_type": "markdown",
   "metadata": {},
   "source": [
    "Looping kolom kedua"
   ]
  },
  {
   "cell_type": "code",
   "execution_count": 3,
   "metadata": {},
   "outputs": [
    {
     "name": "stdout",
     "output_type": "stream",
     "text": [
      "['pada dasarnya', 'di mana', 'sibuk', 'tetap jokowi', 'tiga kali', 'cemas']\n"
     ]
    }
   ],
   "source": [
    "list_kbbi = df['kbbi'].tolist()\n",
    "\n",
    "arr_kbbi = []\n",
    "\n",
    "for df_kbbi in list_kbbi:\n",
    "    arr_kbbi.append(df_kbbi)\n",
    "\n",
    "print(arr_kbbi)"
   ]
  }
 ],
 "metadata": {
  "kernelspec": {
   "display_name": "venv",
   "language": "python",
   "name": "python3"
  },
  "language_info": {
   "codemirror_mode": {
    "name": "ipython",
    "version": 3
   },
   "file_extension": ".py",
   "mimetype": "text/x-python",
   "name": "python",
   "nbconvert_exporter": "python",
   "pygments_lexer": "ipython3",
   "version": "3.8.2"
  },
  "orig_nbformat": 4
 },
 "nbformat": 4,
 "nbformat_minor": 2
}
