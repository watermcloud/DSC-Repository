{
 "cells": [
  {
   "attachments": {},
   "cell_type": "markdown",
   "metadata": {},
   "source": [
    "# Pembuatan Variable\n",
    "note: set nama variable dengan singaktan yang dimengerti programmer lain"
   ]
  },
  {
   "cell_type": "code",
   "execution_count": null,
   "metadata": {},
   "outputs": [],
   "source": [
    "# tidak disarankan\n",
    "tp = 1000\n",
    "\n",
    "# direkomendasikan\n",
    "total_pegawai = 1000"
   ]
  },
  {
   "attachments": {},
   "cell_type": "markdown",
   "metadata": {},
   "source": [
    "buat variable yang konsisten dan kasih komentar buat setiap baris code"
   ]
  },
  {
   "cell_type": "code",
   "execution_count": null,
   "metadata": {},
   "outputs": [],
   "source": [
    "# import library dataframe\n",
    "import pandas as pd\n",
    "\n",
    "#library konektor sqlite\n",
    "import sqlite3\n",
    "\n",
    "#read data\n",
    "df = pd.read_csv(\"data.csv\")\n",
    "\n",
    "#buat koneksi database\n",
    "conn = sqlite3.connect('data.db')\n",
    "\n",
    "# buat tabel didalam database, database di assign pada variable conn, isi table ga pakai index\n",
    "df.to_sql('nama_table', conn, if_exists='replace', index=False)\n",
    "\n",
    "# tutup koneksi db\n",
    "conn.close()"
   ]
  },
  {
   "cell_type": "code",
   "execution_count": null,
   "metadata": {},
   "outputs": [],
   "source": [
    "# tidak disarankan\n",
    "c = [\"UK\", \"USA\", \"UAE\"]\n",
    "\n",
    "for x in c:\n",
    "    print(x)\n",
    "\n",
    "\n",
    "\"\"\"\n",
    "proses looping\n",
    "variable cities merupakan kode nama negara dengan tipe list\n",
    "UK : United Kingdom\n",
    "USA: United States\n",
    "IDN: Indonesia\n",
    "ZBW : Zimbabwe\n",
    "\n",
    "variable city akan menampung values dari variable cities\n",
    "proses looping ini akan menampilkan keluaran kode nama negara\n",
    "\"\"\"\n",
    "\n",
    "# direkomendasikan\n",
    "cities = [\"UK\", \"USA\", \"IDN\", \"ZBW\"]\n",
    "for city in cities:\n",
    "    print(city)\n"
   ]
  },
  {
   "attachments": {},
   "cell_type": "markdown",
   "metadata": {},
   "source": [
    "Hilangkan ambigu"
   ]
  },
  {
   "cell_type": "code",
   "execution_count": null,
   "metadata": {},
   "outputs": [],
   "source": [
    "# tidak disarankan\n",
    "fn = 'Fuguh'\n",
    "Ln = 'Budi'\n",
    "cre_tmstp = 1621535852\n",
    "\n",
    "# disarankan\n",
    "first_name = 'Fuguh'\n",
    "Las_name = 'Budi'"
   ]
  },
  {
   "attachments": {},
   "cell_type": "markdown",
   "metadata": {},
   "source": [
    "Ketika membuat fungsi, buatlah fokus pada 1 proses fungsi saja, jangan digabung dengan berbagai macam fungsi"
   ]
  },
  {
   "cell_type": "code",
   "execution_count": null,
   "metadata": {},
   "outputs": [],
   "source": [
    "# Not recommended\n",
    "def fetch_and_display_users():\n",
    "    users = [] # result from some api call\n",
    "\n",
    "    for user in users:\n",
    "        print(user)\n",
    "\n",
    "    return user\n",
    "\n",
    "# Recommended\n",
    "def fetch_users():\n",
    "    users = [] # menampung hasil data dari get API\n",
    "    return users\n",
    "\n",
    "def display_users(users):\n",
    "    for user in users:\n",
    "        print(user)"
   ]
  },
  {
   "attachments": {},
   "cell_type": "markdown",
   "metadata": {},
   "source": [
    "Jangan membuat redundant/duplikasi"
   ]
  },
  {
   "cell_type": "code",
   "execution_count": null,
   "metadata": {},
   "outputs": [],
   "source": [
    "# tidak direkomendasikan\n",
    "class Person:\n",
    "    def __init__(self, person_username, person_email, person_phone, person_address):\n",
    "        self.person_username = person_username\n",
    "        self.person_email = person_email\n",
    "        self.person_phone = person_phone\n",
    "        self.person_address = person_address\n",
    "\n",
    "# direkomendasikan\n",
    "class Person:\n",
    "    def __init__(self, username, email, phone, address):\n",
    "        self.username = username\n",
    "        self.email = email\n",
    "        self.phone = phone\n",
    "        self.address = address"
   ]
  }
 ],
 "metadata": {
  "language_info": {
   "name": "python"
  },
  "orig_nbformat": 4
 },
 "nbformat": 4,
 "nbformat_minor": 2
}
